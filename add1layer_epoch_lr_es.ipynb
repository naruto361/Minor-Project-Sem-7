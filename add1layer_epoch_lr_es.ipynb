{
 "cells": [
  {
   "cell_type": "code",
   "execution_count": 1,
   "id": "5e08256b",
   "metadata": {},
   "outputs": [
    {
     "name": "stdout",
     "output_type": "stream",
     "text": [
      "Number of GPUS :  1\n"
     ]
    },
    {
     "data": {
      "text/plain": [
       "True"
      ]
     },
     "execution_count": 1,
     "metadata": {},
     "output_type": "execute_result"
    }
   ],
   "source": [
    "import tensorflow as tf\n",
    "from tensorflow import keras\n",
    "print(\"Number of GPUS : \", len(tf.config.experimental.list_physical_devices('GPU')))\n",
    "tf.test.is_built_with_cuda()"
   ]
  },
  {
   "cell_type": "code",
   "execution_count": 2,
   "id": "471ac85c",
   "metadata": {},
   "outputs": [],
   "source": [
    "from keras.layers import Input, Lambda, Dense, Flatten\n",
    "from keras.models import Model\n",
    "\n",
    "from keras.callbacks import EarlyStopping\n",
    "from keras.applications.vgg16 import VGG16\n",
    "from keras.applications.vgg16 import preprocess_input\n",
    "from keras.preprocessing import image\n",
    "from keras.preprocessing.image import ImageDataGenerator\n",
    "from keras.models import Sequential\n",
    "import numpy as np\n",
    "from glob import glob\n",
    "import matplotlib.pyplot as plt\n",
    "from imblearn.under_sampling import RandomUnderSampler\n",
    "from PIL import Image\n",
    "from tqdm import tqdm"
   ]
  },
  {
   "cell_type": "code",
   "execution_count": 3,
   "id": "b5e849c6",
   "metadata": {},
   "outputs": [],
   "source": [
    "import glob\n",
    "import cv2"
   ]
  },
  {
   "cell_type": "code",
   "execution_count": 4,
   "id": "5bfebc30",
   "metadata": {},
   "outputs": [
    {
     "name": "stderr",
     "output_type": "stream",
     "text": [
      "0it [00:00, ?it/s]"
     ]
    },
    {
     "name": "stdout",
     "output_type": "stream",
     "text": [
      "../trainingdata\\normal\n"
     ]
    },
    {
     "name": "stderr",
     "output_type": "stream",
     "text": [
      "\n"
     ]
    }
   ],
   "source": [
    "\n",
    "x_train = []\n",
    "y_train = []\n",
    "x_test = []\n",
    "y_test = []\n",
    "# val=[]\n",
    "\n",
    "\n",
    "for images in tqdm(glob.iglob(f'../trainingdata/*')):\n",
    "    print(images)\n",
    "    break\n",
    "    label = fun(images)\n",
    "    x_train.append(cv2.imread(images, 0))\n",
    "    y_train.append(label)"
   ]
  },
  {
   "cell_type": "code",
   "execution_count": 5,
   "id": "e2f4ae44",
   "metadata": {},
   "outputs": [],
   "source": [
    "vgg = VGG16(input_shape=[224, 224] + [3], weights='imagenet', include_top=False)"
   ]
  },
  {
   "cell_type": "code",
   "execution_count": 6,
   "id": "78fbfa52",
   "metadata": {},
   "outputs": [],
   "source": [
    "for layer in vgg.layers:\n",
    "    layer.trainable = False"
   ]
  },
  {
   "cell_type": "code",
   "execution_count": 7,
   "id": "5b9aaa7f",
   "metadata": {},
   "outputs": [],
   "source": [
    "x = Flatten()(vgg.output)"
   ]
  },
  {
   "cell_type": "code",
   "execution_count": 8,
   "id": "7c112efd",
   "metadata": {},
   "outputs": [],
   "source": [
    "folders = glob.glob('../over/*')"
   ]
  },
  {
   "cell_type": "code",
   "execution_count": 9,
   "id": "18c937c9",
   "metadata": {},
   "outputs": [
    {
     "name": "stdout",
     "output_type": "stream",
     "text": [
      "2\n"
     ]
    }
   ],
   "source": [
    "print(len(folders))"
   ]
  },
  {
   "cell_type": "code",
   "execution_count": 10,
   "id": "dc3f9a61",
   "metadata": {},
   "outputs": [],
   "source": [
    "from keras.layers import Conv2D, Dropout"
   ]
  },
  {
   "cell_type": "code",
   "execution_count": 11,
   "id": "3635996e",
   "metadata": {},
   "outputs": [],
   "source": [
    "model = Sequential()\n",
    "\n",
    "for layer in vgg.layers:\n",
    "    model.add(layer)\n",
    "    \n",
    "\n",
    "model.add(Dropout(0.3))\n",
    "model.add(Conv2D(64, (3, 3), activation='relu', padding='same', name='additional_layer') )\n",
    "\n",
    "model.add(Flatten())\n",
    "model.add(Dense(2, activation='softmax', name='predictions'))"
   ]
  },
  {
   "cell_type": "code",
   "execution_count": 12,
   "id": "b24cafc4",
   "metadata": {},
   "outputs": [
    {
     "name": "stdout",
     "output_type": "stream",
     "text": [
      "WARNING:tensorflow:EarlyStopping mode <built-in function min> is unknown, fallback to auto mode.\n"
     ]
    }
   ],
   "source": [
    "es=EarlyStopping(\n",
    "    monitor='val_accuracy',\n",
    "    patience=30,\n",
    "    verbose=1,\n",
    "    mode=min\n",
    ")"
   ]
  },
  {
   "cell_type": "code",
   "execution_count": 45,
   "id": "4f726af0",
   "metadata": {},
   "outputs": [],
   "source": [
    "# prediction = Dense(len(folders), activation='softmax')(x)\n",
    "\n",
    "# model = Model(vgg.inputs, output='predictions')"
   ]
  },
  {
   "cell_type": "code",
   "execution_count": 13,
   "id": "9e7e7b7b",
   "metadata": {},
   "outputs": [
    {
     "name": "stdout",
     "output_type": "stream",
     "text": [
      "Model: \"sequential\"\n",
      "_________________________________________________________________\n",
      " Layer (type)                Output Shape              Param #   \n",
      "=================================================================\n",
      " block1_conv1 (Conv2D)       (None, 224, 224, 64)      1792      \n",
      "                                                                 \n",
      " block1_conv2 (Conv2D)       (None, 224, 224, 64)      36928     \n",
      "                                                                 \n",
      " block1_pool (MaxPooling2D)  (None, 112, 112, 64)      0         \n",
      "                                                                 \n",
      " block2_conv1 (Conv2D)       (None, 112, 112, 128)     73856     \n",
      "                                                                 \n",
      " block2_conv2 (Conv2D)       (None, 112, 112, 128)     147584    \n",
      "                                                                 \n",
      " block2_pool (MaxPooling2D)  (None, 56, 56, 128)       0         \n",
      "                                                                 \n",
      " block3_conv1 (Conv2D)       (None, 56, 56, 256)       295168    \n",
      "                                                                 \n",
      " block3_conv2 (Conv2D)       (None, 56, 56, 256)       590080    \n",
      "                                                                 \n",
      " block3_conv3 (Conv2D)       (None, 56, 56, 256)       590080    \n",
      "                                                                 \n",
      " block3_pool (MaxPooling2D)  (None, 28, 28, 256)       0         \n",
      "                                                                 \n",
      " block4_conv1 (Conv2D)       (None, 28, 28, 512)       1180160   \n",
      "                                                                 \n",
      " block4_conv2 (Conv2D)       (None, 28, 28, 512)       2359808   \n",
      "                                                                 \n",
      " block4_conv3 (Conv2D)       (None, 28, 28, 512)       2359808   \n",
      "                                                                 \n",
      " block4_pool (MaxPooling2D)  (None, 14, 14, 512)       0         \n",
      "                                                                 \n",
      " block5_conv1 (Conv2D)       (None, 14, 14, 512)       2359808   \n",
      "                                                                 \n",
      " block5_conv2 (Conv2D)       (None, 14, 14, 512)       2359808   \n",
      "                                                                 \n",
      " block5_conv3 (Conv2D)       (None, 14, 14, 512)       2359808   \n",
      "                                                                 \n",
      " block5_pool (MaxPooling2D)  (None, 7, 7, 512)         0         \n",
      "                                                                 \n",
      " dropout (Dropout)           (None, 7, 7, 512)         0         \n",
      "                                                                 \n",
      " additional_layer (Conv2D)   (None, 7, 7, 64)          294976    \n",
      "                                                                 \n",
      " flatten_1 (Flatten)         (None, 3136)              0         \n",
      "                                                                 \n",
      " predictions (Dense)         (None, 2)                 6274      \n",
      "                                                                 \n",
      "=================================================================\n",
      "Total params: 15,015,938\n",
      "Trainable params: 301,250\n",
      "Non-trainable params: 14,714,688\n",
      "_________________________________________________________________\n"
     ]
    }
   ],
   "source": [
    "model.summary()"
   ]
  },
  {
   "cell_type": "code",
   "execution_count": 14,
   "id": "3b83e260",
   "metadata": {},
   "outputs": [
    {
     "name": "stderr",
     "output_type": "stream",
     "text": [
      "c:\\Python310\\lib\\site-packages\\keras\\optimizers\\optimizer_v2\\adam.py:114: UserWarning: The `lr` argument is deprecated, use `learning_rate` instead.\n",
      "  super().__init__(name, **kwargs)\n"
     ]
    }
   ],
   "source": [
    "optimizer = keras.optimizers.Adam(lr=0.00001)"
   ]
  },
  {
   "cell_type": "code",
   "execution_count": 15,
   "id": "4baa0526",
   "metadata": {},
   "outputs": [],
   "source": [
    "model.compile(\n",
    "  loss='categorical_crossentropy',\n",
    "  optimizer=optimizer,\n",
    "  metrics=['accuracy']\n",
    ")"
   ]
  },
  {
   "cell_type": "code",
   "execution_count": 16,
   "id": "85577d74",
   "metadata": {},
   "outputs": [],
   "source": [
    "from keras.preprocessing.image import ImageDataGenerator\n",
    "\n",
    "train_datagen = ImageDataGenerator(rescale = 1./255,\n",
    "                                   shear_range = 0.2,\n",
    "                                   zoom_range = 0.2,\n",
    "                                   horizontal_flip = True)\n",
    "\n",
    "test_datagen = ImageDataGenerator(rescale = 1./255)"
   ]
  },
  {
   "cell_type": "code",
   "execution_count": 17,
   "id": "7071fe15",
   "metadata": {},
   "outputs": [],
   "source": [
    "train_path = '../over'\n",
    "test_path = '../dataset/chest_xray/test'"
   ]
  },
  {
   "cell_type": "code",
   "execution_count": 18,
   "id": "ec0bfb69",
   "metadata": {},
   "outputs": [
    {
     "name": "stdout",
     "output_type": "stream",
     "text": [
      "Found 7750 images belonging to 2 classes.\n"
     ]
    }
   ],
   "source": [
    "training_set = train_datagen.flow_from_directory(train_path,\n",
    "                                                 target_size = (224, 224),\n",
    "                                                 batch_size = 32,\n",
    "                                                 class_mode = 'categorical')"
   ]
  },
  {
   "cell_type": "code",
   "execution_count": 19,
   "id": "02a4d5c9",
   "metadata": {},
   "outputs": [
    {
     "data": {
      "text/plain": [
       "{'normal': 0, 'pneumonia': 1}"
      ]
     },
     "execution_count": 19,
     "metadata": {},
     "output_type": "execute_result"
    }
   ],
   "source": [
    "training_set.class_indices"
   ]
  },
  {
   "cell_type": "code",
   "execution_count": 29,
   "id": "5736a654",
   "metadata": {},
   "outputs": [
    {
     "name": "stdout",
     "output_type": "stream",
     "text": [
      "Found 624 images belonging to 2 classes.\n"
     ]
    }
   ],
   "source": [
    "test_set = test_datagen.flow_from_directory(test_path,\n",
    "                                            target_size = (224, 224),\n",
    "                                            batch_size = 32,\n",
    "                                            class_mode = 'categorical', \n",
    ")#shuffle=False)"
   ]
  },
  {
   "cell_type": "code",
   "execution_count": 21,
   "id": "5dc20f74",
   "metadata": {},
   "outputs": [
    {
     "name": "stdout",
     "output_type": "stream",
     "text": [
      "Epoch 1/100\n",
      "243/243 [==============================] - 249s 932ms/step - loss: 0.6087 - accuracy: 0.6770 - val_loss: 0.4838 - val_accuracy: 0.8446\n",
      "Epoch 2/100\n",
      "243/243 [==============================] - 109s 446ms/step - loss: 0.3667 - accuracy: 0.8742 - val_loss: 0.3638 - val_accuracy: 0.8718\n",
      "Epoch 3/100\n",
      "243/243 [==============================] - 133s 547ms/step - loss: 0.2743 - accuracy: 0.9052 - val_loss: 0.3186 - val_accuracy: 0.8782\n",
      "Epoch 4/100\n",
      "243/243 [==============================] - 136s 560ms/step - loss: 0.2297 - accuracy: 0.9199 - val_loss: 0.2905 - val_accuracy: 0.8830\n",
      "Epoch 5/100\n",
      "243/243 [==============================] - 155s 637ms/step - loss: 0.2080 - accuracy: 0.9227 - val_loss: 0.2789 - val_accuracy: 0.8846\n",
      "Epoch 6/100\n",
      "243/243 [==============================] - 127s 521ms/step - loss: 0.1890 - accuracy: 0.9330 - val_loss: 0.2721 - val_accuracy: 0.8830\n",
      "Epoch 7/100\n",
      "243/243 [==============================] - 118s 484ms/step - loss: 0.1826 - accuracy: 0.9315 - val_loss: 0.2626 - val_accuracy: 0.8910\n",
      "Epoch 8/100\n",
      "243/243 [==============================] - 113s 466ms/step - loss: 0.1772 - accuracy: 0.9337 - val_loss: 0.2478 - val_accuracy: 0.9006\n",
      "Epoch 9/100\n",
      "243/243 [==============================] - 111s 457ms/step - loss: 0.1628 - accuracy: 0.9401 - val_loss: 0.2438 - val_accuracy: 0.9054\n",
      "Epoch 10/100\n",
      "243/243 [==============================] - 111s 457ms/step - loss: 0.1612 - accuracy: 0.9381 - val_loss: 0.2400 - val_accuracy: 0.9054\n",
      "Epoch 11/100\n",
      "243/243 [==============================] - 114s 466ms/step - loss: 0.1534 - accuracy: 0.9459 - val_loss: 0.2318 - val_accuracy: 0.9087\n",
      "Epoch 12/100\n",
      "243/243 [==============================] - 123s 505ms/step - loss: 0.1484 - accuracy: 0.9462 - val_loss: 0.2277 - val_accuracy: 0.9087\n",
      "Epoch 13/100\n",
      "243/243 [==============================] - 122s 502ms/step - loss: 0.1448 - accuracy: 0.9470 - val_loss: 0.2320 - val_accuracy: 0.9071\n",
      "Epoch 14/100\n",
      "243/243 [==============================] - 113s 465ms/step - loss: 0.1401 - accuracy: 0.9511 - val_loss: 0.2210 - val_accuracy: 0.9151\n",
      "Epoch 15/100\n",
      "243/243 [==============================] - 116s 475ms/step - loss: 0.1360 - accuracy: 0.9498 - val_loss: 0.2202 - val_accuracy: 0.9167\n",
      "Epoch 16/100\n",
      "243/243 [==============================] - 113s 464ms/step - loss: 0.1364 - accuracy: 0.9517 - val_loss: 0.2185 - val_accuracy: 0.9151\n",
      "Epoch 17/100\n",
      "243/243 [==============================] - 125s 515ms/step - loss: 0.1294 - accuracy: 0.9516 - val_loss: 0.2165 - val_accuracy: 0.9151\n",
      "Epoch 18/100\n",
      "243/243 [==============================] - 125s 515ms/step - loss: 0.1285 - accuracy: 0.9538 - val_loss: 0.2165 - val_accuracy: 0.9135\n",
      "Epoch 19/100\n",
      "243/243 [==============================] - 112s 459ms/step - loss: 0.1239 - accuracy: 0.9564 - val_loss: 0.2172 - val_accuracy: 0.9199\n",
      "Epoch 20/100\n",
      "243/243 [==============================] - 117s 481ms/step - loss: 0.1266 - accuracy: 0.9555 - val_loss: 0.2176 - val_accuracy: 0.9199\n",
      "Epoch 21/100\n",
      "243/243 [==============================] - 117s 480ms/step - loss: 0.1226 - accuracy: 0.9572 - val_loss: 0.2124 - val_accuracy: 0.9183\n",
      "Epoch 22/100\n",
      "243/243 [==============================] - 125s 515ms/step - loss: 0.1223 - accuracy: 0.9565 - val_loss: 0.2121 - val_accuracy: 0.9183\n",
      "Epoch 23/100\n",
      "243/243 [==============================] - 113s 464ms/step - loss: 0.1231 - accuracy: 0.9561 - val_loss: 0.2123 - val_accuracy: 0.9199\n",
      "Epoch 24/100\n",
      "243/243 [==============================] - 110s 453ms/step - loss: 0.1178 - accuracy: 0.9578 - val_loss: 0.2129 - val_accuracy: 0.9231\n",
      "Epoch 25/100\n",
      "243/243 [==============================] - 128s 525ms/step - loss: 0.1182 - accuracy: 0.9605 - val_loss: 0.2112 - val_accuracy: 0.9167\n",
      "Epoch 26/100\n",
      "243/243 [==============================] - 131s 539ms/step - loss: 0.1166 - accuracy: 0.9566 - val_loss: 0.2118 - val_accuracy: 0.9199\n",
      "Epoch 27/100\n",
      "243/243 [==============================] - 135s 556ms/step - loss: 0.1107 - accuracy: 0.9610 - val_loss: 0.2116 - val_accuracy: 0.9231\n",
      "Epoch 28/100\n",
      "243/243 [==============================] - 133s 546ms/step - loss: 0.1108 - accuracy: 0.9601 - val_loss: 0.2114 - val_accuracy: 0.9231\n",
      "Epoch 29/100\n",
      "243/243 [==============================] - 134s 552ms/step - loss: 0.1115 - accuracy: 0.9591 - val_loss: 0.2136 - val_accuracy: 0.9247\n",
      "Epoch 30/100\n",
      "243/243 [==============================] - 125s 514ms/step - loss: 0.1057 - accuracy: 0.9610 - val_loss: 0.2108 - val_accuracy: 0.9247\n",
      "Epoch 31/100\n",
      "243/243 [==============================] - 111s 455ms/step - loss: 0.1082 - accuracy: 0.9614 - val_loss: 0.2093 - val_accuracy: 0.9231\n",
      "Epoch 32/100\n",
      "243/243 [==============================] - 118s 486ms/step - loss: 0.1060 - accuracy: 0.9641 - val_loss: 0.2100 - val_accuracy: 0.9215\n",
      "Epoch 33/100\n",
      "243/243 [==============================] - 130s 532ms/step - loss: 0.1047 - accuracy: 0.9634 - val_loss: 0.2140 - val_accuracy: 0.9231\n",
      "Epoch 34/100\n",
      "243/243 [==============================] - 118s 485ms/step - loss: 0.1022 - accuracy: 0.9641 - val_loss: 0.2081 - val_accuracy: 0.9231\n",
      "Epoch 35/100\n",
      "243/243 [==============================] - 116s 474ms/step - loss: 0.1057 - accuracy: 0.9614 - val_loss: 0.2111 - val_accuracy: 0.9231\n",
      "Epoch 36/100\n",
      "243/243 [==============================] - 115s 471ms/step - loss: 0.1032 - accuracy: 0.9646 - val_loss: 0.2117 - val_accuracy: 0.9231\n",
      "Epoch 37/100\n",
      "243/243 [==============================] - 126s 518ms/step - loss: 0.1021 - accuracy: 0.9643 - val_loss: 0.2093 - val_accuracy: 0.9247\n",
      "Epoch 38/100\n",
      "243/243 [==============================] - 115s 472ms/step - loss: 0.0994 - accuracy: 0.9643 - val_loss: 0.2072 - val_accuracy: 0.9247\n",
      "Epoch 39/100\n",
      "243/243 [==============================] - 119s 488ms/step - loss: 0.0996 - accuracy: 0.9648 - val_loss: 0.2097 - val_accuracy: 0.9247\n",
      "Epoch 40/100\n",
      "243/243 [==============================] - 116s 477ms/step - loss: 0.0965 - accuracy: 0.9666 - val_loss: 0.2139 - val_accuracy: 0.9215\n",
      "Epoch 41/100\n",
      "243/243 [==============================] - 116s 475ms/step - loss: 0.1027 - accuracy: 0.9645 - val_loss: 0.2084 - val_accuracy: 0.9247\n",
      "Epoch 42/100\n",
      "243/243 [==============================] - 115s 474ms/step - loss: 0.0994 - accuracy: 0.9662 - val_loss: 0.2115 - val_accuracy: 0.9215\n",
      "Epoch 43/100\n",
      "243/243 [==============================] - 113s 467ms/step - loss: 0.0966 - accuracy: 0.9663 - val_loss: 0.2091 - val_accuracy: 0.9215\n",
      "Epoch 44/100\n",
      "243/243 [==============================] - 121s 496ms/step - loss: 0.0946 - accuracy: 0.9666 - val_loss: 0.2101 - val_accuracy: 0.9247\n",
      "Epoch 45/100\n",
      "243/243 [==============================] - 116s 476ms/step - loss: 0.0962 - accuracy: 0.9684 - val_loss: 0.2107 - val_accuracy: 0.9231\n",
      "Epoch 46/100\n",
      "243/243 [==============================] - 118s 485ms/step - loss: 0.0968 - accuracy: 0.9684 - val_loss: 0.2083 - val_accuracy: 0.9215\n",
      "Epoch 47/100\n",
      "243/243 [==============================] - 226s 932ms/step - loss: 0.0958 - accuracy: 0.9672 - val_loss: 0.2120 - val_accuracy: 0.9215\n",
      "Epoch 48/100\n",
      "243/243 [==============================] - 173s 710ms/step - loss: 0.0902 - accuracy: 0.9685 - val_loss: 0.2131 - val_accuracy: 0.9215\n",
      "Epoch 49/100\n",
      "243/243 [==============================] - 157s 642ms/step - loss: 0.0900 - accuracy: 0.9688 - val_loss: 0.2109 - val_accuracy: 0.9215\n",
      "Epoch 50/100\n",
      "243/243 [==============================] - 178s 732ms/step - loss: 0.0891 - accuracy: 0.9698 - val_loss: 0.2108 - val_accuracy: 0.9215\n",
      "Epoch 51/100\n",
      "243/243 [==============================] - 159s 655ms/step - loss: 0.0900 - accuracy: 0.9689 - val_loss: 0.2071 - val_accuracy: 0.9247\n",
      "Epoch 52/100\n",
      "243/243 [==============================] - 157s 643ms/step - loss: 0.0942 - accuracy: 0.9653 - val_loss: 0.2115 - val_accuracy: 0.9231\n",
      "Epoch 53/100\n",
      "243/243 [==============================] - 165s 678ms/step - loss: 0.0883 - accuracy: 0.9683 - val_loss: 0.2096 - val_accuracy: 0.9247\n",
      "Epoch 54/100\n",
      "243/243 [==============================] - 169s 693ms/step - loss: 0.0927 - accuracy: 0.9675 - val_loss: 0.2103 - val_accuracy: 0.9247\n",
      "Epoch 55/100\n",
      "243/243 [==============================] - 169s 692ms/step - loss: 0.0893 - accuracy: 0.9688 - val_loss: 0.2137 - val_accuracy: 0.9215\n",
      "Epoch 56/100\n",
      "243/243 [==============================] - 177s 729ms/step - loss: 0.0883 - accuracy: 0.9715 - val_loss: 0.2134 - val_accuracy: 0.9215\n",
      "Epoch 57/100\n",
      "243/243 [==============================] - 155s 634ms/step - loss: 0.0847 - accuracy: 0.9703 - val_loss: 0.2105 - val_accuracy: 0.9215\n",
      "Epoch 58/100\n",
      "243/243 [==============================] - 109s 448ms/step - loss: 0.0890 - accuracy: 0.9686 - val_loss: 0.2099 - val_accuracy: 0.9247\n",
      "Epoch 59/100\n",
      "243/243 [==============================] - 112s 461ms/step - loss: 0.0848 - accuracy: 0.9714 - val_loss: 0.2076 - val_accuracy: 0.9215\n",
      "Epoch 59: early stopping\n"
     ]
    }
   ],
   "source": [
    "r = model.fit(training_set,validation_data=test_set,epochs=100,steps_per_epoch=len(training_set),validation_steps=len(test_set),callbacks=[es])"
   ]
  },
  {
   "cell_type": "code",
   "execution_count": 22,
   "id": "5694f1a3",
   "metadata": {},
   "outputs": [
    {
     "data": {
      "image/png": "[encoded data removed]",
      "text/plain": [
       "<Figure size 432x288 with 1 Axes>"
      ]
     },
     "metadata": {
      "needs_background": "light"
     },
     "output_type": "display_data"
    },
    {
     "data": {
      "image/png": "[encoded data removed]",
      "text/plain": [
       "<Figure size 432x288 with 1 Axes>"
      ]
     },
     "metadata": {
      "needs_background": "light"
     },
     "output_type": "display_data"
    },
    {
     "data": {
      "text/plain": [
       "<Figure size 432x288 with 0 Axes>"
      ]
     },
     "metadata": {},
     "output_type": "display_data"
    }
   ],
   "source": [
    "plt.plot(r.history['loss'], label='train loss')\n",
    "plt.plot(r.history['val_loss'], label='val loss')\n",
    "plt.legend()\n",
    "plt.show()\n",
    "plt.savefig('LossVal_loss')\n",
    "\n",
    "# plot the accuracy\n",
    "plt.plot(r.history['accuracy'], label='train acc')\n",
    "plt.plot(r.history['val_accuracy'], label='val acc')\n",
    "plt.legend()\n",
    "plt.show()\n",
    "plt.savefig('AccVal_acc')\n",
    "\n",
    "acc = r.history['accuracy']\n",
    "val_acc = r.history['val_accuracy']\n",
    "\n",
    "loss = r.history['loss']\n",
    "val_loss = r.history['val_loss']"
   ]
  },
  {
   "cell_type": "code",
   "execution_count": 23,
   "id": "3ef7fbed",
   "metadata": {},
   "outputs": [],
   "source": [
    "from sklearn.metrics import classification_report, confusion_matrix"
   ]
  },
  {
   "cell_type": "code",
   "execution_count": 28,
   "id": "5bcfd7e0",
   "metadata": {},
   "outputs": [
    {
     "name": "stderr",
     "output_type": "stream",
     "text": [
      "C:\\Users\\SAKSHAM\\AppData\\Local\\Temp\\ipykernel_15988\\3787602794.py:1: UserWarning: `Model.predict_generator` is deprecated and will be removed in a future version. Please use `Model.predict`, which supports generators.\n",
      "  Y_pred = model.predict_generator(test_set, verbose = True)\n"
     ]
    },
    {
     "name": "stdout",
     "output_type": "stream",
     "text": [
      "20/20 [==============================] - 6s 305ms/step\n",
      "Confusion Matrix\n",
      "[[ 91 143]\n",
      " [136 254]]\n",
      "Classification Report\n",
      "              precision    recall  f1-score   support\n",
      "\n",
      "      normal       0.40      0.39      0.39       234\n",
      "   pneumonia       0.64      0.65      0.65       390\n",
      "\n",
      "    accuracy                           0.55       624\n",
      "   macro avg       0.52      0.52      0.52       624\n",
      "weighted avg       0.55      0.55      0.55       624\n",
      "\n"
     ]
    }
   ],
   "source": [
    "Y_pred = model.predict_generator(test_set, verbose = True)\n",
    "y_pred = np.argmax(Y_pred, axis=1)\n",
    "print('Confusion Matrix')\n",
    "print(confusion_matrix(test_set.classes, y_pred))\n",
    "print('Classification Report')\n",
    "target_names = list(training_set.class_indices.keys())\n",
    "print(classification_report(test_set.classes, y_pred, target_names=target_names))"
   ]
  },
  {
   "cell_type": "code",
   "execution_count": null,
   "id": "93e07af9",
   "metadata": {},
   "outputs": [],
   "source": []
  }
 ],
 "metadata": {
  "kernelspec": {
   "display_name": "Python 3.10.0 64-bit",
   "language": "python",
   "name": "python3"
  },
  "language_info": {
   "codemirror_mode": {
    "name": "ipython",
    "version": 3
   },
   "file_extension": ".py",
   "mimetype": "text/x-python",
   "name": "python",
   "nbconvert_exporter": "python",
   "pygments_lexer": "ipython3",
   "version": "3.10.0"
  },
  "vscode": {
   "interpreter": {
    "hash": "369f2c481f4da34e4445cda3fffd2e751bd1c4d706f27375911949ba6bb62e1c"
   }
  }
 },
 "nbformat": 4,
 "nbformat_minor": 5
}
