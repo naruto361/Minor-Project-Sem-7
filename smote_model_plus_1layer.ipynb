{
 "cells": [
  {
   "cell_type": "code",
   "execution_count": 1,
   "metadata": {},
   "outputs": [
    {
     "name": "stdout",
     "output_type": "stream",
     "text": [
      "Number of GPUS :  1\n"
     ]
    },
    {
     "data": {
      "text/plain": [
       "True"
      ]
     },
     "execution_count": 1,
     "metadata": {},
     "output_type": "execute_result"
    }
   ],
   "source": [
    "import tensorflow as tf\n",
    "from tensorflow import keras\n",
    "print(\"Number of GPUS : \", len(tf.config.experimental.list_physical_devices('GPU')))\n",
    "tf.test.is_built_with_cuda()"
   ]
  },
  {
   "cell_type": "code",
   "execution_count": 2,
   "metadata": {},
   "outputs": [],
   "source": [
    "from keras.layers import Input, Lambda, Dense, Flatten\n",
    "from keras.models import Model\n",
    "\n",
    "from keras.applications.vgg16 import VGG16\n",
    "from keras.applications.vgg16 import preprocess_input\n",
    "from keras.preprocessing import image\n",
    "from keras.preprocessing.image import ImageDataGenerator\n",
    "from keras.models import Sequential\n",
    "import numpy as np\n",
    "from glob import glob\n",
    "import matplotlib.pyplot as plt\n",
    "from imblearn.under_sampling import RandomUnderSampler\n",
    "from PIL import Image\n",
    "from tqdm import tqdm\n",
    "import glob\n",
    "import cv2\n",
    "from keras.layers import Conv2D, Dropout"
   ]
  },
  {
   "cell_type": "code",
   "execution_count": 3,
   "metadata": {},
   "outputs": [],
   "source": [
    "vgg = VGG16(input_shape=[224, 224] + [3], weights='imagenet', include_top=False)"
   ]
  },
  {
   "cell_type": "code",
   "execution_count": 4,
   "metadata": {},
   "outputs": [],
   "source": [
    "for layer in vgg.layers:\n",
    "    layer.trainable = False"
   ]
  },
  {
   "cell_type": "code",
   "execution_count": 5,
   "metadata": {},
   "outputs": [],
   "source": [
    "x = Flatten()(vgg.output)"
   ]
  },
  {
   "cell_type": "code",
   "execution_count": 6,
   "metadata": {},
   "outputs": [],
   "source": [
    "folders = glob.glob('smote_data/*')"
   ]
  },
  {
   "cell_type": "code",
   "execution_count": 7,
   "metadata": {},
   "outputs": [
    {
     "name": "stdout",
     "output_type": "stream",
     "text": [
      "2\n"
     ]
    }
   ],
   "source": [
    "print(len(folders))"
   ]
  },
  {
   "cell_type": "code",
   "execution_count": 8,
   "metadata": {},
   "outputs": [],
   "source": [
    "model = Sequential()\n",
    "\n",
    "for layer in vgg.layers:\n",
    "    model.add(layer)\n",
    "    \n",
    "\n",
    "model.add(Dropout(0.3))\n",
    "model.add(Conv2D(64, (3, 3), activation='relu', padding='same', name='additional_layer') )\n",
    "model.add(Flatten())\n",
    "model.add(Dense(2, activation='softmax', name='predictions'))"
   ]
  },
  {
   "cell_type": "code",
   "execution_count": 9,
   "metadata": {},
   "outputs": [
    {
     "name": "stdout",
     "output_type": "stream",
     "text": [
      "Model: \"sequential\"\n",
      "_________________________________________________________________\n",
      " Layer (type)                Output Shape              Param #   \n",
      "=================================================================\n",
      " block1_conv1 (Conv2D)       (None, 224, 224, 64)      1792      \n",
      "                                                                 \n",
      " block1_conv2 (Conv2D)       (None, 224, 224, 64)      36928     \n",
      "                                                                 \n",
      " block1_pool (MaxPooling2D)  (None, 112, 112, 64)      0         \n",
      "                                                                 \n",
      " block2_conv1 (Conv2D)       (None, 112, 112, 128)     73856     \n",
      "                                                                 \n",
      " block2_conv2 (Conv2D)       (None, 112, 112, 128)     147584    \n",
      "                                                                 \n",
      " block2_pool (MaxPooling2D)  (None, 56, 56, 128)       0         \n",
      "                                                                 \n",
      " block3_conv1 (Conv2D)       (None, 56, 56, 256)       295168    \n",
      "                                                                 \n",
      " block3_conv2 (Conv2D)       (None, 56, 56, 256)       590080    \n",
      "                                                                 \n",
      " block3_conv3 (Conv2D)       (None, 56, 56, 256)       590080    \n",
      "                                                                 \n",
      " block3_pool (MaxPooling2D)  (None, 28, 28, 256)       0         \n",
      "                                                                 \n",
      " block4_conv1 (Conv2D)       (None, 28, 28, 512)       1180160   \n",
      "                                                                 \n",
      " block4_conv2 (Conv2D)       (None, 28, 28, 512)       2359808   \n",
      "                                                                 \n",
      " block4_conv3 (Conv2D)       (None, 28, 28, 512)       2359808   \n",
      "                                                                 \n",
      " block4_pool (MaxPooling2D)  (None, 14, 14, 512)       0         \n",
      "                                                                 \n",
      " block5_conv1 (Conv2D)       (None, 14, 14, 512)       2359808   \n",
      "                                                                 \n",
      " block5_conv2 (Conv2D)       (None, 14, 14, 512)       2359808   \n",
      "                                                                 \n",
      " block5_conv3 (Conv2D)       (None, 14, 14, 512)       2359808   \n",
      "                                                                 \n",
      " block5_pool (MaxPooling2D)  (None, 7, 7, 512)         0         \n",
      "                                                                 \n",
      " dropout (Dropout)           (None, 7, 7, 512)         0         \n",
      "                                                                 \n",
      " additional_layer (Conv2D)   (None, 7, 7, 64)          294976    \n",
      "                                                                 \n",
      " flatten_1 (Flatten)         (None, 3136)              0         \n",
      "                                                                 \n",
      " predictions (Dense)         (None, 2)                 6274      \n",
      "                                                                 \n",
      "=================================================================\n",
      "Total params: 15,015,938\n",
      "Trainable params: 301,250\n",
      "Non-trainable params: 14,714,688\n",
      "_________________________________________________________________\n"
     ]
    }
   ],
   "source": [
    "model.summary()"
   ]
  },
  {
   "cell_type": "code",
   "execution_count": 10,
   "metadata": {},
   "outputs": [
    {
     "name": "stderr",
     "output_type": "stream",
     "text": [
      "c:\\Python310\\lib\\site-packages\\keras\\optimizers\\optimizer_v2\\adam.py:114: UserWarning: The `lr` argument is deprecated, use `learning_rate` instead.\n",
      "  super().__init__(name, **kwargs)\n"
     ]
    }
   ],
   "source": [
    "optimizer = keras.optimizers.Adam(lr=0.000001)"
   ]
  },
  {
   "cell_type": "code",
   "execution_count": 11,
   "metadata": {},
   "outputs": [],
   "source": [
    "model.compile(\n",
    "  loss='categorical_crossentropy',\n",
    "  optimizer=optimizer,\n",
    "  metrics=['accuracy']\n",
    ")"
   ]
  },
  {
   "cell_type": "code",
   "execution_count": 12,
   "metadata": {},
   "outputs": [],
   "source": [
    "from keras.preprocessing.image import ImageDataGenerator\n",
    "\n",
    "train_datagen = ImageDataGenerator(rescale = 1./255,\n",
    "                                   shear_range = 0.2,\n",
    "                                   zoom_range = 0.2,\n",
    "                                   horizontal_flip = True)\n",
    "\n",
    "test_datagen = ImageDataGenerator(rescale = 1./255)"
   ]
  },
  {
   "cell_type": "code",
   "execution_count": 13,
   "metadata": {},
   "outputs": [],
   "source": [
    "train_path = 'smote_data'\n",
    "test_path = '../dataset/chest_xray/test'"
   ]
  },
  {
   "cell_type": "code",
   "execution_count": 14,
   "metadata": {},
   "outputs": [
    {
     "name": "stdout",
     "output_type": "stream",
     "text": [
      "Found 7750 images belonging to 2 classes.\n"
     ]
    }
   ],
   "source": [
    "training_set = train_datagen.flow_from_directory(train_path,\n",
    "                                                 target_size = (224, 224),\n",
    "                                                 batch_size = 32,\n",
    "                                                 class_mode = 'categorical')"
   ]
  },
  {
   "cell_type": "code",
   "execution_count": 15,
   "metadata": {},
   "outputs": [
    {
     "data": {
      "text/plain": [
       "{'normal': 0, 'pneumonia': 1}"
      ]
     },
     "execution_count": 15,
     "metadata": {},
     "output_type": "execute_result"
    }
   ],
   "source": [
    "training_set.class_indices"
   ]
  },
  {
   "cell_type": "code",
   "execution_count": 16,
   "metadata": {},
   "outputs": [
    {
     "name": "stdout",
     "output_type": "stream",
     "text": [
      "Found 624 images belonging to 2 classes.\n"
     ]
    }
   ],
   "source": [
    "test_set = test_datagen.flow_from_directory(test_path,\n",
    "                                            target_size = (224, 224),\n",
    "                                            batch_size = 32,\n",
    "                                            class_mode = 'categorical')"
   ]
  },
  {
   "cell_type": "code",
   "execution_count": 17,
   "metadata": {},
   "outputs": [
    {
     "name": "stdout",
     "output_type": "stream",
     "text": [
      "Epoch 1/100\n",
      "243/243 [==============================] - 224s 883ms/step - loss: 0.7620 - accuracy: 0.4850 - val_loss: 0.6730 - val_accuracy: 0.6218\n",
      "Epoch 2/100\n",
      "243/243 [==============================] - 113s 464ms/step - loss: 0.7130 - accuracy: 0.5239 - val_loss: 0.6633 - val_accuracy: 0.6362\n",
      "Epoch 3/100\n",
      "243/243 [==============================] - 116s 475ms/step - loss: 0.6797 - accuracy: 0.5757 - val_loss: 0.6468 - val_accuracy: 0.6763\n",
      "Epoch 4/100\n",
      "243/243 [==============================] - 112s 462ms/step - loss: 0.6565 - accuracy: 0.6070 - val_loss: 0.6292 - val_accuracy: 0.7340\n",
      "Epoch 5/100\n",
      "243/243 [==============================] - 116s 477ms/step - loss: 0.6402 - accuracy: 0.6404 - val_loss: 0.6096 - val_accuracy: 0.7676\n",
      "Epoch 6/100\n",
      "243/243 [==============================] - 111s 458ms/step - loss: 0.6157 - accuracy: 0.6688 - val_loss: 0.5917 - val_accuracy: 0.7965\n",
      "Epoch 7/100\n",
      "243/243 [==============================] - 108s 442ms/step - loss: 0.5928 - accuracy: 0.7061 - val_loss: 0.5763 - val_accuracy: 0.8045\n",
      "Epoch 8/100\n",
      "243/243 [==============================] - 107s 439ms/step - loss: 0.5774 - accuracy: 0.7231 - val_loss: 0.5621 - val_accuracy: 0.8141\n",
      "Epoch 9/100\n",
      "243/243 [==============================] - 103s 425ms/step - loss: 0.5549 - accuracy: 0.7431 - val_loss: 0.5463 - val_accuracy: 0.8221\n",
      "Epoch 10/100\n",
      "243/243 [==============================] - 105s 433ms/step - loss: 0.5421 - accuracy: 0.7648 - val_loss: 0.5297 - val_accuracy: 0.8317\n",
      "Epoch 11/100\n",
      "243/243 [==============================] - 103s 421ms/step - loss: 0.5237 - accuracy: 0.7773 - val_loss: 0.5167 - val_accuracy: 0.8381\n",
      "Epoch 12/100\n",
      "243/243 [==============================] - 102s 418ms/step - loss: 0.5050 - accuracy: 0.7938 - val_loss: 0.5049 - val_accuracy: 0.8365\n",
      "Epoch 13/100\n",
      "243/243 [==============================] - 106s 436ms/step - loss: 0.4854 - accuracy: 0.8070 - val_loss: 0.4941 - val_accuracy: 0.8253\n",
      "Epoch 14/100\n",
      "243/243 [==============================] - 102s 418ms/step - loss: 0.4714 - accuracy: 0.8182 - val_loss: 0.4807 - val_accuracy: 0.8269\n",
      "Epoch 15/100\n",
      "243/243 [==============================] - 102s 420ms/step - loss: 0.4626 - accuracy: 0.8169 - val_loss: 0.4678 - val_accuracy: 0.8269\n",
      "Epoch 16/100\n",
      "243/243 [==============================] - 108s 443ms/step - loss: 0.4480 - accuracy: 0.8245 - val_loss: 0.4557 - val_accuracy: 0.8317\n",
      "Epoch 17/100\n",
      "243/243 [==============================] - 109s 447ms/step - loss: 0.4318 - accuracy: 0.8386 - val_loss: 0.4413 - val_accuracy: 0.8397\n",
      "Epoch 18/100\n",
      "243/243 [==============================] - 111s 454ms/step - loss: 0.4230 - accuracy: 0.8357 - val_loss: 0.4339 - val_accuracy: 0.8333\n",
      "Epoch 19/100\n",
      "243/243 [==============================] - 108s 442ms/step - loss: 0.4124 - accuracy: 0.8427 - val_loss: 0.4247 - val_accuracy: 0.8381\n",
      "Epoch 20/100\n",
      "243/243 [==============================] - 113s 464ms/step - loss: 0.3979 - accuracy: 0.8467 - val_loss: 0.4107 - val_accuracy: 0.8446\n",
      "Epoch 21/100\n",
      "243/243 [==============================] - 168s 691ms/step - loss: 0.3891 - accuracy: 0.8548 - val_loss: 0.4114 - val_accuracy: 0.8349\n",
      "Epoch 22/100\n",
      "243/243 [==============================] - 167s 684ms/step - loss: 0.3793 - accuracy: 0.8546 - val_loss: 0.3970 - val_accuracy: 0.8429\n",
      "Epoch 23/100\n",
      "243/243 [==============================] - 127s 518ms/step - loss: 0.3746 - accuracy: 0.8519 - val_loss: 0.3922 - val_accuracy: 0.8446\n",
      "Epoch 24/100\n",
      "243/243 [==============================] - 102s 420ms/step - loss: 0.3646 - accuracy: 0.8566 - val_loss: 0.3857 - val_accuracy: 0.8462\n",
      "Epoch 25/100\n",
      "243/243 [==============================] - 107s 439ms/step - loss: 0.3551 - accuracy: 0.8614 - val_loss: 0.3790 - val_accuracy: 0.8462\n",
      "Epoch 26/100\n",
      "243/243 [==============================] - 109s 448ms/step - loss: 0.3474 - accuracy: 0.8665 - val_loss: 0.3701 - val_accuracy: 0.8510\n",
      "Epoch 27/100\n",
      "243/243 [==============================] - 108s 445ms/step - loss: 0.3411 - accuracy: 0.8692 - val_loss: 0.3660 - val_accuracy: 0.8510\n",
      "Epoch 28/100\n",
      "243/243 [==============================] - 109s 448ms/step - loss: 0.3350 - accuracy: 0.8754 - val_loss: 0.3655 - val_accuracy: 0.8510\n",
      "Epoch 29/100\n",
      "243/243 [==============================] - 108s 444ms/step - loss: 0.3284 - accuracy: 0.8759 - val_loss: 0.3548 - val_accuracy: 0.8462\n",
      "Epoch 30/100\n",
      "243/243 [==============================] - 109s 447ms/step - loss: 0.3179 - accuracy: 0.8813 - val_loss: 0.3506 - val_accuracy: 0.8478\n",
      "Epoch 31/100\n",
      "243/243 [==============================] - 122s 500ms/step - loss: 0.3207 - accuracy: 0.8804 - val_loss: 0.3469 - val_accuracy: 0.8494\n",
      "Epoch 32/100\n",
      "243/243 [==============================] - 130s 536ms/step - loss: 0.3080 - accuracy: 0.8837 - val_loss: 0.3452 - val_accuracy: 0.8510\n",
      "Epoch 33/100\n",
      "243/243 [==============================] - 138s 566ms/step - loss: 0.3134 - accuracy: 0.8791 - val_loss: 0.3399 - val_accuracy: 0.8510\n",
      "Epoch 34/100\n",
      "243/243 [==============================] - 127s 521ms/step - loss: 0.3009 - accuracy: 0.8845 - val_loss: 0.3373 - val_accuracy: 0.8526\n",
      "Epoch 35/100\n",
      "243/243 [==============================] - 179s 734ms/step - loss: 0.2984 - accuracy: 0.8855 - val_loss: 0.3370 - val_accuracy: 0.8558\n",
      "Epoch 36/100\n",
      "243/243 [==============================] - 121s 495ms/step - loss: 0.2922 - accuracy: 0.8902 - val_loss: 0.3325 - val_accuracy: 0.8542\n",
      "Epoch 37/100\n",
      "243/243 [==============================] - 120s 492ms/step - loss: 0.2925 - accuracy: 0.8890 - val_loss: 0.3291 - val_accuracy: 0.8542\n",
      "Epoch 38/100\n",
      "243/243 [==============================] - 119s 490ms/step - loss: 0.2855 - accuracy: 0.8921 - val_loss: 0.3261 - val_accuracy: 0.8558\n",
      "Epoch 39/100\n",
      "243/243 [==============================] - 120s 491ms/step - loss: 0.2825 - accuracy: 0.8902 - val_loss: 0.3268 - val_accuracy: 0.8526\n",
      "Epoch 40/100\n",
      "243/243 [==============================] - 212s 873ms/step - loss: 0.2831 - accuracy: 0.8934 - val_loss: 0.3235 - val_accuracy: 0.8574\n",
      "Epoch 41/100\n",
      "243/243 [==============================] - 100s 411ms/step - loss: 0.2728 - accuracy: 0.8988 - val_loss: 0.3205 - val_accuracy: 0.8606\n",
      "Epoch 42/100\n",
      "243/243 [==============================] - 106s 436ms/step - loss: 0.2755 - accuracy: 0.8972 - val_loss: 0.3190 - val_accuracy: 0.8606\n",
      "Epoch 43/100\n",
      "243/243 [==============================] - 110s 450ms/step - loss: 0.2702 - accuracy: 0.8977 - val_loss: 0.3191 - val_accuracy: 0.8590\n",
      "Epoch 44/100\n",
      "243/243 [==============================] - 106s 433ms/step - loss: 0.2670 - accuracy: 0.8978 - val_loss: 0.3163 - val_accuracy: 0.8590\n",
      "Epoch 45/100\n",
      "243/243 [==============================] - 106s 437ms/step - loss: 0.2642 - accuracy: 0.8999 - val_loss: 0.3123 - val_accuracy: 0.8654\n",
      "Epoch 46/100\n",
      "243/243 [==============================] - 107s 438ms/step - loss: 0.2593 - accuracy: 0.9037 - val_loss: 0.3111 - val_accuracy: 0.8654\n",
      "Epoch 47/100\n",
      "243/243 [==============================] - 108s 444ms/step - loss: 0.2594 - accuracy: 0.9057 - val_loss: 0.3094 - val_accuracy: 0.8670\n",
      "Epoch 48/100\n",
      "243/243 [==============================] - 110s 450ms/step - loss: 0.2561 - accuracy: 0.9040 - val_loss: 0.3066 - val_accuracy: 0.8670\n",
      "Epoch 49/100\n",
      "243/243 [==============================] - 123s 506ms/step - loss: 0.2535 - accuracy: 0.9070 - val_loss: 0.3058 - val_accuracy: 0.8670\n",
      "Epoch 50/100\n",
      "243/243 [==============================] - 124s 509ms/step - loss: 0.2485 - accuracy: 0.9089 - val_loss: 0.3027 - val_accuracy: 0.8686\n",
      "Epoch 51/100\n",
      "243/243 [==============================] - 121s 498ms/step - loss: 0.2494 - accuracy: 0.9074 - val_loss: 0.3022 - val_accuracy: 0.8686\n",
      "Epoch 52/100\n",
      "243/243 [==============================] - 107s 439ms/step - loss: 0.2438 - accuracy: 0.9088 - val_loss: 0.3016 - val_accuracy: 0.8702\n",
      "Epoch 53/100\n",
      "243/243 [==============================] - 110s 451ms/step - loss: 0.2444 - accuracy: 0.9128 - val_loss: 0.3010 - val_accuracy: 0.8718\n",
      "Epoch 54/100\n",
      "243/243 [==============================] - 109s 449ms/step - loss: 0.2356 - accuracy: 0.9160 - val_loss: 0.2978 - val_accuracy: 0.8702\n",
      "Epoch 55/100\n",
      "243/243 [==============================] - 113s 466ms/step - loss: 0.2342 - accuracy: 0.9146 - val_loss: 0.2977 - val_accuracy: 0.8686\n",
      "Epoch 56/100\n",
      "243/243 [==============================] - 104s 429ms/step - loss: 0.2386 - accuracy: 0.9145 - val_loss: 0.2952 - val_accuracy: 0.8734\n",
      "Epoch 57/100\n",
      "243/243 [==============================] - 103s 422ms/step - loss: 0.2316 - accuracy: 0.9155 - val_loss: 0.2943 - val_accuracy: 0.8718\n",
      "Epoch 58/100\n",
      "243/243 [==============================] - 104s 428ms/step - loss: 0.2382 - accuracy: 0.9125 - val_loss: 0.2934 - val_accuracy: 0.8718\n",
      "Epoch 59/100\n",
      "243/243 [==============================] - 106s 436ms/step - loss: 0.2338 - accuracy: 0.9124 - val_loss: 0.2936 - val_accuracy: 0.8734\n",
      "Epoch 60/100\n",
      "243/243 [==============================] - 105s 429ms/step - loss: 0.2264 - accuracy: 0.9191 - val_loss: 0.2912 - val_accuracy: 0.8734\n",
      "Epoch 61/100\n",
      "243/243 [==============================] - 104s 429ms/step - loss: 0.2257 - accuracy: 0.9161 - val_loss: 0.2903 - val_accuracy: 0.8750\n",
      "Epoch 62/100\n",
      "243/243 [==============================] - 103s 424ms/step - loss: 0.2226 - accuracy: 0.9209 - val_loss: 0.2890 - val_accuracy: 0.8766\n",
      "Epoch 63/100\n",
      "243/243 [==============================] - 104s 428ms/step - loss: 0.2234 - accuracy: 0.9148 - val_loss: 0.2871 - val_accuracy: 0.8814\n",
      "Epoch 64/100\n",
      "243/243 [==============================] - 103s 421ms/step - loss: 0.2177 - accuracy: 0.9226 - val_loss: 0.2879 - val_accuracy: 0.8782\n",
      "Epoch 65/100\n",
      "243/243 [==============================] - 102s 421ms/step - loss: 0.2149 - accuracy: 0.9254 - val_loss: 0.2874 - val_accuracy: 0.8782\n",
      "Epoch 66/100\n",
      "243/243 [==============================] - 117s 480ms/step - loss: 0.2143 - accuracy: 0.9237 - val_loss: 0.2856 - val_accuracy: 0.8814\n",
      "Epoch 67/100\n",
      "243/243 [==============================] - 134s 548ms/step - loss: 0.2176 - accuracy: 0.9204 - val_loss: 0.2857 - val_accuracy: 0.8814\n",
      "Epoch 68/100\n",
      "243/243 [==============================] - 129s 530ms/step - loss: 0.2119 - accuracy: 0.9237 - val_loss: 0.2848 - val_accuracy: 0.8814\n",
      "Epoch 69/100\n",
      "243/243 [==============================] - 128s 525ms/step - loss: 0.2152 - accuracy: 0.9214 - val_loss: 0.2838 - val_accuracy: 0.8814\n",
      "Epoch 70/100\n",
      "243/243 [==============================] - 96s 395ms/step - loss: 0.2103 - accuracy: 0.9235 - val_loss: 0.2829 - val_accuracy: 0.8830\n",
      "Epoch 71/100\n",
      "243/243 [==============================] - 99s 407ms/step - loss: 0.2095 - accuracy: 0.9249 - val_loss: 0.2826 - val_accuracy: 0.8830\n",
      "Epoch 72/100\n",
      "243/243 [==============================] - 101s 414ms/step - loss: 0.2076 - accuracy: 0.9212 - val_loss: 0.2817 - val_accuracy: 0.8830\n",
      "Epoch 73/100\n",
      "243/243 [==============================] - 102s 417ms/step - loss: 0.2089 - accuracy: 0.9243 - val_loss: 0.2808 - val_accuracy: 0.8814\n",
      "Epoch 74/100\n",
      "243/243 [==============================] - 103s 422ms/step - loss: 0.2037 - accuracy: 0.9262 - val_loss: 0.2803 - val_accuracy: 0.8814\n",
      "Epoch 75/100\n",
      "243/243 [==============================] - 103s 424ms/step - loss: 0.2066 - accuracy: 0.9252 - val_loss: 0.2803 - val_accuracy: 0.8830\n",
      "Epoch 76/100\n",
      "243/243 [==============================] - 117s 480ms/step - loss: 0.1984 - accuracy: 0.9316 - val_loss: 0.2795 - val_accuracy: 0.8830\n",
      "Epoch 77/100\n",
      "243/243 [==============================] - 120s 492ms/step - loss: 0.1967 - accuracy: 0.9285 - val_loss: 0.2788 - val_accuracy: 0.8846\n",
      "Epoch 78/100\n",
      "243/243 [==============================] - 119s 488ms/step - loss: 0.1953 - accuracy: 0.9316 - val_loss: 0.2785 - val_accuracy: 0.8846\n",
      "Epoch 79/100\n",
      "243/243 [==============================] - 119s 489ms/step - loss: 0.1975 - accuracy: 0.9276 - val_loss: 0.2786 - val_accuracy: 0.8862\n",
      "Epoch 80/100\n",
      "243/243 [==============================] - 120s 495ms/step - loss: 0.1980 - accuracy: 0.9280 - val_loss: 0.2787 - val_accuracy: 0.8798\n",
      "Epoch 81/100\n",
      "243/243 [==============================] - 114s 467ms/step - loss: 0.1963 - accuracy: 0.9319 - val_loss: 0.2778 - val_accuracy: 0.8846\n",
      "Epoch 82/100\n",
      "243/243 [==============================] - 101s 416ms/step - loss: 0.1975 - accuracy: 0.9271 - val_loss: 0.2770 - val_accuracy: 0.8846\n",
      "Epoch 83/100\n",
      "243/243 [==============================] - 100s 411ms/step - loss: 0.1923 - accuracy: 0.9339 - val_loss: 0.2768 - val_accuracy: 0.8862\n",
      "Epoch 84/100\n",
      "243/243 [==============================] - 102s 419ms/step - loss: 0.1912 - accuracy: 0.9346 - val_loss: 0.2768 - val_accuracy: 0.8862\n",
      "Epoch 85/100\n",
      "243/243 [==============================] - 135s 556ms/step - loss: 0.1935 - accuracy: 0.9330 - val_loss: 0.2764 - val_accuracy: 0.8846\n",
      "Epoch 86/100\n",
      "243/243 [==============================] - 123s 504ms/step - loss: 0.1900 - accuracy: 0.9305 - val_loss: 0.2761 - val_accuracy: 0.8830\n",
      "Epoch 87/100\n",
      "243/243 [==============================] - 114s 468ms/step - loss: 0.1903 - accuracy: 0.9357 - val_loss: 0.2757 - val_accuracy: 0.8830\n",
      "Epoch 88/100\n",
      "243/243 [==============================] - 102s 418ms/step - loss: 0.1911 - accuracy: 0.9330 - val_loss: 0.2750 - val_accuracy: 0.8862\n",
      "Epoch 89/100\n",
      "243/243 [==============================] - 104s 426ms/step - loss: 0.1839 - accuracy: 0.9382 - val_loss: 0.2746 - val_accuracy: 0.8862\n",
      "Epoch 90/100\n",
      "243/243 [==============================] - 106s 433ms/step - loss: 0.1886 - accuracy: 0.9330 - val_loss: 0.2746 - val_accuracy: 0.8846\n",
      "Epoch 91/100\n",
      "243/243 [==============================] - 107s 440ms/step - loss: 0.1821 - accuracy: 0.9381 - val_loss: 0.2739 - val_accuracy: 0.8878\n",
      "Epoch 92/100\n",
      "243/243 [==============================] - 108s 443ms/step - loss: 0.1844 - accuracy: 0.9357 - val_loss: 0.2736 - val_accuracy: 0.8878\n",
      "Epoch 93/100\n",
      "243/243 [==============================] - 122s 502ms/step - loss: 0.1831 - accuracy: 0.9347 - val_loss: 0.2732 - val_accuracy: 0.8878\n",
      "Epoch 94/100\n",
      "243/243 [==============================] - 115s 471ms/step - loss: 0.1848 - accuracy: 0.9343 - val_loss: 0.2729 - val_accuracy: 0.8910\n",
      "Epoch 95/100\n",
      "243/243 [==============================] - 128s 527ms/step - loss: 0.1795 - accuracy: 0.9357 - val_loss: 0.2726 - val_accuracy: 0.8862\n",
      "Epoch 96/100\n",
      "243/243 [==============================] - 121s 495ms/step - loss: 0.1829 - accuracy: 0.9361 - val_loss: 0.2722 - val_accuracy: 0.8894\n",
      "Epoch 97/100\n",
      "243/243 [==============================] - 121s 495ms/step - loss: 0.1825 - accuracy: 0.9372 - val_loss: 0.2722 - val_accuracy: 0.8926\n",
      "Epoch 98/100\n",
      "243/243 [==============================] - 128s 526ms/step - loss: 0.1818 - accuracy: 0.9368 - val_loss: 0.2719 - val_accuracy: 0.8910\n",
      "Epoch 99/100\n",
      "243/243 [==============================] - 124s 509ms/step - loss: 0.1759 - accuracy: 0.9368 - val_loss: 0.2717 - val_accuracy: 0.8910\n",
      "Epoch 100/100\n",
      "243/243 [==============================] - 127s 520ms/step - loss: 0.1772 - accuracy: 0.9370 - val_loss: 0.2717 - val_accuracy: 0.8910\n"
     ]
    }
   ],
   "source": [
    "r = model.fit(training_set,validation_data=test_set,epochs=100,steps_per_epoch=len(training_set),validation_steps=len(test_set))"
   ]
  },
  {
   "cell_type": "code",
   "execution_count": 18,
   "metadata": {},
   "outputs": [
    {
     "data": {
      "image/png": "[encoded data removed]",
      "text/plain": [
       "<Figure size 432x288 with 1 Axes>"
      ]
     },
     "metadata": {
      "needs_background": "light"
     },
     "output_type": "display_data"
    },
    {
     "data": {
      "image/png": "[encoded data removed]",
      "text/plain": [
       "<Figure size 432x288 with 1 Axes>"
      ]
     },
     "metadata": {
      "needs_background": "light"
     },
     "output_type": "display_data"
    },
    {
     "data": {
      "text/plain": [
       "<Figure size 432x288 with 0 Axes>"
      ]
     },
     "metadata": {},
     "output_type": "display_data"
    }
   ],
   "source": [
    "plt.plot(r.history['loss'], label='train loss')\n",
    "plt.plot(r.history['val_loss'], label='val loss')\n",
    "plt.legend()\n",
    "plt.show()\n",
    "plt.savefig('LossVal_loss')\n",
    "\n",
    "# plot the accuracy\n",
    "plt.plot(r.history['accuracy'], label='train acc')\n",
    "plt.plot(r.history['val_accuracy'], label='val acc')\n",
    "plt.legend()\n",
    "plt.show()\n",
    "plt.savefig('AccVal_acc')\n",
    "\n",
    "acc = r.history['accuracy']\n",
    "val_acc = r.history['val_accuracy']\n",
    "\n",
    "loss = r.history['loss']\n",
    "val_loss = r.history['val_loss']"
   ]
  },
  {
   "cell_type": "code",
   "execution_count": null,
   "metadata": {},
   "outputs": [],
   "source": []
  }
 ],
 "metadata": {
  "kernelspec": {
   "display_name": "Python 3.10.0 64-bit",
   "language": "python",
   "name": "python3"
  },
  "language_info": {
   "codemirror_mode": {
    "name": "ipython",
    "version": 3
   },
   "file_extension": ".py",
   "mimetype": "text/x-python",
   "name": "python",
   "nbconvert_exporter": "python",
   "pygments_lexer": "ipython3",
   "version": "3.10.0"
  },
  "orig_nbformat": 4,
  "vscode": {
   "interpreter": {
    "hash": "369f2c481f4da34e4445cda3fffd2e751bd1c4d706f27375911949ba6bb62e1c"
   }
  }
 },
 "nbformat": 4,
 "nbformat_minor": 2
}
