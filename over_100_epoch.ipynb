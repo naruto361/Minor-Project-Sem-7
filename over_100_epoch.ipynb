{
 "cells": [
  {
   "cell_type": "code",
   "execution_count": 1,
   "id": "5e08256b",
   "metadata": {},
   "outputs": [
    {
     "name": "stdout",
     "output_type": "stream",
     "text": [
      "Number of GPUS :  1\n"
     ]
    },
    {
     "data": {
      "text/plain": [
       "True"
      ]
     },
     "execution_count": 1,
     "metadata": {},
     "output_type": "execute_result"
    }
   ],
   "source": [
    "import tensorflow as tf\n",
    "from tensorflow import keras\n",
    "print(\"Number of GPUS : \", len(tf.config.experimental.list_physical_devices('GPU')))\n",
    "tf.test.is_built_with_cuda()"
   ]
  },
  {
   "cell_type": "code",
   "execution_count": 2,
   "id": "471ac85c",
   "metadata": {},
   "outputs": [],
   "source": [
    "from keras.layers import Input, Lambda, Dense, Flatten\n",
    "from keras.models import Model\n",
    "\n",
    "from keras.applications.vgg16 import VGG16\n",
    "from keras.applications.vgg16 import preprocess_input\n",
    "from keras.preprocessing import image\n",
    "from keras.preprocessing.image import ImageDataGenerator\n",
    "from keras.models import Sequential\n",
    "import numpy as np\n",
    "from glob import glob\n",
    "import matplotlib.pyplot as plt\n",
    "from imblearn.under_sampling import RandomUnderSampler\n",
    "from PIL import Image\n",
    "from tqdm import tqdm"
   ]
  },
  {
   "cell_type": "code",
   "execution_count": 3,
   "id": "b5e849c6",
   "metadata": {},
   "outputs": [],
   "source": [
    "import glob\n",
    "import cv2"
   ]
  },
  {
   "cell_type": "code",
   "execution_count": 4,
   "id": "6a4fac9a",
   "metadata": {},
   "outputs": [],
   "source": [
    "def fun(var):\n",
    "    var = var[16:]\n",
    "    var = var.split(\" \")\n",
    "    var[1] = var[1][:1]\n",
    "    var[0] = int(var[0])\n",
    "    var[1] = int(var[1])\n",
    "    return var[1]"
   ]
  },
  {
   "cell_type": "code",
   "execution_count": 4,
   "id": "5bfebc30",
   "metadata": {},
   "outputs": [
    {
     "name": "stderr",
     "output_type": "stream",
     "text": [
      "0it [00:00, ?it/s]"
     ]
    },
    {
     "name": "stdout",
     "output_type": "stream",
     "text": [
      "trainingdata\\normal\n"
     ]
    },
    {
     "name": "stderr",
     "output_type": "stream",
     "text": [
      "\n"
     ]
    }
   ],
   "source": [
    "\n",
    "x_train = []\n",
    "y_train = []\n",
    "x_test = []\n",
    "y_test = []\n",
    "# val=[]\n",
    "\n",
    "\n",
    "for images in tqdm(glob.iglob(f'trainingdata/*')):\n",
    "    print(images)\n",
    "    break\n",
    "    label = fun(images)\n",
    "    x_train.append(cv2.imread(images, 0))\n",
    "    y_train.append(label)"
   ]
  },
  {
   "cell_type": "code",
   "execution_count": 7,
   "id": "564e4c66",
   "metadata": {},
   "outputs": [
    {
     "ename": "IndexError",
     "evalue": "list index out of range",
     "output_type": "error",
     "traceback": [
      "\u001b[1;31m---------------------------------------------------------------------------\u001b[0m",
      "\u001b[1;31mIndexError\u001b[0m                                Traceback (most recent call last)",
      "\u001b[1;32m~\\AppData\\Local\\Temp/ipykernel_12344/1687832402.py\u001b[0m in \u001b[0;36m<module>\u001b[1;34m\u001b[0m\n\u001b[1;32m----> 1\u001b[1;33m \u001b[0mprint\u001b[0m\u001b[1;33m(\u001b[0m\u001b[0mplt\u001b[0m\u001b[1;33m.\u001b[0m\u001b[0mimshow\u001b[0m\u001b[1;33m(\u001b[0m\u001b[0mx_train\u001b[0m\u001b[1;33m[\u001b[0m\u001b[1;36m0\u001b[0m\u001b[1;33m]\u001b[0m\u001b[1;33m)\u001b[0m\u001b[1;33m)\u001b[0m\u001b[1;33m\u001b[0m\u001b[1;33m\u001b[0m\u001b[0m\n\u001b[0m",
      "\u001b[1;31mIndexError\u001b[0m: list index out of range"
     ]
    }
   ],
   "source": [
    "print(plt.imshow(x_train[0]))"
   ]
  },
  {
   "cell_type": "code",
   "execution_count": 5,
   "id": "e2f4ae44",
   "metadata": {},
   "outputs": [],
   "source": [
    "vgg = VGG16(input_shape=[224, 224] + [3], weights='imagenet', include_top=False)"
   ]
  },
  {
   "cell_type": "code",
   "execution_count": 6,
   "id": "78fbfa52",
   "metadata": {},
   "outputs": [],
   "source": [
    "for layer in vgg.layers:\n",
    "    layer.trainable = False"
   ]
  },
  {
   "cell_type": "code",
   "execution_count": 7,
   "id": "5b9aaa7f",
   "metadata": {},
   "outputs": [],
   "source": [
    "x = Flatten()(vgg.output)"
   ]
  },
  {
   "cell_type": "code",
   "execution_count": 11,
   "id": "7c112efd",
   "metadata": {},
   "outputs": [],
   "source": [
    "folders = glob.glob('../over/*')"
   ]
  },
  {
   "cell_type": "code",
   "execution_count": 12,
   "id": "18c937c9",
   "metadata": {},
   "outputs": [
    {
     "name": "stdout",
     "output_type": "stream",
     "text": [
      "2\n"
     ]
    }
   ],
   "source": [
    "print(len(folders))"
   ]
  },
  {
   "cell_type": "code",
   "execution_count": 13,
   "id": "4f726af0",
   "metadata": {},
   "outputs": [],
   "source": [
    "prediction = Dense(len(folders), activation='softmax')(x)\n",
    "\n",
    "model = Model(inputs=vgg.input, outputs=prediction)"
   ]
  },
  {
   "cell_type": "code",
   "execution_count": 11,
   "id": "9e7e7b7b",
   "metadata": {},
   "outputs": [
    {
     "name": "stdout",
     "output_type": "stream",
     "text": [
      "Model: \"model\"\n",
      "_________________________________________________________________\n",
      "Layer (type)                 Output Shape              Param #   \n",
      "=================================================================\n",
      "input_1 (InputLayer)         [(None, 224, 224, 3)]     0         \n",
      "_________________________________________________________________\n",
      "block1_conv1 (Conv2D)        (None, 224, 224, 64)      1792      \n",
      "_________________________________________________________________\n",
      "block1_conv2 (Conv2D)        (None, 224, 224, 64)      36928     \n",
      "_________________________________________________________________\n",
      "block1_pool (MaxPooling2D)   (None, 112, 112, 64)      0         \n",
      "_________________________________________________________________\n",
      "block2_conv1 (Conv2D)        (None, 112, 112, 128)     73856     \n",
      "_________________________________________________________________\n",
      "block2_conv2 (Conv2D)        (None, 112, 112, 128)     147584    \n",
      "_________________________________________________________________\n",
      "block2_pool (MaxPooling2D)   (None, 56, 56, 128)       0         \n",
      "_________________________________________________________________\n",
      "block3_conv1 (Conv2D)        (None, 56, 56, 256)       295168    \n",
      "_________________________________________________________________\n",
      "block3_conv2 (Conv2D)        (None, 56, 56, 256)       590080    \n",
      "_________________________________________________________________\n",
      "block3_conv3 (Conv2D)        (None, 56, 56, 256)       590080    \n",
      "_________________________________________________________________\n",
      "block3_pool (MaxPooling2D)   (None, 28, 28, 256)       0         \n",
      "_________________________________________________________________\n",
      "block4_conv1 (Conv2D)        (None, 28, 28, 512)       1180160   \n",
      "_________________________________________________________________\n",
      "block4_conv2 (Conv2D)        (None, 28, 28, 512)       2359808   \n",
      "_________________________________________________________________\n",
      "block4_conv3 (Conv2D)        (None, 28, 28, 512)       2359808   \n",
      "_________________________________________________________________\n",
      "block4_pool (MaxPooling2D)   (None, 14, 14, 512)       0         \n",
      "_________________________________________________________________\n",
      "block5_conv1 (Conv2D)        (None, 14, 14, 512)       2359808   \n",
      "_________________________________________________________________\n",
      "block5_conv2 (Conv2D)        (None, 14, 14, 512)       2359808   \n",
      "_________________________________________________________________\n",
      "block5_conv3 (Conv2D)        (None, 14, 14, 512)       2359808   \n",
      "_________________________________________________________________\n",
      "block5_pool (MaxPooling2D)   (None, 7, 7, 512)         0         \n",
      "_________________________________________________________________\n",
      "flatten (Flatten)            (None, 25088)             0         \n",
      "_________________________________________________________________\n",
      "dense (Dense)                (None, 2)                 50178     \n",
      "=================================================================\n",
      "Total params: 14,764,866\n",
      "Trainable params: 50,178\n",
      "Non-trainable params: 14,714,688\n",
      "_________________________________________________________________\n"
     ]
    }
   ],
   "source": [
    "model.summary()"
   ]
  },
  {
   "cell_type": "code",
   "execution_count": 14,
   "id": "3b83e260",
   "metadata": {},
   "outputs": [
    {
     "name": "stderr",
     "output_type": "stream",
     "text": [
      "c:\\Python310\\lib\\site-packages\\keras\\optimizers\\optimizer_v2\\adam.py:114: UserWarning: The `lr` argument is deprecated, use `learning_rate` instead.\n",
      "  super().__init__(name, **kwargs)\n"
     ]
    }
   ],
   "source": [
    "optimizer = keras.optimizers.Adam(lr=0.000001)"
   ]
  },
  {
   "cell_type": "code",
   "execution_count": 15,
   "id": "4baa0526",
   "metadata": {},
   "outputs": [],
   "source": [
    "model.compile(\n",
    "  loss='categorical_crossentropy',\n",
    "  optimizer=optimizer,\n",
    "  metrics=['accuracy']\n",
    ")"
   ]
  },
  {
   "cell_type": "code",
   "execution_count": 16,
   "id": "85577d74",
   "metadata": {},
   "outputs": [],
   "source": [
    "from keras.preprocessing.image import ImageDataGenerator\n",
    "\n",
    "train_datagen = ImageDataGenerator(rescale = 1./255,\n",
    "                                   shear_range = 0.2,\n",
    "                                   zoom_range = 0.2,\n",
    "                                   horizontal_flip = True)\n",
    "\n",
    "test_datagen = ImageDataGenerator(rescale = 1./255)"
   ]
  },
  {
   "cell_type": "code",
   "execution_count": 17,
   "id": "7071fe15",
   "metadata": {},
   "outputs": [],
   "source": [
    "train_path = '../over'\n",
    "test_path = '../dataset/chest_xray/test'"
   ]
  },
  {
   "cell_type": "code",
   "execution_count": 18,
   "id": "ec0bfb69",
   "metadata": {},
   "outputs": [
    {
     "name": "stdout",
     "output_type": "stream",
     "text": [
      "Found 7750 images belonging to 2 classes.\n"
     ]
    }
   ],
   "source": [
    "training_set = train_datagen.flow_from_directory(train_path,\n",
    "                                                 target_size = (224, 224),\n",
    "                                                 batch_size = 32,\n",
    "                                                 class_mode = 'categorical')"
   ]
  },
  {
   "cell_type": "code",
   "execution_count": 19,
   "id": "02a4d5c9",
   "metadata": {},
   "outputs": [
    {
     "data": {
      "text/plain": [
       "{'normal': 0, 'pneumonia': 1}"
      ]
     },
     "execution_count": 19,
     "metadata": {},
     "output_type": "execute_result"
    }
   ],
   "source": [
    "training_set.class_indices"
   ]
  },
  {
   "cell_type": "code",
   "execution_count": 20,
   "id": "5736a654",
   "metadata": {},
   "outputs": [
    {
     "name": "stdout",
     "output_type": "stream",
     "text": [
      "Found 624 images belonging to 2 classes.\n"
     ]
    }
   ],
   "source": [
    "test_set = test_datagen.flow_from_directory(test_path,\n",
    "                                            target_size = (224, 224),\n",
    "                                            batch_size = 32,\n",
    "                                            class_mode = 'categorical')"
   ]
  },
  {
   "cell_type": "code",
   "execution_count": 21,
   "id": "5dc20f74",
   "metadata": {},
   "outputs": [
    {
     "name": "stdout",
     "output_type": "stream",
     "text": [
      "Epoch 1/100\n",
      "243/243 [==============================] - 239s 932ms/step - loss: 0.9384 - accuracy: 0.5001 - val_loss: 0.9077 - val_accuracy: 0.3750\n",
      "Epoch 2/100\n",
      "243/243 [==============================] - 143s 589ms/step - loss: 0.6852 - accuracy: 0.5535 - val_loss: 0.6968 - val_accuracy: 0.4904\n",
      "Epoch 3/100\n",
      "243/243 [==============================] - 139s 570ms/step - loss: 0.6155 - accuracy: 0.7172 - val_loss: 0.6302 - val_accuracy: 0.6715\n",
      "Epoch 4/100\n",
      "243/243 [==============================] - 112s 460ms/step - loss: 0.5726 - accuracy: 0.8090 - val_loss: 0.5922 - val_accuracy: 0.7372\n",
      "Epoch 5/100\n",
      "243/243 [==============================] - 313s 1s/step - loss: 0.5354 - accuracy: 0.8559 - val_loss: 0.5655 - val_accuracy: 0.7596\n",
      "Epoch 6/100\n",
      "243/243 [==============================] - 322s 1s/step - loss: 0.5036 - accuracy: 0.8721 - val_loss: 0.5405 - val_accuracy: 0.7917\n",
      "Epoch 7/100\n",
      "243/243 [==============================] - 139s 569ms/step - loss: 0.4742 - accuracy: 0.8885 - val_loss: 0.5190 - val_accuracy: 0.8093\n",
      "Epoch 8/100\n",
      "243/243 [==============================] - 111s 456ms/step - loss: 0.4487 - accuracy: 0.8935 - val_loss: 0.4970 - val_accuracy: 0.8253\n",
      "Epoch 9/100\n",
      "243/243 [==============================] - 113s 463ms/step - loss: 0.4241 - accuracy: 0.9004 - val_loss: 0.4836 - val_accuracy: 0.8285\n",
      "Epoch 10/100\n",
      "243/243 [==============================] - 121s 498ms/step - loss: 0.4035 - accuracy: 0.9052 - val_loss: 0.4650 - val_accuracy: 0.8333\n",
      "Epoch 11/100\n",
      "243/243 [==============================] - 119s 490ms/step - loss: 0.3826 - accuracy: 0.9102 - val_loss: 0.4495 - val_accuracy: 0.8429\n",
      "Epoch 12/100\n",
      "243/243 [==============================] - 124s 510ms/step - loss: 0.3671 - accuracy: 0.9108 - val_loss: 0.4354 - val_accuracy: 0.8542\n",
      "Epoch 13/100\n",
      "243/243 [==============================] - 117s 481ms/step - loss: 0.3515 - accuracy: 0.9114 - val_loss: 0.4216 - val_accuracy: 0.8574\n",
      "Epoch 14/100\n",
      "243/243 [==============================] - 118s 486ms/step - loss: 0.3381 - accuracy: 0.9141 - val_loss: 0.4125 - val_accuracy: 0.8574\n",
      "Epoch 15/100\n",
      "243/243 [==============================] - 118s 484ms/step - loss: 0.3252 - accuracy: 0.9187 - val_loss: 0.4027 - val_accuracy: 0.8606\n",
      "Epoch 16/100\n",
      "243/243 [==============================] - 115s 473ms/step - loss: 0.3123 - accuracy: 0.9194 - val_loss: 0.3932 - val_accuracy: 0.8590\n",
      "Epoch 17/100\n",
      "243/243 [==============================] - 117s 479ms/step - loss: 0.3024 - accuracy: 0.9221 - val_loss: 0.3852 - val_accuracy: 0.8654\n",
      "Epoch 18/100\n",
      "243/243 [==============================] - 116s 477ms/step - loss: 0.2948 - accuracy: 0.9212 - val_loss: 0.3781 - val_accuracy: 0.8702\n",
      "Epoch 19/100\n",
      "243/243 [==============================] - 124s 510ms/step - loss: 0.2860 - accuracy: 0.9215 - val_loss: 0.3693 - val_accuracy: 0.8702\n",
      "Epoch 20/100\n",
      "243/243 [==============================] - 139s 569ms/step - loss: 0.2781 - accuracy: 0.9232 - val_loss: 0.3624 - val_accuracy: 0.8702\n",
      "Epoch 21/100\n",
      "243/243 [==============================] - 140s 576ms/step - loss: 0.2729 - accuracy: 0.9226 - val_loss: 0.3560 - val_accuracy: 0.8718\n",
      "Epoch 22/100\n",
      "243/243 [==============================] - 138s 568ms/step - loss: 0.2646 - accuracy: 0.9223 - val_loss: 0.3510 - val_accuracy: 0.8718\n",
      "Epoch 23/100\n",
      "243/243 [==============================] - 141s 579ms/step - loss: 0.2570 - accuracy: 0.9279 - val_loss: 0.3451 - val_accuracy: 0.8750\n",
      "Epoch 24/100\n",
      "243/243 [==============================] - 139s 569ms/step - loss: 0.2528 - accuracy: 0.9246 - val_loss: 0.3407 - val_accuracy: 0.8766\n",
      "Epoch 25/100\n",
      "243/243 [==============================] - 144s 589ms/step - loss: 0.2475 - accuracy: 0.9266 - val_loss: 0.3362 - val_accuracy: 0.8766\n",
      "Epoch 26/100\n",
      "243/243 [==============================] - 140s 577ms/step - loss: 0.2407 - accuracy: 0.9293 - val_loss: 0.3327 - val_accuracy: 0.8798\n",
      "Epoch 27/100\n",
      "243/243 [==============================] - 141s 578ms/step - loss: 0.2391 - accuracy: 0.9299 - val_loss: 0.3284 - val_accuracy: 0.8798\n",
      "Epoch 28/100\n",
      "243/243 [==============================] - 139s 572ms/step - loss: 0.2365 - accuracy: 0.9276 - val_loss: 0.3241 - val_accuracy: 0.8798\n",
      "Epoch 29/100\n",
      "243/243 [==============================] - 138s 568ms/step - loss: 0.2303 - accuracy: 0.9319 - val_loss: 0.3196 - val_accuracy: 0.8766\n",
      "Epoch 30/100\n",
      "243/243 [==============================] - 141s 578ms/step - loss: 0.2239 - accuracy: 0.9311 - val_loss: 0.3176 - val_accuracy: 0.8830\n",
      "Epoch 31/100\n",
      "243/243 [==============================] - 154s 631ms/step - loss: 0.2246 - accuracy: 0.9298 - val_loss: 0.3144 - val_accuracy: 0.8830\n",
      "Epoch 32/100\n",
      "243/243 [==============================] - 147s 601ms/step - loss: 0.2188 - accuracy: 0.9334 - val_loss: 0.3110 - val_accuracy: 0.8846\n",
      "Epoch 33/100\n",
      "243/243 [==============================] - 154s 632ms/step - loss: 0.2193 - accuracy: 0.9303 - val_loss: 0.3088 - val_accuracy: 0.8846\n",
      "Epoch 34/100\n",
      "243/243 [==============================] - 163s 670ms/step - loss: 0.2141 - accuracy: 0.9323 - val_loss: 0.3056 - val_accuracy: 0.8830\n",
      "Epoch 35/100\n",
      "243/243 [==============================] - 148s 608ms/step - loss: 0.2088 - accuracy: 0.9355 - val_loss: 0.3034 - val_accuracy: 0.8830\n",
      "Epoch 36/100\n",
      "243/243 [==============================] - 159s 652ms/step - loss: 0.2071 - accuracy: 0.9337 - val_loss: 0.3011 - val_accuracy: 0.8830\n",
      "Epoch 37/100\n",
      "243/243 [==============================] - 154s 632ms/step - loss: 0.2094 - accuracy: 0.9315 - val_loss: 0.2992 - val_accuracy: 0.8830\n",
      "Epoch 38/100\n",
      "243/243 [==============================] - 146s 599ms/step - loss: 0.2047 - accuracy: 0.9316 - val_loss: 0.2967 - val_accuracy: 0.8846\n",
      "Epoch 39/100\n",
      "243/243 [==============================] - 161s 661ms/step - loss: 0.2015 - accuracy: 0.9342 - val_loss: 0.2946 - val_accuracy: 0.8846\n",
      "Epoch 40/100\n",
      "243/243 [==============================] - 158s 650ms/step - loss: 0.1971 - accuracy: 0.9370 - val_loss: 0.2918 - val_accuracy: 0.8846\n",
      "Epoch 41/100\n",
      "243/243 [==============================] - 168s 690ms/step - loss: 0.1946 - accuracy: 0.9388 - val_loss: 0.2913 - val_accuracy: 0.8846\n",
      "Epoch 42/100\n",
      "243/243 [==============================] - 165s 676ms/step - loss: 0.1988 - accuracy: 0.9325 - val_loss: 0.2890 - val_accuracy: 0.8862\n",
      "Epoch 43/100\n",
      "243/243 [==============================] - 153s 626ms/step - loss: 0.1943 - accuracy: 0.9355 - val_loss: 0.2867 - val_accuracy: 0.8862\n",
      "Epoch 44/100\n",
      "243/243 [==============================] - 385s 2s/step - loss: 0.1916 - accuracy: 0.9382 - val_loss: 0.2852 - val_accuracy: 0.8862\n",
      "Epoch 45/100\n",
      "243/243 [==============================] - 174s 714ms/step - loss: 0.1887 - accuracy: 0.9375 - val_loss: 0.2834 - val_accuracy: 0.8878\n",
      "Epoch 46/100\n",
      "243/243 [==============================] - 630s 3s/step - loss: 0.1859 - accuracy: 0.9392 - val_loss: 0.2816 - val_accuracy: 0.8878\n",
      "Epoch 47/100\n",
      "243/243 [==============================] - 169s 691ms/step - loss: 0.1871 - accuracy: 0.9385 - val_loss: 0.2803 - val_accuracy: 0.8894\n",
      "Epoch 48/100\n",
      "243/243 [==============================] - 110s 450ms/step - loss: 0.1840 - accuracy: 0.9406 - val_loss: 0.2795 - val_accuracy: 0.8878\n",
      "Epoch 49/100\n",
      "243/243 [==============================] - 113s 462ms/step - loss: 0.1843 - accuracy: 0.9400 - val_loss: 0.2776 - val_accuracy: 0.8910\n",
      "Epoch 50/100\n",
      "243/243 [==============================] - 110s 450ms/step - loss: 0.1812 - accuracy: 0.9392 - val_loss: 0.2763 - val_accuracy: 0.8910\n",
      "Epoch 51/100\n",
      "243/243 [==============================] - 116s 476ms/step - loss: 0.1810 - accuracy: 0.9388 - val_loss: 0.2752 - val_accuracy: 0.8910\n",
      "Epoch 52/100\n",
      "243/243 [==============================] - 115s 473ms/step - loss: 0.1792 - accuracy: 0.9387 - val_loss: 0.2736 - val_accuracy: 0.8926\n",
      "Epoch 53/100\n",
      "243/243 [==============================] - 133s 548ms/step - loss: 0.1798 - accuracy: 0.9383 - val_loss: 0.2725 - val_accuracy: 0.8926\n",
      "Epoch 54/100\n",
      "243/243 [==============================] - 138s 565ms/step - loss: 0.1781 - accuracy: 0.9403 - val_loss: 0.2711 - val_accuracy: 0.8958\n",
      "Epoch 55/100\n",
      "243/243 [==============================] - 135s 554ms/step - loss: 0.1776 - accuracy: 0.9421 - val_loss: 0.2700 - val_accuracy: 0.8958\n",
      "Epoch 56/100\n",
      "243/243 [==============================] - 137s 563ms/step - loss: 0.1752 - accuracy: 0.9435 - val_loss: 0.2689 - val_accuracy: 0.8974\n",
      "Epoch 57/100\n",
      "243/243 [==============================] - 137s 563ms/step - loss: 0.1739 - accuracy: 0.9417 - val_loss: 0.2678 - val_accuracy: 0.8974\n",
      "Epoch 58/100\n",
      "243/243 [==============================] - 137s 564ms/step - loss: 0.1718 - accuracy: 0.9422 - val_loss: 0.2670 - val_accuracy: 0.8974\n",
      "Epoch 59/100\n",
      "243/243 [==============================] - 136s 557ms/step - loss: 0.1697 - accuracy: 0.9466 - val_loss: 0.2660 - val_accuracy: 0.8958\n",
      "Epoch 60/100\n",
      "243/243 [==============================] - 136s 560ms/step - loss: 0.1716 - accuracy: 0.9437 - val_loss: 0.2648 - val_accuracy: 0.9006\n",
      "Epoch 61/100\n",
      "243/243 [==============================] - 136s 557ms/step - loss: 0.1675 - accuracy: 0.9446 - val_loss: 0.2642 - val_accuracy: 0.8958\n",
      "Epoch 62/100\n",
      "243/243 [==============================] - 138s 566ms/step - loss: 0.1714 - accuracy: 0.9413 - val_loss: 0.2629 - val_accuracy: 0.8990\n",
      "Epoch 63/100\n",
      "243/243 [==============================] - 136s 557ms/step - loss: 0.1668 - accuracy: 0.9437 - val_loss: 0.2621 - val_accuracy: 0.8990\n",
      "Epoch 64/100\n",
      "243/243 [==============================] - 138s 565ms/step - loss: 0.1692 - accuracy: 0.9441 - val_loss: 0.2611 - val_accuracy: 0.8990\n",
      "Epoch 65/100\n",
      "243/243 [==============================] - 136s 559ms/step - loss: 0.1678 - accuracy: 0.9410 - val_loss: 0.2602 - val_accuracy: 0.8990\n",
      "Epoch 66/100\n",
      "243/243 [==============================] - 137s 562ms/step - loss: 0.1656 - accuracy: 0.9443 - val_loss: 0.2593 - val_accuracy: 0.9006\n",
      "Epoch 67/100\n",
      "243/243 [==============================] - 135s 555ms/step - loss: 0.1634 - accuracy: 0.9450 - val_loss: 0.2584 - val_accuracy: 0.8990\n",
      "Epoch 68/100\n",
      "243/243 [==============================] - 137s 563ms/step - loss: 0.1629 - accuracy: 0.9454 - val_loss: 0.2574 - val_accuracy: 0.8990\n",
      "Epoch 69/100\n",
      "243/243 [==============================] - 136s 559ms/step - loss: 0.1638 - accuracy: 0.9435 - val_loss: 0.2567 - val_accuracy: 0.9006\n",
      "Epoch 70/100\n",
      "243/243 [==============================] - 137s 563ms/step - loss: 0.1651 - accuracy: 0.9427 - val_loss: 0.2558 - val_accuracy: 0.9006\n",
      "Epoch 71/100\n",
      "243/243 [==============================] - 136s 556ms/step - loss: 0.1636 - accuracy: 0.9428 - val_loss: 0.2552 - val_accuracy: 0.9006\n",
      "Epoch 72/100\n",
      "243/243 [==============================] - 137s 564ms/step - loss: 0.1624 - accuracy: 0.9455 - val_loss: 0.2545 - val_accuracy: 0.8990\n",
      "Epoch 73/100\n",
      "243/243 [==============================] - 135s 555ms/step - loss: 0.1634 - accuracy: 0.9431 - val_loss: 0.2537 - val_accuracy: 0.9006\n",
      "Epoch 74/100\n",
      "243/243 [==============================] - 138s 568ms/step - loss: 0.1614 - accuracy: 0.9440 - val_loss: 0.2531 - val_accuracy: 0.9006\n",
      "Epoch 75/100\n",
      "243/243 [==============================] - 136s 558ms/step - loss: 0.1601 - accuracy: 0.9445 - val_loss: 0.2524 - val_accuracy: 0.9006\n",
      "Epoch 76/100\n",
      "243/243 [==============================] - 138s 568ms/step - loss: 0.1561 - accuracy: 0.9474 - val_loss: 0.2516 - val_accuracy: 0.9006\n",
      "Epoch 77/100\n",
      "243/243 [==============================] - 135s 553ms/step - loss: 0.1591 - accuracy: 0.9476 - val_loss: 0.2509 - val_accuracy: 0.9006\n",
      "Epoch 78/100\n",
      "243/243 [==============================] - 137s 562ms/step - loss: 0.1607 - accuracy: 0.9445 - val_loss: 0.2502 - val_accuracy: 0.9006\n",
      "Epoch 79/100\n",
      "243/243 [==============================] - 135s 555ms/step - loss: 0.1573 - accuracy: 0.9463 - val_loss: 0.2494 - val_accuracy: 0.9006\n",
      "Epoch 80/100\n",
      "243/243 [==============================] - 137s 562ms/step - loss: 0.1543 - accuracy: 0.9483 - val_loss: 0.2488 - val_accuracy: 0.9006\n",
      "Epoch 81/100\n",
      "243/243 [==============================] - 136s 556ms/step - loss: 0.1549 - accuracy: 0.9458 - val_loss: 0.2482 - val_accuracy: 0.9006\n",
      "Epoch 82/100\n",
      "243/243 [==============================] - 137s 563ms/step - loss: 0.1548 - accuracy: 0.9474 - val_loss: 0.2475 - val_accuracy: 0.9006\n",
      "Epoch 83/100\n",
      "243/243 [==============================] - 136s 558ms/step - loss: 0.1540 - accuracy: 0.9493 - val_loss: 0.2471 - val_accuracy: 0.9038\n",
      "Epoch 84/100\n",
      "243/243 [==============================] - 144s 593ms/step - loss: 0.1540 - accuracy: 0.9488 - val_loss: 0.2465 - val_accuracy: 0.9038\n",
      "Epoch 85/100\n",
      "243/243 [==============================] - 178s 731ms/step - loss: 0.1533 - accuracy: 0.9485 - val_loss: 0.2459 - val_accuracy: 0.9038\n",
      "Epoch 86/100\n",
      "243/243 [==============================] - 186s 762ms/step - loss: 0.1544 - accuracy: 0.9459 - val_loss: 0.2453 - val_accuracy: 0.9038\n",
      "Epoch 87/100\n",
      "243/243 [==============================] - 185s 757ms/step - loss: 0.1493 - accuracy: 0.9511 - val_loss: 0.2449 - val_accuracy: 0.9054\n",
      "Epoch 88/100\n",
      "243/243 [==============================] - 186s 764ms/step - loss: 0.1498 - accuracy: 0.9512 - val_loss: 0.2443 - val_accuracy: 0.9038\n",
      "Epoch 89/100\n",
      "243/243 [==============================] - 238s 977ms/step - loss: 0.1502 - accuracy: 0.9497 - val_loss: 0.2438 - val_accuracy: 0.9038\n",
      "Epoch 90/100\n",
      "243/243 [==============================] - 245s 1s/step - loss: 0.1506 - accuracy: 0.9488 - val_loss: 0.2432 - val_accuracy: 0.9038\n",
      "Epoch 91/100\n",
      "243/243 [==============================] - 252s 1s/step - loss: 0.1477 - accuracy: 0.9502 - val_loss: 0.2427 - val_accuracy: 0.9054\n",
      "Epoch 92/100\n",
      "243/243 [==============================] - 234s 960ms/step - loss: 0.1514 - accuracy: 0.9489 - val_loss: 0.2423 - val_accuracy: 0.9071\n",
      "Epoch 93/100\n",
      "243/243 [==============================] - 222s 911ms/step - loss: 0.1500 - accuracy: 0.9475 - val_loss: 0.2416 - val_accuracy: 0.9071\n",
      "Epoch 94/100\n",
      "243/243 [==============================] - 244s 1s/step - loss: 0.1504 - accuracy: 0.9484 - val_loss: 0.2411 - val_accuracy: 0.9054\n",
      "Epoch 95/100\n",
      "243/243 [==============================] - 252s 1s/step - loss: 0.1485 - accuracy: 0.9494 - val_loss: 0.2406 - val_accuracy: 0.9071\n",
      "Epoch 96/100\n",
      "243/243 [==============================] - 214s 877ms/step - loss: 0.1501 - accuracy: 0.9507 - val_loss: 0.2402 - val_accuracy: 0.9071\n",
      "Epoch 97/100\n",
      "243/243 [==============================] - 123s 505ms/step - loss: 0.1474 - accuracy: 0.9501 - val_loss: 0.2399 - val_accuracy: 0.9071\n",
      "Epoch 98/100\n",
      "243/243 [==============================] - 107s 441ms/step - loss: 0.1507 - accuracy: 0.9490 - val_loss: 0.2394 - val_accuracy: 0.9071\n",
      "Epoch 99/100\n",
      "243/243 [==============================] - 111s 456ms/step - loss: 0.1453 - accuracy: 0.9488 - val_loss: 0.2389 - val_accuracy: 0.9087\n",
      "Epoch 100/100\n",
      "243/243 [==============================] - 115s 471ms/step - loss: 0.1454 - accuracy: 0.9493 - val_loss: 0.2386 - val_accuracy: 0.9087\n"
     ]
    }
   ],
   "source": [
    "r = model.fit(training_set,validation_data=test_set,epochs=100,steps_per_epoch=len(training_set),validation_steps=len(test_set))"
   ]
  },
  {
   "cell_type": "code",
   "execution_count": 22,
   "id": "5694f1a3",
   "metadata": {},
   "outputs": [
    {
     "data": {
      "image/png": "[encoded data removed]",
      "text/plain": [
       "<Figure size 432x288 with 1 Axes>"
      ]
     },
     "metadata": {
      "needs_background": "light"
     },
     "output_type": "display_data"
    },
    {
     "data": {
      "image/png": "[encoded data removed]",
      "text/plain": [
       "<Figure size 432x288 with 1 Axes>"
      ]
     },
     "metadata": {
      "needs_background": "light"
     },
     "output_type": "display_data"
    },
    {
     "data": {
      "text/plain": [
       "<Figure size 432x288 with 0 Axes>"
      ]
     },
     "metadata": {},
     "output_type": "display_data"
    }
   ],
   "source": [
    "plt.plot(r.history['loss'], label='train loss')\n",
    "plt.plot(r.history['val_loss'], label='val loss')\n",
    "plt.legend()\n",
    "plt.show()\n",
    "plt.savefig('LossVal_loss')\n",
    "\n",
    "# plot the accuracy\n",
    "plt.plot(r.history['accuracy'], label='train acc')\n",
    "plt.plot(r.history['val_accuracy'], label='val acc')\n",
    "plt.legend()\n",
    "plt.show()\n",
    "plt.savefig('AccVal_acc')\n",
    "\n",
    "acc = r.history['accuracy']\n",
    "val_acc = r.history['val_accuracy']\n",
    "\n",
    "loss = r.history['loss']\n",
    "val_loss = r.history['val_loss']"
   ]
  },
  {
   "cell_type": "code",
   "execution_count": null,
   "id": "5bcfd7e0",
   "metadata": {},
   "outputs": [],
   "source": []
  }
 ],
 "metadata": {
  "kernelspec": {
   "display_name": "Python 3.10.0 64-bit",
   "language": "python",
   "name": "python3"
  },
  "language_info": {
   "codemirror_mode": {
    "name": "ipython",
    "version": 3
   },
   "file_extension": ".py",
   "mimetype": "text/x-python",
   "name": "python",
   "nbconvert_exporter": "python",
   "pygments_lexer": "ipython3",
   "version": "3.10.0"
  },
  "vscode": {
   "interpreter": {
    "hash": "369f2c481f4da34e4445cda3fffd2e751bd1c4d706f27375911949ba6bb62e1c"
   }
  }
 },
 "nbformat": 4,
 "nbformat_minor": 5
}
