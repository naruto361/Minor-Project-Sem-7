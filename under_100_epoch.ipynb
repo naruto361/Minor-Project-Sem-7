{
 "cells": [
  {
   "cell_type": "code",
   "execution_count": 1,
   "id": "5e08256b",
   "metadata": {},
   "outputs": [
    {
     "name": "stdout",
     "output_type": "stream",
     "text": [
      "Number of GPUS :  1\n"
     ]
    },
    {
     "data": {
      "text/plain": [
       "True"
      ]
     },
     "execution_count": 1,
     "metadata": {},
     "output_type": "execute_result"
    }
   ],
   "source": [
    "import tensorflow as tf\n",
    "from tensorflow import keras\n",
    "print(\"Number of GPUS : \", len(tf.config.experimental.list_physical_devices('GPU')))\n",
    "tf.test.is_built_with_cuda()"
   ]
  },
  {
   "cell_type": "code",
   "execution_count": 2,
   "id": "471ac85c",
   "metadata": {},
   "outputs": [],
   "source": [
    "from keras.layers import Input, Lambda, Dense, Flatten\n",
    "from keras.models import Model\n",
    "\n",
    "from keras.applications.vgg16 import VGG16\n",
    "from keras.applications.vgg16 import preprocess_input\n",
    "from keras.preprocessing import image\n",
    "from keras.preprocessing.image import ImageDataGenerator\n",
    "from keras.models import Sequential\n",
    "import numpy as np\n",
    "from glob import glob\n",
    "import matplotlib.pyplot as plt\n",
    "from imblearn.under_sampling import RandomUnderSampler\n",
    "from PIL import Image\n",
    "from tqdm import tqdm"
   ]
  },
  {
   "cell_type": "code",
   "execution_count": 3,
   "id": "b5e849c6",
   "metadata": {},
   "outputs": [],
   "source": [
    "import glob\n",
    "import cv2"
   ]
  },
  {
   "cell_type": "code",
   "execution_count": 5,
   "id": "6a4fac9a",
   "metadata": {},
   "outputs": [],
   "source": [
    "def fun(var):\n",
    "    var = var[16:]\n",
    "    var = var.split(\" \")\n",
    "    var[1] = var[1][:1]\n",
    "    var[0] = int(var[0])\n",
    "    var[1] = int(var[1])\n",
    "    return var[1]"
   ]
  },
  {
   "cell_type": "code",
   "execution_count": 4,
   "id": "5bfebc30",
   "metadata": {},
   "outputs": [
    {
     "name": "stderr",
     "output_type": "stream",
     "text": [
      "0it [00:00, ?it/s]"
     ]
    },
    {
     "name": "stdout",
     "output_type": "stream",
     "text": [
      "d:/IIITA/SEMESTER_7/Minor Project/trainingdata\\normal\n"
     ]
    },
    {
     "name": "stderr",
     "output_type": "stream",
     "text": [
      "\n"
     ]
    }
   ],
   "source": [
    "\n",
    "x_train = []\n",
    "y_train = []\n",
    "x_test = []\n",
    "y_test = []\n",
    "# val=[]\n",
    "\n",
    "for images in tqdm(glob.iglob('d:/IIITA/SEMESTER_7/Minor Project/trainingdata/*')):\n",
    "#for images in tqdm(glob.iglob(f'/trainingdata/*')):\n",
    "    print(images)\n",
    "    break\n",
    "    label = fun(images)\n",
    "    x_train.append(cv2.imread(images, 0))\n",
    "    y_train.append(label)"
   ]
  },
  {
   "cell_type": "code",
   "execution_count": 6,
   "id": "22c39e1c",
   "metadata": {},
   "outputs": [
    {
     "name": "stdout",
     "output_type": "stream",
     "text": [
      "0\n"
     ]
    }
   ],
   "source": [
    "print(len(x_train))"
   ]
  },
  {
   "cell_type": "code",
   "execution_count": 7,
   "id": "564e4c66",
   "metadata": {},
   "outputs": [
    {
     "ename": "IndexError",
     "evalue": "list index out of range",
     "output_type": "error",
     "traceback": [
      "\u001b[1;31m---------------------------------------------------------------------------\u001b[0m",
      "\u001b[1;31mIndexError\u001b[0m                                Traceback (most recent call last)",
      "\u001b[1;32md:\\IIITA\\SEMESTER_7\\Minor Project\\c2\\Untitled.ipynb Cell 7\u001b[0m in \u001b[0;36m<module>\u001b[1;34m\u001b[0m\n\u001b[1;32m----> <a href='vscode-notebook-cell:/d%3A/IIITA/SEMESTER_7/Minor%20Project/c2/Untitled.ipynb#W5sZmlsZQ%3D%3D?line=0'>1</a>\u001b[0m \u001b[39mprint\u001b[39m(plt\u001b[39m.\u001b[39mimshow(x_train[\u001b[39m0\u001b[39;49m]))\n",
      "\u001b[1;31mIndexError\u001b[0m: list index out of range"
     ]
    }
   ],
   "source": [
    "print(plt.imshow(x_train[0]))"
   ]
  },
  {
   "cell_type": "code",
   "execution_count": 5,
   "id": "e2f4ae44",
   "metadata": {},
   "outputs": [],
   "source": [
    "vgg = VGG16(input_shape=[224, 224] + [3], weights='imagenet', include_top=False)"
   ]
  },
  {
   "cell_type": "code",
   "execution_count": 6,
   "id": "78fbfa52",
   "metadata": {},
   "outputs": [],
   "source": [
    "for layer in vgg.layers:\n",
    "    layer.trainable = False"
   ]
  },
  {
   "cell_type": "code",
   "execution_count": 7,
   "id": "5b9aaa7f",
   "metadata": {},
   "outputs": [],
   "source": [
    "x = Flatten()(vgg.output)"
   ]
  },
  {
   "cell_type": "code",
   "execution_count": 8,
   "id": "7c112efd",
   "metadata": {},
   "outputs": [],
   "source": [
    "folders = glob.glob('../trainingdata/*')"
   ]
  },
  {
   "cell_type": "code",
   "execution_count": 9,
   "id": "18c937c9",
   "metadata": {},
   "outputs": [
    {
     "name": "stdout",
     "output_type": "stream",
     "text": [
      "2\n"
     ]
    }
   ],
   "source": [
    "print(len(folders))"
   ]
  },
  {
   "cell_type": "code",
   "execution_count": 10,
   "id": "4f726af0",
   "metadata": {},
   "outputs": [],
   "source": [
    "prediction = Dense(len(folders), activation='softmax')(x)\n",
    "\n",
    "model = Model(inputs=vgg.input, outputs=prediction)"
   ]
  },
  {
   "cell_type": "code",
   "execution_count": 12,
   "id": "9e7e7b7b",
   "metadata": {},
   "outputs": [
    {
     "name": "stdout",
     "output_type": "stream",
     "text": [
      "Model: \"model\"\n",
      "_________________________________________________________________\n",
      " Layer (type)                Output Shape              Param #   \n",
      "=================================================================\n",
      " input_1 (InputLayer)        [(None, 224, 224, 3)]     0         \n",
      "                                                                 \n",
      " block1_conv1 (Conv2D)       (None, 224, 224, 64)      1792      \n",
      "                                                                 \n",
      " block1_conv2 (Conv2D)       (None, 224, 224, 64)      36928     \n",
      "                                                                 \n",
      " block1_pool (MaxPooling2D)  (None, 112, 112, 64)      0         \n",
      "                                                                 \n",
      " block2_conv1 (Conv2D)       (None, 112, 112, 128)     73856     \n",
      "                                                                 \n",
      " block2_conv2 (Conv2D)       (None, 112, 112, 128)     147584    \n",
      "                                                                 \n",
      " block2_pool (MaxPooling2D)  (None, 56, 56, 128)       0         \n",
      "                                                                 \n",
      " block3_conv1 (Conv2D)       (None, 56, 56, 256)       295168    \n",
      "                                                                 \n",
      " block3_conv2 (Conv2D)       (None, 56, 56, 256)       590080    \n",
      "                                                                 \n",
      " block3_conv3 (Conv2D)       (None, 56, 56, 256)       590080    \n",
      "                                                                 \n",
      " block3_pool (MaxPooling2D)  (None, 28, 28, 256)       0         \n",
      "                                                                 \n",
      " block4_conv1 (Conv2D)       (None, 28, 28, 512)       1180160   \n",
      "                                                                 \n",
      " block4_conv2 (Conv2D)       (None, 28, 28, 512)       2359808   \n",
      "                                                                 \n",
      " block4_conv3 (Conv2D)       (None, 28, 28, 512)       2359808   \n",
      "                                                                 \n",
      " block4_pool (MaxPooling2D)  (None, 14, 14, 512)       0         \n",
      "                                                                 \n",
      " block5_conv1 (Conv2D)       (None, 14, 14, 512)       2359808   \n",
      "                                                                 \n",
      " block5_conv2 (Conv2D)       (None, 14, 14, 512)       2359808   \n",
      "                                                                 \n",
      " block5_conv3 (Conv2D)       (None, 14, 14, 512)       2359808   \n",
      "                                                                 \n",
      " block5_pool (MaxPooling2D)  (None, 7, 7, 512)         0         \n",
      "                                                                 \n",
      " flatten (Flatten)           (None, 25088)             0         \n",
      "                                                                 \n",
      " dense (Dense)               (None, 2)                 50178     \n",
      "                                                                 \n",
      "=================================================================\n",
      "Total params: 14,764,866\n",
      "Trainable params: 50,178\n",
      "Non-trainable params: 14,714,688\n",
      "_________________________________________________________________\n"
     ]
    }
   ],
   "source": [
    "model.summary()"
   ]
  },
  {
   "cell_type": "code",
   "execution_count": 11,
   "id": "3b83e260",
   "metadata": {},
   "outputs": [
    {
     "name": "stderr",
     "output_type": "stream",
     "text": [
      "c:\\Python310\\lib\\site-packages\\keras\\optimizers\\optimizer_v2\\adam.py:114: UserWarning: The `lr` argument is deprecated, use `learning_rate` instead.\n",
      "  super().__init__(name, **kwargs)\n"
     ]
    }
   ],
   "source": [
    "optimizer = keras.optimizers.Adam(lr=0.000001)"
   ]
  },
  {
   "cell_type": "code",
   "execution_count": 12,
   "id": "4baa0526",
   "metadata": {},
   "outputs": [],
   "source": [
    "model.compile(\n",
    "  loss='categorical_crossentropy',\n",
    "  optimizer=optimizer,\n",
    "  metrics=['accuracy']\n",
    ")"
   ]
  },
  {
   "cell_type": "code",
   "execution_count": 13,
   "id": "85577d74",
   "metadata": {},
   "outputs": [],
   "source": [
    "from keras.preprocessing.image import ImageDataGenerator\n",
    "\n",
    "train_datagen = ImageDataGenerator(rescale = 1./255,\n",
    "                                   shear_range = 0.2,\n",
    "                                   zoom_range = 0.2,\n",
    "                                   horizontal_flip = True)\n",
    "\n",
    "test_datagen = ImageDataGenerator(rescale = 1./255)"
   ]
  },
  {
   "cell_type": "code",
   "execution_count": 14,
   "id": "7071fe15",
   "metadata": {},
   "outputs": [],
   "source": [
    "train_path = '../trainingdata'\n",
    "test_path = '../dataset/chest_xray/test'"
   ]
  },
  {
   "cell_type": "code",
   "execution_count": 15,
   "id": "ec0bfb69",
   "metadata": {},
   "outputs": [
    {
     "name": "stdout",
     "output_type": "stream",
     "text": [
      "Found 2682 images belonging to 2 classes.\n"
     ]
    }
   ],
   "source": [
    "training_set = train_datagen.flow_from_directory(train_path,\n",
    "                                                 target_size = (224, 224),\n",
    "                                                 batch_size = 32,\n",
    "                                                 class_mode = 'categorical')"
   ]
  },
  {
   "cell_type": "code",
   "execution_count": 16,
   "id": "02a4d5c9",
   "metadata": {},
   "outputs": [
    {
     "data": {
      "text/plain": [
       "{'normal': 0, 'pneumonic': 1}"
      ]
     },
     "execution_count": 16,
     "metadata": {},
     "output_type": "execute_result"
    }
   ],
   "source": [
    "training_set.class_indices"
   ]
  },
  {
   "cell_type": "code",
   "execution_count": 17,
   "id": "5736a654",
   "metadata": {},
   "outputs": [
    {
     "name": "stdout",
     "output_type": "stream",
     "text": [
      "Found 624 images belonging to 2 classes.\n"
     ]
    }
   ],
   "source": [
    "test_set = test_datagen.flow_from_directory(test_path,\n",
    "                                            target_size = (224, 224),\n",
    "                                            batch_size = 32,\n",
    "                                            class_mode = 'categorical')"
   ]
  },
  {
   "cell_type": "code",
   "execution_count": 18,
   "id": "5dc20f74",
   "metadata": {},
   "outputs": [
    {
     "name": "stdout",
     "output_type": "stream",
     "text": [
      "Epoch 1/100\n",
      "84/84 [==============================] - 74s 759ms/step - loss: 0.6973 - accuracy: 0.5160 - val_loss: 0.6921 - val_accuracy: 0.5304\n",
      "Epoch 2/100\n",
      "84/84 [==============================] - 37s 437ms/step - loss: 0.6717 - accuracy: 0.5925 - val_loss: 0.6793 - val_accuracy: 0.5737\n",
      "Epoch 3/100\n",
      "84/84 [==============================] - 38s 454ms/step - loss: 0.6517 - accuracy: 0.6435 - val_loss: 0.6672 - val_accuracy: 0.5978\n",
      "Epoch 4/100\n",
      "84/84 [==============================] - 39s 463ms/step - loss: 0.6308 - accuracy: 0.7058 - val_loss: 0.6526 - val_accuracy: 0.6426\n",
      "Epoch 5/100\n",
      "84/84 [==============================] - 39s 461ms/step - loss: 0.6086 - accuracy: 0.7476 - val_loss: 0.6405 - val_accuracy: 0.6699\n",
      "Epoch 6/100\n",
      "84/84 [==============================] - 38s 450ms/step - loss: 0.5937 - accuracy: 0.7972 - val_loss: 0.6264 - val_accuracy: 0.7147\n",
      "Epoch 7/100\n",
      "84/84 [==============================] - 39s 462ms/step - loss: 0.5761 - accuracy: 0.8113 - val_loss: 0.6145 - val_accuracy: 0.7468\n",
      "Epoch 8/100\n",
      "84/84 [==============================] - 39s 463ms/step - loss: 0.5613 - accuracy: 0.8289 - val_loss: 0.6012 - val_accuracy: 0.7788\n",
      "Epoch 9/100\n",
      "84/84 [==============================] - 41s 481ms/step - loss: 0.5437 - accuracy: 0.8527 - val_loss: 0.5913 - val_accuracy: 0.7837\n",
      "Epoch 10/100\n",
      "84/84 [==============================] - 40s 478ms/step - loss: 0.5337 - accuracy: 0.8576 - val_loss: 0.5798 - val_accuracy: 0.7997\n",
      "Epoch 11/100\n",
      "84/84 [==============================] - 41s 489ms/step - loss: 0.5162 - accuracy: 0.8743 - val_loss: 0.5679 - val_accuracy: 0.8093\n",
      "Epoch 12/100\n",
      "84/84 [==============================] - 41s 483ms/step - loss: 0.5020 - accuracy: 0.8818 - val_loss: 0.5572 - val_accuracy: 0.8221\n",
      "Epoch 13/100\n",
      "84/84 [==============================] - 44s 525ms/step - loss: 0.4899 - accuracy: 0.8900 - val_loss: 0.5492 - val_accuracy: 0.8269\n",
      "Epoch 14/100\n",
      "84/84 [==============================] - 42s 498ms/step - loss: 0.4760 - accuracy: 0.8975 - val_loss: 0.5387 - val_accuracy: 0.8317\n",
      "Epoch 15/100\n",
      "84/84 [==============================] - 41s 482ms/step - loss: 0.4673 - accuracy: 0.9008 - val_loss: 0.5298 - val_accuracy: 0.8349\n",
      "Epoch 16/100\n",
      "84/84 [==============================] - 42s 492ms/step - loss: 0.4570 - accuracy: 0.8997 - val_loss: 0.5222 - val_accuracy: 0.8365\n",
      "Epoch 17/100\n",
      "84/84 [==============================] - 45s 525ms/step - loss: 0.4490 - accuracy: 0.8967 - val_loss: 0.5159 - val_accuracy: 0.8365\n",
      "Epoch 18/100\n",
      "84/84 [==============================] - 42s 495ms/step - loss: 0.4353 - accuracy: 0.9087 - val_loss: 0.5066 - val_accuracy: 0.8413\n",
      "Epoch 19/100\n",
      "84/84 [==============================] - 43s 514ms/step - loss: 0.4279 - accuracy: 0.9213 - val_loss: 0.5004 - val_accuracy: 0.8397\n",
      "Epoch 20/100\n",
      "84/84 [==============================] - 42s 493ms/step - loss: 0.4166 - accuracy: 0.9150 - val_loss: 0.4930 - val_accuracy: 0.8413\n",
      "Epoch 21/100\n",
      "84/84 [==============================] - 42s 497ms/step - loss: 0.4133 - accuracy: 0.9049 - val_loss: 0.4864 - val_accuracy: 0.8446\n",
      "Epoch 22/100\n",
      "84/84 [==============================] - 42s 499ms/step - loss: 0.4004 - accuracy: 0.9116 - val_loss: 0.4797 - val_accuracy: 0.8478\n",
      "Epoch 23/100\n",
      "84/84 [==============================] - 42s 503ms/step - loss: 0.3969 - accuracy: 0.9038 - val_loss: 0.4721 - val_accuracy: 0.8542\n",
      "Epoch 24/100\n",
      "84/84 [==============================] - 42s 494ms/step - loss: 0.3852 - accuracy: 0.9183 - val_loss: 0.4667 - val_accuracy: 0.8542\n",
      "Epoch 25/100\n",
      "84/84 [==============================] - 42s 502ms/step - loss: 0.3792 - accuracy: 0.9239 - val_loss: 0.4621 - val_accuracy: 0.8526\n",
      "Epoch 26/100\n",
      "84/84 [==============================] - 42s 501ms/step - loss: 0.3743 - accuracy: 0.9198 - val_loss: 0.4558 - val_accuracy: 0.8542\n",
      "Epoch 27/100\n",
      "84/84 [==============================] - 42s 500ms/step - loss: 0.3697 - accuracy: 0.9146 - val_loss: 0.4499 - val_accuracy: 0.8510\n",
      "Epoch 28/100\n",
      "84/84 [==============================] - 42s 504ms/step - loss: 0.3598 - accuracy: 0.9221 - val_loss: 0.4464 - val_accuracy: 0.8590\n",
      "Epoch 29/100\n",
      "84/84 [==============================] - 42s 498ms/step - loss: 0.3559 - accuracy: 0.9206 - val_loss: 0.4404 - val_accuracy: 0.8526\n",
      "Epoch 30/100\n",
      "84/84 [==============================] - 42s 492ms/step - loss: 0.3471 - accuracy: 0.9247 - val_loss: 0.4354 - val_accuracy: 0.8542\n",
      "Epoch 31/100\n",
      "84/84 [==============================] - 43s 509ms/step - loss: 0.3414 - accuracy: 0.9217 - val_loss: 0.4306 - val_accuracy: 0.8558\n",
      "Epoch 32/100\n",
      "84/84 [==============================] - 88s 1s/step - loss: 0.3404 - accuracy: 0.9202 - val_loss: 0.4270 - val_accuracy: 0.8542\n",
      "Epoch 33/100\n",
      "84/84 [==============================] - 89s 1s/step - loss: 0.3345 - accuracy: 0.9217 - val_loss: 0.4233 - val_accuracy: 0.8574\n",
      "Epoch 34/100\n",
      "84/84 [==============================] - 90s 1s/step - loss: 0.3261 - accuracy: 0.9269 - val_loss: 0.4196 - val_accuracy: 0.8574\n",
      "Epoch 35/100\n",
      "84/84 [==============================] - 87s 1s/step - loss: 0.3221 - accuracy: 0.9277 - val_loss: 0.4153 - val_accuracy: 0.8590\n",
      "Epoch 36/100\n",
      "84/84 [==============================] - 91s 1s/step - loss: 0.3166 - accuracy: 0.9273 - val_loss: 0.4115 - val_accuracy: 0.8606\n",
      "Epoch 37/100\n",
      "84/84 [==============================] - 86s 1s/step - loss: 0.3139 - accuracy: 0.9224 - val_loss: 0.4076 - val_accuracy: 0.8638\n",
      "Epoch 38/100\n",
      "84/84 [==============================] - 88s 1s/step - loss: 0.3103 - accuracy: 0.9292 - val_loss: 0.4034 - val_accuracy: 0.8638\n",
      "Epoch 39/100\n",
      "84/84 [==============================] - 92s 1s/step - loss: 0.3075 - accuracy: 0.9284 - val_loss: 0.3997 - val_accuracy: 0.8670\n",
      "Epoch 40/100\n",
      "84/84 [==============================] - 80s 954ms/step - loss: 0.3057 - accuracy: 0.9262 - val_loss: 0.3958 - val_accuracy: 0.8686\n",
      "Epoch 41/100\n",
      "84/84 [==============================] - 86s 1s/step - loss: 0.2990 - accuracy: 0.9295 - val_loss: 0.3937 - val_accuracy: 0.8654\n",
      "Epoch 42/100\n",
      "84/84 [==============================] - 86s 1s/step - loss: 0.2974 - accuracy: 0.9239 - val_loss: 0.3911 - val_accuracy: 0.8654\n",
      "Epoch 43/100\n",
      "84/84 [==============================] - 91s 1s/step - loss: 0.2954 - accuracy: 0.9273 - val_loss: 0.3870 - val_accuracy: 0.8686\n",
      "Epoch 44/100\n",
      "84/84 [==============================] - 104s 1s/step - loss: 0.2878 - accuracy: 0.9269 - val_loss: 0.3835 - val_accuracy: 0.8686\n",
      "Epoch 45/100\n",
      "84/84 [==============================] - 102s 1s/step - loss: 0.2823 - accuracy: 0.9295 - val_loss: 0.3817 - val_accuracy: 0.8670\n",
      "Epoch 46/100\n",
      "84/84 [==============================] - 75s 889ms/step - loss: 0.2839 - accuracy: 0.9265 - val_loss: 0.3787 - val_accuracy: 0.8686\n",
      "Epoch 47/100\n",
      "84/84 [==============================] - 43s 504ms/step - loss: 0.2772 - accuracy: 0.9321 - val_loss: 0.3768 - val_accuracy: 0.8654\n",
      "Epoch 48/100\n",
      "84/84 [==============================] - 36s 429ms/step - loss: 0.2780 - accuracy: 0.9269 - val_loss: 0.3732 - val_accuracy: 0.8702\n",
      "Epoch 49/100\n",
      "84/84 [==============================] - 38s 455ms/step - loss: 0.2730 - accuracy: 0.9299 - val_loss: 0.3701 - val_accuracy: 0.8702\n",
      "Epoch 50/100\n",
      "84/84 [==============================] - 39s 464ms/step - loss: 0.2693 - accuracy: 0.9280 - val_loss: 0.3692 - val_accuracy: 0.8654\n",
      "Epoch 51/100\n",
      "84/84 [==============================] - 40s 472ms/step - loss: 0.2679 - accuracy: 0.9258 - val_loss: 0.3663 - val_accuracy: 0.8686\n",
      "Epoch 52/100\n",
      "84/84 [==============================] - 40s 475ms/step - loss: 0.2700 - accuracy: 0.9269 - val_loss: 0.3635 - val_accuracy: 0.8702\n",
      "Epoch 53/100\n",
      "84/84 [==============================] - 73s 874ms/step - loss: 0.2662 - accuracy: 0.9269 - val_loss: 0.3613 - val_accuracy: 0.8702\n",
      "Epoch 54/100\n",
      "84/84 [==============================] - 89s 1s/step - loss: 0.2643 - accuracy: 0.9262 - val_loss: 0.3586 - val_accuracy: 0.8718\n",
      "Epoch 55/100\n",
      "84/84 [==============================] - 87s 1s/step - loss: 0.2586 - accuracy: 0.9310 - val_loss: 0.3575 - val_accuracy: 0.8702\n",
      "Epoch 56/100\n",
      "84/84 [==============================] - 86s 1s/step - loss: 0.2582 - accuracy: 0.9336 - val_loss: 0.3561 - val_accuracy: 0.8702\n",
      "Epoch 57/100\n",
      "84/84 [==============================] - 90s 1s/step - loss: 0.2547 - accuracy: 0.9336 - val_loss: 0.3544 - val_accuracy: 0.8718\n",
      "Epoch 58/100\n",
      "84/84 [==============================] - 42s 491ms/step - loss: 0.2526 - accuracy: 0.9310 - val_loss: 0.3521 - val_accuracy: 0.8718\n",
      "Epoch 59/100\n",
      "84/84 [==============================] - 38s 448ms/step - loss: 0.2526 - accuracy: 0.9295 - val_loss: 0.3501 - val_accuracy: 0.8718\n",
      "Epoch 60/100\n",
      "84/84 [==============================] - 75s 892ms/step - loss: 0.2481 - accuracy: 0.9336 - val_loss: 0.3478 - val_accuracy: 0.8750\n",
      "Epoch 61/100\n",
      "84/84 [==============================] - 88s 1s/step - loss: 0.2497 - accuracy: 0.9310 - val_loss: 0.3453 - val_accuracy: 0.8750\n",
      "Epoch 62/100\n",
      "84/84 [==============================] - 87s 1s/step - loss: 0.2427 - accuracy: 0.9325 - val_loss: 0.3436 - val_accuracy: 0.8766\n",
      "Epoch 63/100\n",
      "84/84 [==============================] - 49s 577ms/step - loss: 0.2418 - accuracy: 0.9318 - val_loss: 0.3424 - val_accuracy: 0.8766\n",
      "Epoch 64/100\n",
      "84/84 [==============================] - 40s 472ms/step - loss: 0.2436 - accuracy: 0.9284 - val_loss: 0.3417 - val_accuracy: 0.8798\n",
      "Epoch 65/100\n",
      "84/84 [==============================] - 39s 461ms/step - loss: 0.2399 - accuracy: 0.9355 - val_loss: 0.3390 - val_accuracy: 0.8766\n",
      "Epoch 66/100\n",
      "84/84 [==============================] - 40s 478ms/step - loss: 0.2373 - accuracy: 0.9280 - val_loss: 0.3377 - val_accuracy: 0.8782\n",
      "Epoch 67/100\n",
      "84/84 [==============================] - 40s 480ms/step - loss: 0.2336 - accuracy: 0.9344 - val_loss: 0.3361 - val_accuracy: 0.8814\n",
      "Epoch 68/100\n",
      "84/84 [==============================] - 40s 479ms/step - loss: 0.2336 - accuracy: 0.9325 - val_loss: 0.3338 - val_accuracy: 0.8782\n",
      "Epoch 69/100\n",
      "84/84 [==============================] - 42s 499ms/step - loss: 0.2302 - accuracy: 0.9336 - val_loss: 0.3317 - val_accuracy: 0.8734\n",
      "Epoch 70/100\n",
      "84/84 [==============================] - 42s 500ms/step - loss: 0.2296 - accuracy: 0.9299 - val_loss: 0.3304 - val_accuracy: 0.8750\n",
      "Epoch 71/100\n",
      "84/84 [==============================] - 59s 707ms/step - loss: 0.2325 - accuracy: 0.9321 - val_loss: 0.3294 - val_accuracy: 0.8782\n",
      "Epoch 72/100\n",
      "84/84 [==============================] - 86s 1s/step - loss: 0.2257 - accuracy: 0.9355 - val_loss: 0.3281 - val_accuracy: 0.8814\n",
      "Epoch 73/100\n",
      "84/84 [==============================] - 79s 943ms/step - loss: 0.2250 - accuracy: 0.9370 - val_loss: 0.3267 - val_accuracy: 0.8798\n",
      "Epoch 74/100\n",
      "84/84 [==============================] - 36s 425ms/step - loss: 0.2209 - accuracy: 0.9400 - val_loss: 0.3260 - val_accuracy: 0.8830\n",
      "Epoch 75/100\n",
      "84/84 [==============================] - 38s 454ms/step - loss: 0.2256 - accuracy: 0.9355 - val_loss: 0.3240 - val_accuracy: 0.8798\n",
      "Epoch 76/100\n",
      "84/84 [==============================] - 39s 467ms/step - loss: 0.2228 - accuracy: 0.9359 - val_loss: 0.3230 - val_accuracy: 0.8814\n",
      "Epoch 77/100\n",
      "84/84 [==============================] - 40s 473ms/step - loss: 0.2218 - accuracy: 0.9374 - val_loss: 0.3211 - val_accuracy: 0.8798\n",
      "Epoch 78/100\n",
      "84/84 [==============================] - 41s 481ms/step - loss: 0.2259 - accuracy: 0.9351 - val_loss: 0.3207 - val_accuracy: 0.8830\n",
      "Epoch 79/100\n",
      "84/84 [==============================] - 41s 483ms/step - loss: 0.2183 - accuracy: 0.9385 - val_loss: 0.3194 - val_accuracy: 0.8830\n",
      "Epoch 80/100\n",
      "84/84 [==============================] - 45s 530ms/step - loss: 0.2194 - accuracy: 0.9333 - val_loss: 0.3183 - val_accuracy: 0.8846\n",
      "Epoch 81/100\n",
      "84/84 [==============================] - 42s 498ms/step - loss: 0.2100 - accuracy: 0.9400 - val_loss: 0.3174 - val_accuracy: 0.8846\n",
      "Epoch 82/100\n",
      "84/84 [==============================] - 42s 501ms/step - loss: 0.2144 - accuracy: 0.9310 - val_loss: 0.3157 - val_accuracy: 0.8846\n",
      "Epoch 83/100\n",
      "84/84 [==============================] - 42s 497ms/step - loss: 0.2138 - accuracy: 0.9362 - val_loss: 0.3147 - val_accuracy: 0.8846\n",
      "Epoch 84/100\n",
      "84/84 [==============================] - 42s 503ms/step - loss: 0.2112 - accuracy: 0.9336 - val_loss: 0.3142 - val_accuracy: 0.8846\n",
      "Epoch 85/100\n",
      "84/84 [==============================] - 50s 599ms/step - loss: 0.2108 - accuracy: 0.9370 - val_loss: 0.3122 - val_accuracy: 0.8814\n",
      "Epoch 86/100\n",
      "84/84 [==============================] - 51s 610ms/step - loss: 0.2127 - accuracy: 0.9299 - val_loss: 0.3110 - val_accuracy: 0.8798\n",
      "Epoch 87/100\n",
      "84/84 [==============================] - 57s 675ms/step - loss: 0.2048 - accuracy: 0.9389 - val_loss: 0.3103 - val_accuracy: 0.8830\n",
      "Epoch 88/100\n",
      "84/84 [==============================] - 50s 591ms/step - loss: 0.2053 - accuracy: 0.9430 - val_loss: 0.3098 - val_accuracy: 0.8846\n",
      "Epoch 89/100\n",
      "84/84 [==============================] - 52s 619ms/step - loss: 0.2090 - accuracy: 0.9374 - val_loss: 0.3088 - val_accuracy: 0.8846\n",
      "Epoch 90/100\n",
      "84/84 [==============================] - 52s 620ms/step - loss: 0.2079 - accuracy: 0.9396 - val_loss: 0.3073 - val_accuracy: 0.8830\n",
      "Epoch 91/100\n",
      "84/84 [==============================] - 51s 604ms/step - loss: 0.2094 - accuracy: 0.9362 - val_loss: 0.3067 - val_accuracy: 0.8846\n",
      "Epoch 92/100\n",
      "84/84 [==============================] - 56s 668ms/step - loss: 0.2025 - accuracy: 0.9389 - val_loss: 0.3059 - val_accuracy: 0.8846\n",
      "Epoch 93/100\n",
      "84/84 [==============================] - 54s 640ms/step - loss: 0.2027 - accuracy: 0.9407 - val_loss: 0.3051 - val_accuracy: 0.8862\n",
      "Epoch 94/100\n",
      "84/84 [==============================] - 65s 769ms/step - loss: 0.2059 - accuracy: 0.9389 - val_loss: 0.3036 - val_accuracy: 0.8798\n",
      "Epoch 95/100\n",
      "84/84 [==============================] - 45s 528ms/step - loss: 0.2037 - accuracy: 0.9366 - val_loss: 0.3028 - val_accuracy: 0.8798\n",
      "Epoch 96/100\n",
      "84/84 [==============================] - 38s 449ms/step - loss: 0.2052 - accuracy: 0.9370 - val_loss: 0.3028 - val_accuracy: 0.8862\n",
      "Epoch 97/100\n",
      "84/84 [==============================] - 39s 466ms/step - loss: 0.1977 - accuracy: 0.9430 - val_loss: 0.3017 - val_accuracy: 0.8862\n",
      "Epoch 98/100\n",
      "84/84 [==============================] - 40s 474ms/step - loss: 0.1992 - accuracy: 0.9400 - val_loss: 0.3009 - val_accuracy: 0.8862\n",
      "Epoch 99/100\n",
      "84/84 [==============================] - 41s 483ms/step - loss: 0.1926 - accuracy: 0.9418 - val_loss: 0.3001 - val_accuracy: 0.8862\n",
      "Epoch 100/100\n",
      "84/84 [==============================] - 41s 486ms/step - loss: 0.1979 - accuracy: 0.9400 - val_loss: 0.2992 - val_accuracy: 0.8862\n"
     ]
    }
   ],
   "source": [
    "r = model.fit(training_set,validation_data=test_set,epochs=100,steps_per_epoch=len(training_set),validation_steps=len(test_set))"
   ]
  },
  {
   "cell_type": "code",
   "execution_count": 19,
   "id": "5694f1a3",
   "metadata": {},
   "outputs": [
    {
     "data": {
      "image/png": "[encoded data removed]",
      "text/plain": [
       "<Figure size 432x288 with 1 Axes>"
      ]
     },
     "metadata": {
      "needs_background": "light"
     },
     "output_type": "display_data"
    },
    {
     "data": {
      "image/png": "[encoded data removed]",
      "text/plain": [
       "<Figure size 432x288 with 1 Axes>"
      ]
     },
     "metadata": {
      "needs_background": "light"
     },
     "output_type": "display_data"
    },
    {
     "data": {
      "text/plain": [
       "<Figure size 432x288 with 0 Axes>"
      ]
     },
     "metadata": {},
     "output_type": "display_data"
    }
   ],
   "source": [
    "plt.plot(r.history['loss'], label='train loss')\n",
    "plt.plot(r.history['val_loss'], label='val loss')\n",
    "plt.legend()\n",
    "plt.show()\n",
    "plt.savefig('LossVal_loss')\n",
    "\n",
    "# plot the accuracy\n",
    "plt.plot(r.history['accuracy'], label='train acc')\n",
    "plt.plot(r.history['val_accuracy'], label='val acc')\n",
    "plt.legend()\n",
    "plt.show()\n",
    "plt.savefig('AccVal_acc')\n",
    "\n",
    "acc = r.history['accuracy']\n",
    "val_acc = r.history['val_accuracy']\n",
    "\n",
    "loss = r.history['loss']\n",
    "val_loss = r.history['val_loss']"
   ]
  },
  {
   "cell_type": "code",
   "execution_count": null,
   "id": "5339eb95",
   "metadata": {},
   "outputs": [],
   "source": []
  }
 ],
 "metadata": {
  "kernelspec": {
   "display_name": "Python 3.10.0 64-bit",
   "language": "python",
   "name": "python3"
  },
  "language_info": {
   "codemirror_mode": {
    "name": "ipython",
    "version": 3
   },
   "file_extension": ".py",
   "mimetype": "text/x-python",
   "name": "python",
   "nbconvert_exporter": "python",
   "pygments_lexer": "ipython3",
   "version": "3.10.0"
  },
  "vscode": {
   "interpreter": {
    "hash": "369f2c481f4da34e4445cda3fffd2e751bd1c4d706f27375911949ba6bb62e1c"
   }
  }
 },
 "nbformat": 4,
 "nbformat_minor": 5
}
