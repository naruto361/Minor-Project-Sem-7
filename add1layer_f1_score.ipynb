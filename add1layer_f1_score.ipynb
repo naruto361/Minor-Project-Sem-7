{
 "cells": [
  {
   "cell_type": "code",
   "execution_count": 30,
   "id": "5e08256b",
   "metadata": {},
   "outputs": [
    {
     "name": "stdout",
     "output_type": "stream",
     "text": [
      "Number of GPUS :  1\n"
     ]
    },
    {
     "data": {
      "text/plain": [
       "True"
      ]
     },
     "execution_count": 30,
     "metadata": {},
     "output_type": "execute_result"
    }
   ],
   "source": [
    "import tensorflow as tf\n",
    "from tensorflow import keras\n",
    "print(\"Number of GPUS : \", len(tf.config.experimental.list_physical_devices('GPU')))\n",
    "tf.test.is_built_with_cuda()"
   ]
  },
  {
   "cell_type": "code",
   "execution_count": 31,
   "id": "471ac85c",
   "metadata": {},
   "outputs": [],
   "source": [
    "from keras.layers import Input, Lambda, Dense, Flatten\n",
    "from keras.models import Model\n",
    "\n",
    "from keras.callbacks import EarlyStopping\n",
    "from keras.applications.vgg16 import VGG16\n",
    "from keras.applications.vgg16 import preprocess_input\n",
    "from keras.preprocessing import image\n",
    "from keras.preprocessing.image import ImageDataGenerator\n",
    "from keras.models import Sequential\n",
    "import numpy as np\n",
    "from glob import glob\n",
    "import matplotlib.pyplot as plt\n",
    "from imblearn.under_sampling import RandomUnderSampler\n",
    "from PIL import Image\n",
    "from tqdm import tqdm"
   ]
  },
  {
   "cell_type": "code",
   "execution_count": 32,
   "id": "b5e849c6",
   "metadata": {},
   "outputs": [],
   "source": [
    "import glob\n",
    "import cv2"
   ]
  },
  {
   "cell_type": "code",
   "execution_count": 33,
   "id": "5bfebc30",
   "metadata": {},
   "outputs": [
    {
     "name": "stderr",
     "output_type": "stream",
     "text": [
      "0it [00:00, ?it/s]"
     ]
    },
    {
     "name": "stdout",
     "output_type": "stream",
     "text": [
      "../trainingdata\\normal\n"
     ]
    },
    {
     "name": "stderr",
     "output_type": "stream",
     "text": [
      "\n"
     ]
    }
   ],
   "source": [
    "\n",
    "x_train = []\n",
    "y_train = []\n",
    "x_test = []\n",
    "y_test = []\n",
    "# val=[]\n",
    "\n",
    "\n",
    "for images in tqdm(glob.iglob(f'../trainingdata/*')):\n",
    "    print(images)\n",
    "    break\n",
    "    label = fun(images)\n",
    "    x_train.append(cv2.imread(images, 0))\n",
    "    y_train.append(label)"
   ]
  },
  {
   "cell_type": "code",
   "execution_count": 34,
   "id": "e2f4ae44",
   "metadata": {},
   "outputs": [],
   "source": [
    "vgg = VGG16(input_shape=[224, 224] + [3], weights='imagenet', include_top=False)"
   ]
  },
  {
   "cell_type": "code",
   "execution_count": 35,
   "id": "78fbfa52",
   "metadata": {},
   "outputs": [],
   "source": [
    "for layer in vgg.layers:\n",
    "    layer.trainable = False"
   ]
  },
  {
   "cell_type": "code",
   "execution_count": 36,
   "id": "5b9aaa7f",
   "metadata": {},
   "outputs": [],
   "source": [
    "x = Flatten()(vgg.output)"
   ]
  },
  {
   "cell_type": "code",
   "execution_count": 37,
   "id": "7c112efd",
   "metadata": {},
   "outputs": [],
   "source": [
    "folders = glob.glob('../over/*')"
   ]
  },
  {
   "cell_type": "code",
   "execution_count": 38,
   "id": "18c937c9",
   "metadata": {},
   "outputs": [
    {
     "name": "stdout",
     "output_type": "stream",
     "text": [
      "2\n"
     ]
    }
   ],
   "source": [
    "print(len(folders))"
   ]
  },
  {
   "cell_type": "code",
   "execution_count": 39,
   "id": "dc3f9a61",
   "metadata": {},
   "outputs": [],
   "source": [
    "from keras.layers import Conv2D, Dropout"
   ]
  },
  {
   "cell_type": "code",
   "execution_count": 40,
   "id": "3635996e",
   "metadata": {},
   "outputs": [],
   "source": [
    "model = Sequential()\n",
    "\n",
    "for layer in vgg.layers:\n",
    "    model.add(layer)\n",
    "    \n",
    "\n",
    "model.add(Dropout(0.3))\n",
    "model.add(Conv2D(64, (3, 3), activation='relu', padding='same', name='additional_layer') )\n",
    "\n",
    "model.add(Flatten())\n",
    "model.add(Dense(2, activation='softmax', name='predictions'))"
   ]
  },
  {
   "cell_type": "code",
   "execution_count": 41,
   "id": "b24cafc4",
   "metadata": {},
   "outputs": [
    {
     "name": "stdout",
     "output_type": "stream",
     "text": [
      "WARNING:tensorflow:EarlyStopping mode <built-in function min> is unknown, fallback to auto mode.\n"
     ]
    }
   ],
   "source": [
    "es=EarlyStopping(\n",
    "    monitor='val_accuracy',\n",
    "    patience=30,\n",
    "    verbose=1,\n",
    "    mode=min\n",
    ")"
   ]
  },
  {
   "cell_type": "code",
   "execution_count": 45,
   "id": "4f726af0",
   "metadata": {},
   "outputs": [],
   "source": [
    "# prediction = Dense(len(folders), activation='softmax')(x)\n",
    "\n",
    "# model = Model(vgg.inputs, output='predictions')"
   ]
  },
  {
   "cell_type": "code",
   "execution_count": 42,
   "id": "9e7e7b7b",
   "metadata": {},
   "outputs": [
    {
     "name": "stdout",
     "output_type": "stream",
     "text": [
      "Model: \"sequential_1\"\n",
      "_________________________________________________________________\n",
      " Layer (type)                Output Shape              Param #   \n",
      "=================================================================\n",
      " block1_conv1 (Conv2D)       (None, 224, 224, 64)      1792      \n",
      "                                                                 \n",
      " block1_conv2 (Conv2D)       (None, 224, 224, 64)      36928     \n",
      "                                                                 \n",
      " block1_pool (MaxPooling2D)  (None, 112, 112, 64)      0         \n",
      "                                                                 \n",
      " block2_conv1 (Conv2D)       (None, 112, 112, 128)     73856     \n",
      "                                                                 \n",
      " block2_conv2 (Conv2D)       (None, 112, 112, 128)     147584    \n",
      "                                                                 \n",
      " block2_pool (MaxPooling2D)  (None, 56, 56, 128)       0         \n",
      "                                                                 \n",
      " block3_conv1 (Conv2D)       (None, 56, 56, 256)       295168    \n",
      "                                                                 \n",
      " block3_conv2 (Conv2D)       (None, 56, 56, 256)       590080    \n",
      "                                                                 \n",
      " block3_conv3 (Conv2D)       (None, 56, 56, 256)       590080    \n",
      "                                                                 \n",
      " block3_pool (MaxPooling2D)  (None, 28, 28, 256)       0         \n",
      "                                                                 \n",
      " block4_conv1 (Conv2D)       (None, 28, 28, 512)       1180160   \n",
      "                                                                 \n",
      " block4_conv2 (Conv2D)       (None, 28, 28, 512)       2359808   \n",
      "                                                                 \n",
      " block4_conv3 (Conv2D)       (None, 28, 28, 512)       2359808   \n",
      "                                                                 \n",
      " block4_pool (MaxPooling2D)  (None, 14, 14, 512)       0         \n",
      "                                                                 \n",
      " block5_conv1 (Conv2D)       (None, 14, 14, 512)       2359808   \n",
      "                                                                 \n",
      " block5_conv2 (Conv2D)       (None, 14, 14, 512)       2359808   \n",
      "                                                                 \n",
      " block5_conv3 (Conv2D)       (None, 14, 14, 512)       2359808   \n",
      "                                                                 \n",
      " block5_pool (MaxPooling2D)  (None, 7, 7, 512)         0         \n",
      "                                                                 \n",
      " dropout_1 (Dropout)         (None, 7, 7, 512)         0         \n",
      "                                                                 \n",
      " additional_layer (Conv2D)   (None, 7, 7, 64)          294976    \n",
      "                                                                 \n",
      " flatten_3 (Flatten)         (None, 3136)              0         \n",
      "                                                                 \n",
      " predictions (Dense)         (None, 2)                 6274      \n",
      "                                                                 \n",
      "=================================================================\n",
      "Total params: 15,015,938\n",
      "Trainable params: 301,250\n",
      "Non-trainable params: 14,714,688\n",
      "_________________________________________________________________\n"
     ]
    }
   ],
   "source": [
    "model.summary()"
   ]
  },
  {
   "cell_type": "code",
   "execution_count": 43,
   "id": "3b83e260",
   "metadata": {},
   "outputs": [
    {
     "name": "stderr",
     "output_type": "stream",
     "text": [
      "c:\\Python310\\lib\\site-packages\\keras\\optimizers\\optimizer_v2\\adam.py:114: UserWarning: The `lr` argument is deprecated, use `learning_rate` instead.\n",
      "  super().__init__(name, **kwargs)\n"
     ]
    }
   ],
   "source": [
    "optimizer = keras.optimizers.Adam(lr=0.00001)"
   ]
  },
  {
   "cell_type": "code",
   "execution_count": 44,
   "id": "4baa0526",
   "metadata": {},
   "outputs": [],
   "source": [
    "model.compile(\n",
    "  loss='categorical_crossentropy',\n",
    "  optimizer=optimizer,\n",
    "  metrics=['accuracy']\n",
    ")"
   ]
  },
  {
   "cell_type": "code",
   "execution_count": 16,
   "id": "85577d74",
   "metadata": {},
   "outputs": [],
   "source": [
    "from keras.preprocessing.image import ImageDataGenerator\n",
    "\n",
    "train_datagen = ImageDataGenerator(rescale = 1./255,\n",
    "                                   shear_range = 0.2,\n",
    "                                   zoom_range = 0.2,\n",
    "                                   horizontal_flip = True)\n",
    "\n",
    "test_datagen = ImageDataGenerator(rescale = 1./255)"
   ]
  },
  {
   "cell_type": "code",
   "execution_count": 45,
   "id": "7071fe15",
   "metadata": {},
   "outputs": [],
   "source": [
    "train_path = '../over'\n",
    "test_path = '../dataset/chest_xray/test'"
   ]
  },
  {
   "cell_type": "code",
   "execution_count": 46,
   "id": "ec0bfb69",
   "metadata": {},
   "outputs": [
    {
     "name": "stdout",
     "output_type": "stream",
     "text": [
      "Found 7750 images belonging to 2 classes.\n"
     ]
    }
   ],
   "source": [
    "training_set = train_datagen.flow_from_directory(train_path,\n",
    "                                                 target_size = (224, 224),\n",
    "                                                 batch_size = 32,\n",
    "                                                 class_mode = 'categorical')"
   ]
  },
  {
   "cell_type": "code",
   "execution_count": 47,
   "id": "02a4d5c9",
   "metadata": {},
   "outputs": [
    {
     "data": {
      "text/plain": [
       "{'normal': 0, 'pneumonia': 1}"
      ]
     },
     "execution_count": 47,
     "metadata": {},
     "output_type": "execute_result"
    }
   ],
   "source": [
    "training_set.class_indices"
   ]
  },
  {
   "cell_type": "code",
   "execution_count": 48,
   "id": "5736a654",
   "metadata": {},
   "outputs": [
    {
     "name": "stdout",
     "output_type": "stream",
     "text": [
      "Found 624 images belonging to 2 classes.\n"
     ]
    }
   ],
   "source": [
    "test_set = test_datagen.flow_from_directory(test_path,\n",
    "                                            target_size = (224, 224),\n",
    "                                            batch_size = 32,\n",
    "                                            class_mode = 'categorical', \n",
    "                                            shuffle=False)"
   ]
  },
  {
   "cell_type": "code",
   "execution_count": 49,
   "id": "5dc20f74",
   "metadata": {},
   "outputs": [
    {
     "name": "stdout",
     "output_type": "stream",
     "text": [
      "Epoch 1/100\n",
      "243/243 [==============================] - 134s 536ms/step - loss: 0.5584 - accuracy: 0.7225 - val_loss: 0.4629 - val_accuracy: 0.8429\n",
      "Epoch 2/100\n",
      "243/243 [==============================] - 109s 446ms/step - loss: 0.3500 - accuracy: 0.8710 - val_loss: 0.3592 - val_accuracy: 0.8590\n",
      "Epoch 3/100\n",
      "243/243 [==============================] - 110s 453ms/step - loss: 0.2672 - accuracy: 0.9048 - val_loss: 0.3207 - val_accuracy: 0.8606\n",
      "Epoch 4/100\n",
      "243/243 [==============================] - 115s 472ms/step - loss: 0.2251 - accuracy: 0.9178 - val_loss: 0.2987 - val_accuracy: 0.8750\n",
      "Epoch 5/100\n",
      "243/243 [==============================] - 114s 469ms/step - loss: 0.2038 - accuracy: 0.9246 - val_loss: 0.2870 - val_accuracy: 0.8782\n",
      "Epoch 6/100\n",
      "243/243 [==============================] - 113s 466ms/step - loss: 0.1940 - accuracy: 0.9277 - val_loss: 0.2748 - val_accuracy: 0.8846\n",
      "Epoch 7/100\n",
      "243/243 [==============================] - 116s 475ms/step - loss: 0.1854 - accuracy: 0.9321 - val_loss: 0.2641 - val_accuracy: 0.8942\n",
      "Epoch 8/100\n",
      "243/243 [==============================] - 122s 500ms/step - loss: 0.1767 - accuracy: 0.9361 - val_loss: 0.2559 - val_accuracy: 0.8990\n",
      "Epoch 9/100\n",
      "243/243 [==============================] - 120s 492ms/step - loss: 0.1670 - accuracy: 0.9382 - val_loss: 0.2505 - val_accuracy: 0.9022\n",
      "Epoch 10/100\n",
      "243/243 [==============================] - 140s 577ms/step - loss: 0.1578 - accuracy: 0.9428 - val_loss: 0.2464 - val_accuracy: 0.9038\n",
      "Epoch 11/100\n",
      "243/243 [==============================] - 140s 573ms/step - loss: 0.1525 - accuracy: 0.9443 - val_loss: 0.2378 - val_accuracy: 0.9071\n",
      "Epoch 12/100\n",
      "243/243 [==============================] - 141s 579ms/step - loss: 0.1464 - accuracy: 0.9466 - val_loss: 0.2339 - val_accuracy: 0.9103\n",
      "Epoch 13/100\n",
      "243/243 [==============================] - 139s 570ms/step - loss: 0.1434 - accuracy: 0.9505 - val_loss: 0.2331 - val_accuracy: 0.9151\n",
      "Epoch 14/100\n",
      "243/243 [==============================] - 127s 522ms/step - loss: 0.1412 - accuracy: 0.9502 - val_loss: 0.2304 - val_accuracy: 0.9103\n",
      "Epoch 15/100\n",
      "243/243 [==============================] - 116s 478ms/step - loss: 0.1378 - accuracy: 0.9502 - val_loss: 0.2248 - val_accuracy: 0.9119\n",
      "Epoch 16/100\n",
      "243/243 [==============================] - 116s 475ms/step - loss: 0.1310 - accuracy: 0.9525 - val_loss: 0.2236 - val_accuracy: 0.9183\n",
      "Epoch 17/100\n",
      "243/243 [==============================] - 115s 474ms/step - loss: 0.1335 - accuracy: 0.9523 - val_loss: 0.2233 - val_accuracy: 0.9183\n",
      "Epoch 18/100\n",
      "243/243 [==============================] - 119s 489ms/step - loss: 0.1302 - accuracy: 0.9537 - val_loss: 0.2213 - val_accuracy: 0.9167\n",
      "Epoch 19/100\n",
      "243/243 [==============================] - 139s 571ms/step - loss: 0.1252 - accuracy: 0.9563 - val_loss: 0.2204 - val_accuracy: 0.9167\n",
      "Epoch 20/100\n",
      "243/243 [==============================] - 144s 593ms/step - loss: 0.1281 - accuracy: 0.9550 - val_loss: 0.2190 - val_accuracy: 0.9151\n",
      "Epoch 21/100\n",
      "243/243 [==============================] - 139s 573ms/step - loss: 0.1211 - accuracy: 0.9565 - val_loss: 0.2205 - val_accuracy: 0.9167\n",
      "Epoch 22/100\n",
      "243/243 [==============================] - 140s 576ms/step - loss: 0.1205 - accuracy: 0.9556 - val_loss: 0.2175 - val_accuracy: 0.9135\n",
      "Epoch 23/100\n",
      "243/243 [==============================] - 139s 572ms/step - loss: 0.1198 - accuracy: 0.9587 - val_loss: 0.2160 - val_accuracy: 0.9183\n",
      "Epoch 24/100\n",
      "243/243 [==============================] - 139s 571ms/step - loss: 0.1197 - accuracy: 0.9560 - val_loss: 0.2149 - val_accuracy: 0.9151\n",
      "Epoch 25/100\n",
      "243/243 [==============================] - 121s 497ms/step - loss: 0.1202 - accuracy: 0.9559 - val_loss: 0.2131 - val_accuracy: 0.9215\n",
      "Epoch 26/100\n",
      "243/243 [==============================] - 110s 452ms/step - loss: 0.1161 - accuracy: 0.9606 - val_loss: 0.2142 - val_accuracy: 0.9167\n",
      "Epoch 27/100\n",
      "243/243 [==============================] - 110s 453ms/step - loss: 0.1130 - accuracy: 0.9595 - val_loss: 0.2220 - val_accuracy: 0.9167\n",
      "Epoch 28/100\n",
      "243/243 [==============================] - 110s 453ms/step - loss: 0.1119 - accuracy: 0.9606 - val_loss: 0.2140 - val_accuracy: 0.9215\n",
      "Epoch 29/100\n",
      "243/243 [==============================] - 120s 492ms/step - loss: 0.1152 - accuracy: 0.9590 - val_loss: 0.2134 - val_accuracy: 0.9183\n",
      "Epoch 30/100\n",
      "243/243 [==============================] - 117s 479ms/step - loss: 0.1102 - accuracy: 0.9614 - val_loss: 0.2151 - val_accuracy: 0.9183\n",
      "Epoch 31/100\n",
      "243/243 [==============================] - 116s 478ms/step - loss: 0.1077 - accuracy: 0.9612 - val_loss: 0.2128 - val_accuracy: 0.9183\n",
      "Epoch 32/100\n",
      "243/243 [==============================] - 117s 482ms/step - loss: 0.1088 - accuracy: 0.9614 - val_loss: 0.2136 - val_accuracy: 0.9231\n",
      "Epoch 33/100\n",
      "243/243 [==============================] - 115s 473ms/step - loss: 0.1098 - accuracy: 0.9613 - val_loss: 0.2147 - val_accuracy: 0.9231\n",
      "Epoch 34/100\n",
      "243/243 [==============================] - 119s 487ms/step - loss: 0.1053 - accuracy: 0.9628 - val_loss: 0.2139 - val_accuracy: 0.9183\n",
      "Epoch 35/100\n",
      "243/243 [==============================] - 126s 516ms/step - loss: 0.1065 - accuracy: 0.9614 - val_loss: 0.2146 - val_accuracy: 0.9199\n",
      "Epoch 36/100\n",
      "243/243 [==============================] - 121s 495ms/step - loss: 0.1037 - accuracy: 0.9603 - val_loss: 0.2157 - val_accuracy: 0.9199\n",
      "Epoch 37/100\n",
      "243/243 [==============================] - 120s 494ms/step - loss: 0.1015 - accuracy: 0.9636 - val_loss: 0.2202 - val_accuracy: 0.9199\n",
      "Epoch 38/100\n",
      "243/243 [==============================] - 128s 525ms/step - loss: 0.1034 - accuracy: 0.9634 - val_loss: 0.2162 - val_accuracy: 0.9183\n",
      "Epoch 39/100\n",
      "243/243 [==============================] - 129s 530ms/step - loss: 0.1030 - accuracy: 0.9645 - val_loss: 0.2153 - val_accuracy: 0.9167\n",
      "Epoch 40/100\n",
      "243/243 [==============================] - 128s 527ms/step - loss: 0.0979 - accuracy: 0.9645 - val_loss: 0.2160 - val_accuracy: 0.9183\n",
      "Epoch 41/100\n",
      "243/243 [==============================] - 119s 487ms/step - loss: 0.1051 - accuracy: 0.9625 - val_loss: 0.2183 - val_accuracy: 0.9231\n",
      "Epoch 42/100\n",
      "243/243 [==============================] - 116s 476ms/step - loss: 0.0996 - accuracy: 0.9668 - val_loss: 0.2129 - val_accuracy: 0.9199\n",
      "Epoch 43/100\n",
      "243/243 [==============================] - 121s 498ms/step - loss: 0.0961 - accuracy: 0.9667 - val_loss: 0.2145 - val_accuracy: 0.9199\n",
      "Epoch 44/100\n",
      "243/243 [==============================] - 130s 535ms/step - loss: 0.0947 - accuracy: 0.9659 - val_loss: 0.2150 - val_accuracy: 0.9199\n",
      "Epoch 45/100\n",
      "243/243 [==============================] - 123s 505ms/step - loss: 0.0945 - accuracy: 0.9676 - val_loss: 0.2143 - val_accuracy: 0.9183\n",
      "Epoch 46/100\n",
      "243/243 [==============================] - 135s 557ms/step - loss: 0.0963 - accuracy: 0.9652 - val_loss: 0.2164 - val_accuracy: 0.9183\n",
      "Epoch 47/100\n",
      "243/243 [==============================] - 134s 550ms/step - loss: 0.0958 - accuracy: 0.9653 - val_loss: 0.2158 - val_accuracy: 0.9183\n",
      "Epoch 48/100\n",
      "243/243 [==============================] - 115s 472ms/step - loss: 0.0955 - accuracy: 0.9675 - val_loss: 0.2215 - val_accuracy: 0.9183\n",
      "Epoch 49/100\n",
      "243/243 [==============================] - 115s 471ms/step - loss: 0.0959 - accuracy: 0.9658 - val_loss: 0.2155 - val_accuracy: 0.9183\n",
      "Epoch 50/100\n",
      "243/243 [==============================] - 116s 477ms/step - loss: 0.0918 - accuracy: 0.9683 - val_loss: 0.2159 - val_accuracy: 0.9183\n",
      "Epoch 51/100\n",
      "243/243 [==============================] - 115s 472ms/step - loss: 0.0937 - accuracy: 0.9657 - val_loss: 0.2245 - val_accuracy: 0.9199\n",
      "Epoch 52/100\n",
      "243/243 [==============================] - 114s 468ms/step - loss: 0.0917 - accuracy: 0.9675 - val_loss: 0.2185 - val_accuracy: 0.9151\n",
      "Epoch 53/100\n",
      "243/243 [==============================] - 112s 462ms/step - loss: 0.0897 - accuracy: 0.9684 - val_loss: 0.2182 - val_accuracy: 0.9151\n",
      "Epoch 54/100\n",
      "243/243 [==============================] - 114s 466ms/step - loss: 0.0902 - accuracy: 0.9690 - val_loss: 0.2208 - val_accuracy: 0.9199\n",
      "Epoch 55/100\n",
      "243/243 [==============================] - 123s 505ms/step - loss: 0.0902 - accuracy: 0.9694 - val_loss: 0.2201 - val_accuracy: 0.9199\n",
      "Epoch 56/100\n",
      "243/243 [==============================] - 117s 479ms/step - loss: 0.0865 - accuracy: 0.9705 - val_loss: 0.2168 - val_accuracy: 0.9167\n",
      "Epoch 57/100\n",
      "243/243 [==============================] - 119s 488ms/step - loss: 0.0917 - accuracy: 0.9676 - val_loss: 0.2189 - val_accuracy: 0.9199\n",
      "Epoch 58/100\n",
      "243/243 [==============================] - 118s 484ms/step - loss: 0.0903 - accuracy: 0.9679 - val_loss: 0.2209 - val_accuracy: 0.9199\n",
      "Epoch 59/100\n",
      "243/243 [==============================] - 117s 479ms/step - loss: 0.0886 - accuracy: 0.9675 - val_loss: 0.2227 - val_accuracy: 0.9183\n",
      "Epoch 60/100\n",
      "243/243 [==============================] - 116s 476ms/step - loss: 0.0855 - accuracy: 0.9685 - val_loss: 0.2178 - val_accuracy: 0.9183\n",
      "Epoch 61/100\n",
      "243/243 [==============================] - 115s 472ms/step - loss: 0.0893 - accuracy: 0.9685 - val_loss: 0.2188 - val_accuracy: 0.9183\n",
      "Epoch 62/100\n",
      "243/243 [==============================] - 114s 470ms/step - loss: 0.0873 - accuracy: 0.9699 - val_loss: 0.2182 - val_accuracy: 0.9183\n",
      "Epoch 62: early stopping\n"
     ]
    }
   ],
   "source": [
    "r = model.fit(training_set,validation_data=test_set,epochs=100,steps_per_epoch=len(training_set),validation_steps=len(test_set),callbacks=[es])"
   ]
  },
  {
   "cell_type": "code",
   "execution_count": 50,
   "id": "5694f1a3",
   "metadata": {},
   "outputs": [
    {
     "data": {
      "image/png": "[encoded data removed]",
      "text/plain": [
       "<Figure size 432x288 with 1 Axes>"
      ]
     },
     "metadata": {
      "needs_background": "light"
     },
     "output_type": "display_data"
    },
    {
     "data": {
      "image/png": "[encoded data removed]",
      "text/plain": [
       "<Figure size 432x288 with 1 Axes>"
      ]
     },
     "metadata": {
      "needs_background": "light"
     },
     "output_type": "display_data"
    },
    {
     "data": {
      "text/plain": [
       "<Figure size 432x288 with 0 Axes>"
      ]
     },
     "metadata": {},
     "output_type": "display_data"
    }
   ],
   "source": [
    "plt.plot(r.history['loss'], label='train loss')\n",
    "plt.plot(r.history['val_loss'], label='val loss')\n",
    "plt.legend()\n",
    "plt.show()\n",
    "plt.savefig('LossVal_loss')\n",
    "\n",
    "# plot the accuracy\n",
    "plt.plot(r.history['accuracy'], label='train acc')\n",
    "plt.plot(r.history['val_accuracy'], label='val acc')\n",
    "plt.legend()\n",
    "plt.show()\n",
    "plt.savefig('AccVal_acc')\n",
    "\n",
    "acc = r.history['accuracy']\n",
    "val_acc = r.history['val_accuracy']\n",
    "\n",
    "loss = r.history['loss']\n",
    "val_loss = r.history['val_loss']"
   ]
  },
  {
   "cell_type": "code",
   "execution_count": 51,
   "id": "3ef7fbed",
   "metadata": {},
   "outputs": [],
   "source": [
    "from sklearn.metrics import classification_report, confusion_matrix"
   ]
  },
  {
   "cell_type": "code",
   "execution_count": 52,
   "id": "5bcfd7e0",
   "metadata": {},
   "outputs": [
    {
     "name": "stderr",
     "output_type": "stream",
     "text": [
      "C:\\Users\\SAKSHAM\\AppData\\Local\\Temp\\ipykernel_15988\\9868999.py:1: UserWarning: `Model.predict_generator` is deprecated and will be removed in a future version. Please use `Model.predict`, which supports generators.\n",
      "  Y_pred = model.predict_generator(test_set, verbose = True)\n"
     ]
    },
    {
     "name": "stdout",
     "output_type": "stream",
     "text": [
      "20/20 [==============================] - 7s 302ms/step\n",
      "Confusion Matrix\n",
      "[[204  30]\n",
      " [ 21 369]]\n",
      "Classification Report\n",
      "              precision    recall  f1-score   support\n",
      "\n",
      "      normal       0.91      0.87      0.89       234\n",
      "   pneumonia       0.92      0.95      0.94       390\n",
      "\n",
      "    accuracy                           0.92       624\n",
      "   macro avg       0.92      0.91      0.91       624\n",
      "weighted avg       0.92      0.92      0.92       624\n",
      "\n"
     ]
    }
   ],
   "source": [
    "Y_pred = model.predict_generator(test_set, verbose = True)\n",
    "y_pred = np.argmax(Y_pred, axis=1)\n",
    "print('Confusion Matrix')\n",
    "print(confusion_matrix(test_set.classes, y_pred))\n",
    "print('Classification Report')\n",
    "target_names = list(training_set.class_indices.keys())\n",
    "print(classification_report(test_set.classes, y_pred, target_names=target_names))"
   ]
  },
  {
   "cell_type": "code",
   "execution_count": null,
   "id": "93e07af9",
   "metadata": {},
   "outputs": [],
   "source": []
  }
 ],
 "metadata": {
  "kernelspec": {
   "display_name": "Python 3.10.0 64-bit",
   "language": "python",
   "name": "python3"
  },
  "language_info": {
   "codemirror_mode": {
    "name": "ipython",
    "version": 3
   },
   "file_extension": ".py",
   "mimetype": "text/x-python",
   "name": "python",
   "nbconvert_exporter": "python",
   "pygments_lexer": "ipython3",
   "version": "3.10.0"
  },
  "vscode": {
   "interpreter": {
    "hash": "369f2c481f4da34e4445cda3fffd2e751bd1c4d706f27375911949ba6bb62e1c"
   }
  }
 },
 "nbformat": 4,
 "nbformat_minor": 5
}
