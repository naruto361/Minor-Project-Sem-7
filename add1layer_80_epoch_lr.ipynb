{
 "cells": [
  {
   "cell_type": "code",
   "execution_count": 1,
   "id": "5e08256b",
   "metadata": {},
   "outputs": [
    {
     "name": "stdout",
     "output_type": "stream",
     "text": [
      "Number of GPUS :  1\n"
     ]
    },
    {
     "data": {
      "text/plain": [
       "True"
      ]
     },
     "execution_count": 1,
     "metadata": {},
     "output_type": "execute_result"
    }
   ],
   "source": [
    "import tensorflow as tf\n",
    "from tensorflow import keras\n",
    "print(\"Number of GPUS : \", len(tf.config.experimental.list_physical_devices('GPU')))\n",
    "tf.test.is_built_with_cuda()"
   ]
  },
  {
   "cell_type": "code",
   "execution_count": 2,
   "id": "471ac85c",
   "metadata": {},
   "outputs": [],
   "source": [
    "from keras.layers import Input, Lambda, Dense, Flatten\n",
    "from keras.models import Model\n",
    "\n",
    "from keras.callbacks import EarlyStopping\n",
    "from keras.applications.vgg16 import VGG16\n",
    "from keras.applications.vgg16 import preprocess_input\n",
    "from keras.preprocessing import image\n",
    "from keras.preprocessing.image import ImageDataGenerator\n",
    "from keras.models import Sequential\n",
    "import numpy as np\n",
    "from glob import glob\n",
    "import matplotlib.pyplot as plt\n",
    "from imblearn.under_sampling import RandomUnderSampler\n",
    "from PIL import Image\n",
    "from tqdm import tqdm"
   ]
  },
  {
   "cell_type": "code",
   "execution_count": 3,
   "id": "b5e849c6",
   "metadata": {},
   "outputs": [],
   "source": [
    "import glob\n",
    "import cv2"
   ]
  },
  {
   "cell_type": "code",
   "execution_count": 4,
   "id": "5bfebc30",
   "metadata": {},
   "outputs": [
    {
     "name": "stderr",
     "output_type": "stream",
     "text": [
      "0it [00:00, ?it/s]"
     ]
    },
    {
     "name": "stdout",
     "output_type": "stream",
     "text": [
      "../trainingdata\\normal\n"
     ]
    },
    {
     "name": "stderr",
     "output_type": "stream",
     "text": [
      "\n"
     ]
    }
   ],
   "source": [
    "\n",
    "x_train = []\n",
    "y_train = []\n",
    "x_test = []\n",
    "y_test = []\n",
    "# val=[]\n",
    "\n",
    "\n",
    "for images in tqdm(glob.iglob(f'../trainingdata/*')):\n",
    "    print(images)\n",
    "    break\n",
    "    label = fun(images)\n",
    "    x_train.append(cv2.imread(images, 0))\n",
    "    y_train.append(label)"
   ]
  },
  {
   "cell_type": "code",
   "execution_count": 5,
   "id": "e2f4ae44",
   "metadata": {},
   "outputs": [],
   "source": [
    "vgg = VGG16(input_shape=[224, 224] + [3], weights='imagenet', include_top=False)"
   ]
  },
  {
   "cell_type": "code",
   "execution_count": 6,
   "id": "78fbfa52",
   "metadata": {},
   "outputs": [],
   "source": [
    "for layer in vgg.layers:\n",
    "    layer.trainable = False"
   ]
  },
  {
   "cell_type": "code",
   "execution_count": 7,
   "id": "5b9aaa7f",
   "metadata": {},
   "outputs": [],
   "source": [
    "x = Flatten()(vgg.output)"
   ]
  },
  {
   "cell_type": "code",
   "execution_count": 8,
   "id": "7c112efd",
   "metadata": {},
   "outputs": [],
   "source": [
    "folders = glob.glob('../over/*')"
   ]
  },
  {
   "cell_type": "code",
   "execution_count": 9,
   "id": "18c937c9",
   "metadata": {},
   "outputs": [
    {
     "name": "stdout",
     "output_type": "stream",
     "text": [
      "2\n"
     ]
    }
   ],
   "source": [
    "print(len(folders))"
   ]
  },
  {
   "cell_type": "code",
   "execution_count": 10,
   "id": "dc3f9a61",
   "metadata": {},
   "outputs": [],
   "source": [
    "from keras.layers import Conv2D, Dropout"
   ]
  },
  {
   "cell_type": "code",
   "execution_count": 11,
   "id": "3635996e",
   "metadata": {},
   "outputs": [],
   "source": [
    "model = Sequential()\n",
    "\n",
    "for layer in vgg.layers:\n",
    "    model.add(layer)\n",
    "    \n",
    "\n",
    "model.add(Dropout(0.3))\n",
    "model.add(Conv2D(64, (3, 3), activation='relu', padding='same', name='additional_layer') )\n",
    "model.add(Flatten())\n",
    "model.add(Dense(2, activation='softmax', name='predictions'))"
   ]
  },
  {
   "cell_type": "code",
   "execution_count": 12,
   "id": "b24cafc4",
   "metadata": {},
   "outputs": [
    {
     "name": "stdout",
     "output_type": "stream",
     "text": [
      "WARNING:tensorflow:EarlyStopping mode <built-in function min> is unknown, fallback to auto mode.\n"
     ]
    }
   ],
   "source": [
    "es=EarlyStopping(\n",
    "    monitor='val_accuracy',\n",
    "    patience=30,\n",
    "    verbose=1,\n",
    "    mode=min\n",
    ")"
   ]
  },
  {
   "cell_type": "code",
   "execution_count": 45,
   "id": "4f726af0",
   "metadata": {},
   "outputs": [],
   "source": [
    "# prediction = Dense(len(folders), activation='softmax')(x)\n",
    "\n",
    "# model = Model(vgg.inputs, output='predictions')"
   ]
  },
  {
   "cell_type": "code",
   "execution_count": 13,
   "id": "9e7e7b7b",
   "metadata": {},
   "outputs": [
    {
     "name": "stdout",
     "output_type": "stream",
     "text": [
      "Model: \"sequential\"\n",
      "_________________________________________________________________\n",
      " Layer (type)                Output Shape              Param #   \n",
      "=================================================================\n",
      " block1_conv1 (Conv2D)       (None, 224, 224, 64)      1792      \n",
      "                                                                 \n",
      " block1_conv2 (Conv2D)       (None, 224, 224, 64)      36928     \n",
      "                                                                 \n",
      " block1_pool (MaxPooling2D)  (None, 112, 112, 64)      0         \n",
      "                                                                 \n",
      " block2_conv1 (Conv2D)       (None, 112, 112, 128)     73856     \n",
      "                                                                 \n",
      " block2_conv2 (Conv2D)       (None, 112, 112, 128)     147584    \n",
      "                                                                 \n",
      " block2_pool (MaxPooling2D)  (None, 56, 56, 128)       0         \n",
      "                                                                 \n",
      " block3_conv1 (Conv2D)       (None, 56, 56, 256)       295168    \n",
      "                                                                 \n",
      " block3_conv2 (Conv2D)       (None, 56, 56, 256)       590080    \n",
      "                                                                 \n",
      " block3_conv3 (Conv2D)       (None, 56, 56, 256)       590080    \n",
      "                                                                 \n",
      " block3_pool (MaxPooling2D)  (None, 28, 28, 256)       0         \n",
      "                                                                 \n",
      " block4_conv1 (Conv2D)       (None, 28, 28, 512)       1180160   \n",
      "                                                                 \n",
      " block4_conv2 (Conv2D)       (None, 28, 28, 512)       2359808   \n",
      "                                                                 \n",
      " block4_conv3 (Conv2D)       (None, 28, 28, 512)       2359808   \n",
      "                                                                 \n",
      " block4_pool (MaxPooling2D)  (None, 14, 14, 512)       0         \n",
      "                                                                 \n",
      " block5_conv1 (Conv2D)       (None, 14, 14, 512)       2359808   \n",
      "                                                                 \n",
      " block5_conv2 (Conv2D)       (None, 14, 14, 512)       2359808   \n",
      "                                                                 \n",
      " block5_conv3 (Conv2D)       (None, 14, 14, 512)       2359808   \n",
      "                                                                 \n",
      " block5_pool (MaxPooling2D)  (None, 7, 7, 512)         0         \n",
      "                                                                 \n",
      " dropout (Dropout)           (None, 7, 7, 512)         0         \n",
      "                                                                 \n",
      " additional_layer (Conv2D)   (None, 7, 7, 64)          294976    \n",
      "                                                                 \n",
      " flatten_1 (Flatten)         (None, 3136)              0         \n",
      "                                                                 \n",
      " predictions (Dense)         (None, 2)                 6274      \n",
      "                                                                 \n",
      "=================================================================\n",
      "Total params: 15,015,938\n",
      "Trainable params: 301,250\n",
      "Non-trainable params: 14,714,688\n",
      "_________________________________________________________________\n"
     ]
    }
   ],
   "source": [
    "model.summary()"
   ]
  },
  {
   "cell_type": "code",
   "execution_count": 14,
   "id": "3b83e260",
   "metadata": {},
   "outputs": [
    {
     "name": "stderr",
     "output_type": "stream",
     "text": [
      "c:\\Python310\\lib\\site-packages\\keras\\optimizers\\optimizer_v2\\adam.py:114: UserWarning: The `lr` argument is deprecated, use `learning_rate` instead.\n",
      "  super().__init__(name, **kwargs)\n"
     ]
    }
   ],
   "source": [
    "optimizer = keras.optimizers.Adam(lr=0.00001)"
   ]
  },
  {
   "cell_type": "code",
   "execution_count": 15,
   "id": "4baa0526",
   "metadata": {},
   "outputs": [],
   "source": [
    "model.compile(\n",
    "  loss='categorical_crossentropy',\n",
    "  optimizer=optimizer,\n",
    "  metrics=['accuracy']\n",
    ")"
   ]
  },
  {
   "cell_type": "code",
   "execution_count": 16,
   "id": "85577d74",
   "metadata": {},
   "outputs": [],
   "source": [
    "from keras.preprocessing.image import ImageDataGenerator\n",
    "\n",
    "train_datagen = ImageDataGenerator(rescale = 1./255,\n",
    "                                   shear_range = 0.2,\n",
    "                                   zoom_range = 0.2,\n",
    "                                   horizontal_flip = True)\n",
    "\n",
    "test_datagen = ImageDataGenerator(rescale = 1./255)"
   ]
  },
  {
   "cell_type": "code",
   "execution_count": 17,
   "id": "7071fe15",
   "metadata": {},
   "outputs": [],
   "source": [
    "train_path = '../over'\n",
    "test_path = '../dataset/chest_xray/test'"
   ]
  },
  {
   "cell_type": "code",
   "execution_count": 18,
   "id": "ec0bfb69",
   "metadata": {},
   "outputs": [
    {
     "name": "stdout",
     "output_type": "stream",
     "text": [
      "Found 7750 images belonging to 2 classes.\n"
     ]
    }
   ],
   "source": [
    "training_set = train_datagen.flow_from_directory(train_path,\n",
    "                                                 target_size = (224, 224),\n",
    "                                                 batch_size = 32,\n",
    "                                                 class_mode = 'categorical')"
   ]
  },
  {
   "cell_type": "code",
   "execution_count": 19,
   "id": "02a4d5c9",
   "metadata": {},
   "outputs": [
    {
     "data": {
      "text/plain": [
       "{'normal': 0, 'pneumonia': 1}"
      ]
     },
     "execution_count": 19,
     "metadata": {},
     "output_type": "execute_result"
    }
   ],
   "source": [
    "training_set.class_indices"
   ]
  },
  {
   "cell_type": "code",
   "execution_count": 20,
   "id": "5736a654",
   "metadata": {},
   "outputs": [
    {
     "name": "stdout",
     "output_type": "stream",
     "text": [
      "Found 624 images belonging to 2 classes.\n"
     ]
    }
   ],
   "source": [
    "test_set = test_datagen.flow_from_directory(test_path,\n",
    "                                            target_size = (224, 224),\n",
    "                                            batch_size = 32,\n",
    "                                            class_mode = 'categorical')"
   ]
  },
  {
   "cell_type": "code",
   "execution_count": 21,
   "id": "5dc20f74",
   "metadata": {},
   "outputs": [
    {
     "name": "stdout",
     "output_type": "stream",
     "text": [
      "Epoch 1/80\n",
      "243/243 [==============================] - 234s 919ms/step - loss: 0.5244 - accuracy: 0.7599 - val_loss: 0.4503 - val_accuracy: 0.8189\n",
      "Epoch 2/80\n",
      "243/243 [==============================] - 106s 436ms/step - loss: 0.3299 - accuracy: 0.8866 - val_loss: 0.3579 - val_accuracy: 0.8590\n",
      "Epoch 3/80\n",
      "243/243 [==============================] - 106s 434ms/step - loss: 0.2578 - accuracy: 0.9081 - val_loss: 0.3254 - val_accuracy: 0.8606\n",
      "Epoch 4/80\n",
      "243/243 [==============================] - 112s 460ms/step - loss: 0.2264 - accuracy: 0.9152 - val_loss: 0.3014 - val_accuracy: 0.8718\n",
      "Epoch 5/80\n",
      "243/243 [==============================] - 112s 461ms/step - loss: 0.2030 - accuracy: 0.9249 - val_loss: 0.2863 - val_accuracy: 0.8798\n",
      "Epoch 6/80\n",
      "243/243 [==============================] - 116s 477ms/step - loss: 0.1913 - accuracy: 0.9294 - val_loss: 0.2733 - val_accuracy: 0.8894\n",
      "Epoch 7/80\n",
      "243/243 [==============================] - 121s 497ms/step - loss: 0.1791 - accuracy: 0.9368 - val_loss: 0.2647 - val_accuracy: 0.8942\n",
      "Epoch 8/80\n",
      "243/243 [==============================] - 116s 475ms/step - loss: 0.1713 - accuracy: 0.9391 - val_loss: 0.2549 - val_accuracy: 0.9006\n",
      "Epoch 9/80\n",
      "243/243 [==============================] - 115s 472ms/step - loss: 0.1657 - accuracy: 0.9417 - val_loss: 0.2464 - val_accuracy: 0.9087\n",
      "Epoch 10/80\n",
      "243/243 [==============================] - 137s 562ms/step - loss: 0.1564 - accuracy: 0.9421 - val_loss: 0.2544 - val_accuracy: 0.8958\n",
      "Epoch 11/80\n",
      "243/243 [==============================] - 124s 508ms/step - loss: 0.1539 - accuracy: 0.9449 - val_loss: 0.2378 - val_accuracy: 0.9087\n",
      "Epoch 12/80\n",
      "243/243 [==============================] - 132s 543ms/step - loss: 0.1504 - accuracy: 0.9474 - val_loss: 0.2315 - val_accuracy: 0.9119\n",
      "Epoch 13/80\n",
      "243/243 [==============================] - 115s 471ms/step - loss: 0.1485 - accuracy: 0.9488 - val_loss: 0.2281 - val_accuracy: 0.9103\n",
      "Epoch 14/80\n",
      "243/243 [==============================] - 118s 485ms/step - loss: 0.1400 - accuracy: 0.9492 - val_loss: 0.2262 - val_accuracy: 0.9183\n",
      "Epoch 15/80\n",
      "243/243 [==============================] - 122s 502ms/step - loss: 0.1376 - accuracy: 0.9497 - val_loss: 0.2228 - val_accuracy: 0.9151\n",
      "Epoch 16/80\n",
      "243/243 [==============================] - 123s 507ms/step - loss: 0.1323 - accuracy: 0.9526 - val_loss: 0.2205 - val_accuracy: 0.9151\n",
      "Epoch 17/80\n",
      "243/243 [==============================] - 118s 484ms/step - loss: 0.1305 - accuracy: 0.9541 - val_loss: 0.2179 - val_accuracy: 0.9151\n",
      "Epoch 18/80\n",
      "243/243 [==============================] - 119s 487ms/step - loss: 0.1335 - accuracy: 0.9526 - val_loss: 0.2167 - val_accuracy: 0.9167\n",
      "Epoch 19/80\n",
      "243/243 [==============================] - 121s 495ms/step - loss: 0.1295 - accuracy: 0.9525 - val_loss: 0.2158 - val_accuracy: 0.9167\n",
      "Epoch 20/80\n",
      "243/243 [==============================] - 120s 494ms/step - loss: 0.1307 - accuracy: 0.9530 - val_loss: 0.2153 - val_accuracy: 0.9183\n",
      "Epoch 21/80\n",
      "243/243 [==============================] - 120s 494ms/step - loss: 0.1243 - accuracy: 0.9575 - val_loss: 0.2202 - val_accuracy: 0.9151\n",
      "Epoch 22/80\n",
      "243/243 [==============================] - 120s 493ms/step - loss: 0.1241 - accuracy: 0.9561 - val_loss: 0.2127 - val_accuracy: 0.9183\n",
      "Epoch 23/80\n",
      "243/243 [==============================] - 120s 495ms/step - loss: 0.1163 - accuracy: 0.9615 - val_loss: 0.2118 - val_accuracy: 0.9183\n",
      "Epoch 24/80\n",
      "243/243 [==============================] - 118s 486ms/step - loss: 0.1188 - accuracy: 0.9572 - val_loss: 0.2146 - val_accuracy: 0.9183\n",
      "Epoch 25/80\n",
      "243/243 [==============================] - 118s 485ms/step - loss: 0.1193 - accuracy: 0.9597 - val_loss: 0.2117 - val_accuracy: 0.9183\n",
      "Epoch 26/80\n",
      "243/243 [==============================] - 117s 479ms/step - loss: 0.1143 - accuracy: 0.9601 - val_loss: 0.2114 - val_accuracy: 0.9199\n",
      "Epoch 27/80\n",
      "243/243 [==============================] - 120s 491ms/step - loss: 0.1137 - accuracy: 0.9626 - val_loss: 0.2122 - val_accuracy: 0.9183\n",
      "Epoch 28/80\n",
      "243/243 [==============================] - 118s 485ms/step - loss: 0.1133 - accuracy: 0.9613 - val_loss: 0.2140 - val_accuracy: 0.9135\n",
      "Epoch 29/80\n",
      "243/243 [==============================] - 118s 487ms/step - loss: 0.1134 - accuracy: 0.9603 - val_loss: 0.2100 - val_accuracy: 0.9215\n",
      "Epoch 30/80\n",
      "243/243 [==============================] - 121s 499ms/step - loss: 0.1109 - accuracy: 0.9588 - val_loss: 0.2092 - val_accuracy: 0.9231\n",
      "Epoch 31/80\n",
      "243/243 [==============================] - 117s 480ms/step - loss: 0.1119 - accuracy: 0.9586 - val_loss: 0.2094 - val_accuracy: 0.9231\n",
      "Epoch 32/80\n",
      "243/243 [==============================] - 120s 491ms/step - loss: 0.1093 - accuracy: 0.9640 - val_loss: 0.2100 - val_accuracy: 0.9231\n",
      "Epoch 33/80\n",
      "243/243 [==============================] - 122s 501ms/step - loss: 0.1036 - accuracy: 0.9641 - val_loss: 0.2108 - val_accuracy: 0.9231\n",
      "Epoch 34/80\n",
      "243/243 [==============================] - 115s 473ms/step - loss: 0.1045 - accuracy: 0.9634 - val_loss: 0.2105 - val_accuracy: 0.9231\n",
      "Epoch 35/80\n",
      "243/243 [==============================] - 115s 471ms/step - loss: 0.1063 - accuracy: 0.9649 - val_loss: 0.2101 - val_accuracy: 0.9215\n",
      "Epoch 36/80\n",
      "243/243 [==============================] - 117s 479ms/step - loss: 0.1031 - accuracy: 0.9640 - val_loss: 0.2099 - val_accuracy: 0.9215\n",
      "Epoch 37/80\n",
      "243/243 [==============================] - 119s 488ms/step - loss: 0.1032 - accuracy: 0.9627 - val_loss: 0.2142 - val_accuracy: 0.9231\n",
      "Epoch 38/80\n",
      "243/243 [==============================] - 114s 468ms/step - loss: 0.0990 - accuracy: 0.9663 - val_loss: 0.2115 - val_accuracy: 0.9215\n",
      "Epoch 39/80\n",
      "243/243 [==============================] - 114s 470ms/step - loss: 0.0982 - accuracy: 0.9670 - val_loss: 0.2120 - val_accuracy: 0.9199\n",
      "Epoch 40/80\n",
      "243/243 [==============================] - 132s 543ms/step - loss: 0.0979 - accuracy: 0.9674 - val_loss: 0.2128 - val_accuracy: 0.9215\n",
      "Epoch 41/80\n",
      "243/243 [==============================] - 122s 500ms/step - loss: 0.1005 - accuracy: 0.9632 - val_loss: 0.2112 - val_accuracy: 0.9215\n",
      "Epoch 42/80\n",
      "243/243 [==============================] - 114s 467ms/step - loss: 0.0989 - accuracy: 0.9677 - val_loss: 0.2198 - val_accuracy: 0.9231\n",
      "Epoch 43/80\n",
      "243/243 [==============================] - 112s 461ms/step - loss: 0.0970 - accuracy: 0.9646 - val_loss: 0.2120 - val_accuracy: 0.9215\n",
      "Epoch 44/80\n",
      "243/243 [==============================] - 123s 507ms/step - loss: 0.1024 - accuracy: 0.9636 - val_loss: 0.2114 - val_accuracy: 0.9199\n",
      "Epoch 45/80\n",
      "243/243 [==============================] - 134s 551ms/step - loss: 0.0931 - accuracy: 0.9679 - val_loss: 0.2113 - val_accuracy: 0.9183\n",
      "Epoch 46/80\n",
      "243/243 [==============================] - 126s 519ms/step - loss: 0.0941 - accuracy: 0.9665 - val_loss: 0.2172 - val_accuracy: 0.9215\n",
      "Epoch 47/80\n",
      "243/243 [==============================] - 124s 508ms/step - loss: 0.0979 - accuracy: 0.9662 - val_loss: 0.2109 - val_accuracy: 0.9215\n",
      "Epoch 48/80\n",
      "243/243 [==============================] - 113s 465ms/step - loss: 0.0930 - accuracy: 0.9677 - val_loss: 0.2104 - val_accuracy: 0.9199\n",
      "Epoch 49/80\n",
      "243/243 [==============================] - 112s 459ms/step - loss: 0.0951 - accuracy: 0.9665 - val_loss: 0.2187 - val_accuracy: 0.9231\n",
      "Epoch 50/80\n",
      "243/243 [==============================] - 119s 490ms/step - loss: 0.0908 - accuracy: 0.9677 - val_loss: 0.2124 - val_accuracy: 0.9199\n",
      "Epoch 51/80\n",
      "243/243 [==============================] - 137s 562ms/step - loss: 0.0921 - accuracy: 0.9690 - val_loss: 0.2128 - val_accuracy: 0.9199\n",
      "Epoch 52/80\n",
      "243/243 [==============================] - 128s 524ms/step - loss: 0.0944 - accuracy: 0.9668 - val_loss: 0.2103 - val_accuracy: 0.9215\n",
      "Epoch 53/80\n",
      "243/243 [==============================] - 130s 533ms/step - loss: 0.0893 - accuracy: 0.9690 - val_loss: 0.2103 - val_accuracy: 0.9231\n",
      "Epoch 54/80\n",
      "243/243 [==============================] - 124s 509ms/step - loss: 0.0881 - accuracy: 0.9720 - val_loss: 0.2105 - val_accuracy: 0.9199\n",
      "Epoch 55/80\n",
      "243/243 [==============================] - 113s 463ms/step - loss: 0.0922 - accuracy: 0.9675 - val_loss: 0.2113 - val_accuracy: 0.9231\n",
      "Epoch 56/80\n",
      "243/243 [==============================] - 112s 460ms/step - loss: 0.0895 - accuracy: 0.9686 - val_loss: 0.2093 - val_accuracy: 0.9199\n",
      "Epoch 57/80\n",
      "243/243 [==============================] - 113s 463ms/step - loss: 0.0871 - accuracy: 0.9703 - val_loss: 0.2137 - val_accuracy: 0.9183\n",
      "Epoch 58/80\n",
      "243/243 [==============================] - 113s 465ms/step - loss: 0.0874 - accuracy: 0.9711 - val_loss: 0.2174 - val_accuracy: 0.9215\n",
      "Epoch 59/80\n",
      "243/243 [==============================] - 114s 469ms/step - loss: 0.0903 - accuracy: 0.9688 - val_loss: 0.2154 - val_accuracy: 0.9199\n",
      "Epoch 60/80\n",
      "243/243 [==============================] - 115s 473ms/step - loss: 0.0842 - accuracy: 0.9695 - val_loss: 0.2123 - val_accuracy: 0.9183\n",
      "Epoch 60: early stopping\n"
     ]
    }
   ],
   "source": [
    "r = model.fit(training_set,validation_data=test_set,epochs=80,steps_per_epoch=len(training_set),validation_steps=len(test_set),callbacks=[es])"
   ]
  },
  {
   "cell_type": "code",
   "execution_count": 22,
   "id": "5694f1a3",
   "metadata": {},
   "outputs": [
    {
     "data": {
      "image/png": "[encoded data removed]",
      "text/plain": [
       "<Figure size 432x288 with 1 Axes>"
      ]
     },
     "metadata": {
      "needs_background": "light"
     },
     "output_type": "display_data"
    },
    {
     "data": {
      "image/png": "[encoded data removed]",
      "text/plain": [
       "<Figure size 432x288 with 1 Axes>"
      ]
     },
     "metadata": {
      "needs_background": "light"
     },
     "output_type": "display_data"
    },
    {
     "data": {
      "text/plain": [
       "<Figure size 432x288 with 0 Axes>"
      ]
     },
     "metadata": {},
     "output_type": "display_data"
    }
   ],
   "source": [
    "plt.plot(r.history['loss'], label='train loss')\n",
    "plt.plot(r.history['val_loss'], label='val loss')\n",
    "plt.legend()\n",
    "plt.show()\n",
    "plt.savefig('LossVal_loss')\n",
    "\n",
    "# plot the accuracy\n",
    "plt.plot(r.history['accuracy'], label='train acc')\n",
    "plt.plot(r.history['val_accuracy'], label='val acc')\n",
    "plt.legend()\n",
    "plt.show()\n",
    "plt.savefig('AccVal_acc')\n",
    "\n",
    "acc = r.history['accuracy']\n",
    "val_acc = r.history['val_accuracy']\n",
    "\n",
    "loss = r.history['loss']\n",
    "val_loss = r.history['val_loss']"
   ]
  },
  {
   "cell_type": "code",
   "execution_count": null,
   "id": "5bcfd7e0",
   "metadata": {},
   "outputs": [],
   "source": []
  }
 ],
 "metadata": {
  "kernelspec": {
   "display_name": "Python 3.10.0 64-bit",
   "language": "python",
   "name": "python3"
  },
  "language_info": {
   "codemirror_mode": {
    "name": "ipython",
    "version": 3
   },
   "file_extension": ".py",
   "mimetype": "text/x-python",
   "name": "python",
   "nbconvert_exporter": "python",
   "pygments_lexer": "ipython3",
   "version": "3.10.0"
  },
  "vscode": {
   "interpreter": {
    "hash": "369f2c481f4da34e4445cda3fffd2e751bd1c4d706f27375911949ba6bb62e1c"
   }
  }
 },
 "nbformat": 4,
 "nbformat_minor": 5
}
