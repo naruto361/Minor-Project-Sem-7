{
 "cells": [
  {
   "cell_type": "code",
   "execution_count": 1,
   "metadata": {},
   "outputs": [
    {
     "name": "stdout",
     "output_type": "stream",
     "text": [
      "Number of GPUS :  1\n"
     ]
    },
    {
     "data": {
      "text/plain": [
       "True"
      ]
     },
     "execution_count": 1,
     "metadata": {},
     "output_type": "execute_result"
    }
   ],
   "source": [
    "import tensorflow as tf\n",
    "from tensorflow import keras\n",
    "print(\"Number of GPUS : \", len(tf.config.experimental.list_physical_devices('GPU')))\n",
    "tf.test.is_built_with_cuda()"
   ]
  },
  {
   "cell_type": "code",
   "execution_count": 2,
   "metadata": {},
   "outputs": [],
   "source": [
    "from keras.layers import Input, Lambda, Dense, Flatten\n",
    "from keras.models import Model\n",
    "\n",
    "from keras.applications.vgg16 import VGG16\n",
    "from keras.applications.vgg16 import preprocess_input\n",
    "from keras.preprocessing import image\n",
    "from keras.preprocessing.image import ImageDataGenerator\n",
    "from keras.models import Sequential\n",
    "import numpy as np\n",
    "from glob import glob\n",
    "import matplotlib.pyplot as plt\n",
    "from imblearn.under_sampling import RandomUnderSampler\n",
    "from PIL import Image\n",
    "from tqdm import tqdm\n",
    "import glob\n",
    "import cv2\n",
    "from keras.layers import Conv2D, Dropout"
   ]
  },
  {
   "cell_type": "code",
   "execution_count": 40,
   "metadata": {},
   "outputs": [],
   "source": [
    "input_t = keras.Input(shape=(224, 224, 3))\n",
    "\n",
    "resnet = keras.applications.ResNet50(include_top=False, weights='imagenet', input_tensor=input_t)"
   ]
  },
  {
   "cell_type": "code",
   "execution_count": 41,
   "metadata": {},
   "outputs": [],
   "source": [
    "for layer in resnet.layers:\n",
    "    layer.trainable = False"
   ]
  },
  {
   "cell_type": "code",
   "execution_count": 42,
   "metadata": {},
   "outputs": [],
   "source": [
    "x = Flatten()(resnet.output)"
   ]
  },
  {
   "cell_type": "code",
   "execution_count": 43,
   "metadata": {},
   "outputs": [],
   "source": [
    "folders = glob.glob('smote_data/*')"
   ]
  },
  {
   "cell_type": "code",
   "execution_count": 47,
   "metadata": {},
   "outputs": [],
   "source": [
    "model = Sequential()\n",
    "\n",
    "# for layer in resnet.layers:\n",
    "#     model.add(layer)\n",
    "\n",
    "model.add(resnet)\n",
    "    \n",
    "\n",
    "# model.add(Dropout(0.3))\n",
    "# model.add(Conv2D(64, (3, 3), activation='relu', padding='same', name='additional_layer') )\n",
    "model.add(Flatten())\n",
    "model.add(Dense(2, activation='softmax', name='predictions'))"
   ]
  },
  {
   "cell_type": "code",
   "execution_count": 48,
   "metadata": {},
   "outputs": [
    {
     "name": "stdout",
     "output_type": "stream",
     "text": [
      "Model: \"sequential_7\"\n",
      "_________________________________________________________________\n",
      " Layer (type)                Output Shape              Param #   \n",
      "=================================================================\n",
      " resnet50 (Functional)       (None, 7, 7, 2048)        23587712  \n",
      "                                                                 \n",
      " flatten_8 (Flatten)         (None, 100352)            0         \n",
      "                                                                 \n",
      " predictions (Dense)         (None, 2)                 200706    \n",
      "                                                                 \n",
      "=================================================================\n",
      "Total params: 23,788,418\n",
      "Trainable params: 200,706\n",
      "Non-trainable params: 23,587,712\n",
      "_________________________________________________________________\n"
     ]
    }
   ],
   "source": [
    "model.summary()"
   ]
  },
  {
   "cell_type": "code",
   "execution_count": 49,
   "metadata": {},
   "outputs": [],
   "source": [
    "optimizer = keras.optimizers.Adam(lr=0.000001)"
   ]
  },
  {
   "cell_type": "code",
   "execution_count": 50,
   "metadata": {},
   "outputs": [],
   "source": [
    "check_point = keras.callbacks.ModelCheckpoint(filepath = 'cifar10.h5', monitor=\"val_acc\", mode = \"max\", save_best_only=True,)"
   ]
  },
  {
   "cell_type": "code",
   "execution_count": 51,
   "metadata": {},
   "outputs": [],
   "source": [
    "model.compile(\n",
    "  loss='categorical_crossentropy',\n",
    "  optimizer=optimizer,\n",
    "  metrics=['accuracy']\n",
    ")"
   ]
  },
  {
   "cell_type": "code",
   "execution_count": 52,
   "metadata": {},
   "outputs": [],
   "source": [
    "from keras.preprocessing.image import ImageDataGenerator\n",
    "\n",
    "train_datagen = ImageDataGenerator(rescale = 1./255,\n",
    "                                   shear_range = 0.2,\n",
    "                                   zoom_range = 0.2,\n",
    "                                   horizontal_flip = True)\n",
    "\n",
    "test_datagen = ImageDataGenerator(rescale = 1./255)"
   ]
  },
  {
   "cell_type": "code",
   "execution_count": 53,
   "metadata": {},
   "outputs": [],
   "source": [
    "train_path = 'smote_data'\n",
    "test_path = '../dataset/chest_xray/test'"
   ]
  },
  {
   "cell_type": "code",
   "execution_count": 54,
   "metadata": {},
   "outputs": [
    {
     "name": "stdout",
     "output_type": "stream",
     "text": [
      "Found 7750 images belonging to 2 classes.\n"
     ]
    }
   ],
   "source": [
    "training_set = train_datagen.flow_from_directory(train_path,\n",
    "                                                 target_size = (224, 224),\n",
    "                                                 batch_size = 32,\n",
    "                                                 class_mode = 'categorical')"
   ]
  },
  {
   "cell_type": "code",
   "execution_count": 55,
   "metadata": {},
   "outputs": [
    {
     "data": {
      "text/plain": [
       "{'normal': 0, 'pneumonia': 1}"
      ]
     },
     "execution_count": 55,
     "metadata": {},
     "output_type": "execute_result"
    }
   ],
   "source": [
    "training_set.class_indices"
   ]
  },
  {
   "cell_type": "code",
   "execution_count": 56,
   "metadata": {},
   "outputs": [
    {
     "name": "stdout",
     "output_type": "stream",
     "text": [
      "Found 624 images belonging to 2 classes.\n"
     ]
    }
   ],
   "source": [
    "test_set = test_datagen.flow_from_directory(test_path,\n",
    "                                            target_size = (224, 224),\n",
    "                                            batch_size = 32,\n",
    "                                            class_mode = 'categorical')"
   ]
  },
  {
   "cell_type": "code",
   "execution_count": 57,
   "metadata": {},
   "outputs": [
    {
     "name": "stdout",
     "output_type": "stream",
     "text": [
      "Epoch 1/100\n",
      "243/243 [==============================] - ETA: 0s - loss: 0.7033 - accuracy: 0.5071WARNING:tensorflow:Can save best model only with val_acc available, skipping.\n",
      "243/243 [==============================] - 309s 1s/step - loss: 0.7033 - accuracy: 0.5071 - val_loss: 0.6817 - val_accuracy: 0.6490\n",
      "Epoch 2/100\n",
      "243/243 [==============================] - ETA: 0s - loss: 0.6864 - accuracy: 0.5867WARNING:tensorflow:Can save best model only with val_acc available, skipping.\n",
      "243/243 [==============================] - 117s 482ms/step - loss: 0.6864 - accuracy: 0.5867 - val_loss: 0.6843 - val_accuracy: 0.6202\n",
      "Epoch 3/100\n",
      "243/243 [==============================] - ETA: 0s - loss: 0.6796 - accuracy: 0.6050WARNING:tensorflow:Can save best model only with val_acc available, skipping.\n",
      "243/243 [==============================] - 127s 520ms/step - loss: 0.6796 - accuracy: 0.6050 - val_loss: 0.6753 - val_accuracy: 0.6811\n",
      "Epoch 4/100\n",
      "243/243 [==============================] - ETA: 0s - loss: 0.6739 - accuracy: 0.6632WARNING:tensorflow:Can save best model only with val_acc available, skipping.\n",
      "243/243 [==============================] - 136s 557ms/step - loss: 0.6739 - accuracy: 0.6632 - val_loss: 0.6574 - val_accuracy: 0.7196\n",
      "Epoch 5/100\n",
      "243/243 [==============================] - ETA: 0s - loss: 0.6680 - accuracy: 0.6763WARNING:tensorflow:Can save best model only with val_acc available, skipping.\n",
      "243/243 [==============================] - 141s 581ms/step - loss: 0.6680 - accuracy: 0.6763 - val_loss: 0.6520 - val_accuracy: 0.7484\n",
      "Epoch 6/100\n",
      "243/243 [==============================] - ETA: 0s - loss: 0.6623 - accuracy: 0.7009WARNING:tensorflow:Can save best model only with val_acc available, skipping.\n",
      "243/243 [==============================] - 128s 525ms/step - loss: 0.6623 - accuracy: 0.7009 - val_loss: 0.6553 - val_accuracy: 0.7388\n",
      "Epoch 7/100\n",
      "243/243 [==============================] - ETA: 0s - loss: 0.6567 - accuracy: 0.6933WARNING:tensorflow:Can save best model only with val_acc available, skipping.\n",
      "243/243 [==============================] - 131s 540ms/step - loss: 0.6567 - accuracy: 0.6933 - val_loss: 0.6420 - val_accuracy: 0.7580\n",
      "Epoch 8/100\n",
      "243/243 [==============================] - ETA: 0s - loss: 0.6518 - accuracy: 0.7061WARNING:tensorflow:Can save best model only with val_acc available, skipping.\n",
      "243/243 [==============================] - 128s 525ms/step - loss: 0.6518 - accuracy: 0.7061 - val_loss: 0.6424 - val_accuracy: 0.7564\n",
      "Epoch 9/100\n",
      "243/243 [==============================] - ETA: 0s - loss: 0.6466 - accuracy: 0.7186WARNING:tensorflow:Can save best model only with val_acc available, skipping.\n",
      "243/243 [==============================] - 128s 526ms/step - loss: 0.6466 - accuracy: 0.7186 - val_loss: 0.6417 - val_accuracy: 0.7340\n",
      "Epoch 10/100\n",
      "243/243 [==============================] - ETA: 0s - loss: 0.6433 - accuracy: 0.7208WARNING:tensorflow:Can save best model only with val_acc available, skipping.\n",
      "243/243 [==============================] - 120s 493ms/step - loss: 0.6433 - accuracy: 0.7208 - val_loss: 0.6370 - val_accuracy: 0.7340\n",
      "Epoch 11/100\n",
      "243/243 [==============================] - ETA: 0s - loss: 0.6382 - accuracy: 0.7214WARNING:tensorflow:Can save best model only with val_acc available, skipping.\n",
      "243/243 [==============================] - 109s 450ms/step - loss: 0.6382 - accuracy: 0.7214 - val_loss: 0.6171 - val_accuracy: 0.7788\n",
      "Epoch 12/100\n",
      "243/243 [==============================] - ETA: 0s - loss: 0.6336 - accuracy: 0.7150WARNING:tensorflow:Can save best model only with val_acc available, skipping.\n",
      "243/243 [==============================] - 111s 455ms/step - loss: 0.6336 - accuracy: 0.7150 - val_loss: 0.6201 - val_accuracy: 0.7692\n",
      "Epoch 13/100\n",
      "243/243 [==============================] - ETA: 0s - loss: 0.6289 - accuracy: 0.7252WARNING:tensorflow:Can save best model only with val_acc available, skipping.\n",
      "243/243 [==============================] - 111s 458ms/step - loss: 0.6289 - accuracy: 0.7252 - val_loss: 0.6166 - val_accuracy: 0.7660\n",
      "Epoch 14/100\n",
      "243/243 [==============================] - ETA: 0s - loss: 0.6256 - accuracy: 0.7244WARNING:tensorflow:Can save best model only with val_acc available, skipping.\n",
      "243/243 [==============================] - 114s 469ms/step - loss: 0.6256 - accuracy: 0.7244 - val_loss: 0.6103 - val_accuracy: 0.7708\n",
      "Epoch 15/100\n",
      "243/243 [==============================] - ETA: 0s - loss: 0.6213 - accuracy: 0.7295WARNING:tensorflow:Can save best model only with val_acc available, skipping.\n",
      "243/243 [==============================] - 116s 477ms/step - loss: 0.6213 - accuracy: 0.7295 - val_loss: 0.5925 - val_accuracy: 0.7949\n",
      "Epoch 16/100\n",
      "243/243 [==============================] - ETA: 0s - loss: 0.6168 - accuracy: 0.7307WARNING:tensorflow:Can save best model only with val_acc available, skipping.\n",
      "243/243 [==============================] - 131s 540ms/step - loss: 0.6168 - accuracy: 0.7307 - val_loss: 0.6001 - val_accuracy: 0.7788\n",
      "Epoch 17/100\n",
      "243/243 [==============================] - ETA: 0s - loss: 0.6154 - accuracy: 0.7272WARNING:tensorflow:Can save best model only with val_acc available, skipping.\n",
      "243/243 [==============================] - 128s 526ms/step - loss: 0.6154 - accuracy: 0.7272 - val_loss: 0.5933 - val_accuracy: 0.7885\n",
      "Epoch 18/100\n",
      "243/243 [==============================] - ETA: 0s - loss: 0.6096 - accuracy: 0.7320WARNING:tensorflow:Can save best model only with val_acc available, skipping.\n",
      "243/243 [==============================] - 125s 513ms/step - loss: 0.6096 - accuracy: 0.7320 - val_loss: 0.5885 - val_accuracy: 0.7853\n",
      "Epoch 19/100\n",
      "243/243 [==============================] - ETA: 0s - loss: 0.6072 - accuracy: 0.7334WARNING:tensorflow:Can save best model only with val_acc available, skipping.\n",
      "243/243 [==============================] - 112s 462ms/step - loss: 0.6072 - accuracy: 0.7334 - val_loss: 0.5921 - val_accuracy: 0.7772\n",
      "Epoch 20/100\n",
      "243/243 [==============================] - ETA: 0s - loss: 0.6046 - accuracy: 0.7345WARNING:tensorflow:Can save best model only with val_acc available, skipping.\n",
      "243/243 [==============================] - 111s 456ms/step - loss: 0.6046 - accuracy: 0.7345 - val_loss: 0.5830 - val_accuracy: 0.7837\n",
      "Epoch 21/100\n",
      "243/243 [==============================] - ETA: 0s - loss: 0.6013 - accuracy: 0.7415WARNING:tensorflow:Can save best model only with val_acc available, skipping.\n",
      "243/243 [==============================] - 112s 460ms/step - loss: 0.6013 - accuracy: 0.7415 - val_loss: 0.5937 - val_accuracy: 0.7628\n",
      "Epoch 22/100\n",
      "243/243 [==============================] - ETA: 0s - loss: 0.5972 - accuracy: 0.7366WARNING:tensorflow:Can save best model only with val_acc available, skipping.\n",
      "243/243 [==============================] - 191s 788ms/step - loss: 0.5972 - accuracy: 0.7366 - val_loss: 0.5816 - val_accuracy: 0.7804\n",
      "Epoch 23/100\n",
      "243/243 [==============================] - ETA: 0s - loss: 0.5945 - accuracy: 0.7373WARNING:tensorflow:Can save best model only with val_acc available, skipping.\n",
      "243/243 [==============================] - 216s 884ms/step - loss: 0.5945 - accuracy: 0.7373 - val_loss: 0.5851 - val_accuracy: 0.7692\n",
      "Epoch 24/100\n",
      "243/243 [==============================] - ETA: 0s - loss: 0.5920 - accuracy: 0.7413WARNING:tensorflow:Can save best model only with val_acc available, skipping.\n",
      "243/243 [==============================] - 166s 680ms/step - loss: 0.5920 - accuracy: 0.7413 - val_loss: 0.5854 - val_accuracy: 0.7612\n",
      "Epoch 25/100\n",
      "243/243 [==============================] - ETA: 0s - loss: 0.5903 - accuracy: 0.7415WARNING:tensorflow:Can save best model only with val_acc available, skipping.\n",
      "243/243 [==============================] - 118s 483ms/step - loss: 0.5903 - accuracy: 0.7415 - val_loss: 0.5646 - val_accuracy: 0.7917\n",
      "Epoch 26/100\n",
      "243/243 [==============================] - ETA: 0s - loss: 0.5863 - accuracy: 0.7428WARNING:tensorflow:Can save best model only with val_acc available, skipping.\n",
      "243/243 [==============================] - 118s 483ms/step - loss: 0.5863 - accuracy: 0.7428 - val_loss: 0.5726 - val_accuracy: 0.7788\n",
      "Epoch 27/100\n",
      "243/243 [==============================] - ETA: 0s - loss: 0.5843 - accuracy: 0.7425WARNING:tensorflow:Can save best model only with val_acc available, skipping.\n",
      "243/243 [==============================] - 120s 492ms/step - loss: 0.5843 - accuracy: 0.7425 - val_loss: 0.5615 - val_accuracy: 0.7933\n",
      "Epoch 28/100\n",
      "243/243 [==============================] - ETA: 0s - loss: 0.5814 - accuracy: 0.7463WARNING:tensorflow:Can save best model only with val_acc available, skipping.\n",
      "243/243 [==============================] - 124s 509ms/step - loss: 0.5814 - accuracy: 0.7463 - val_loss: 0.5531 - val_accuracy: 0.8013\n",
      "Epoch 29/100\n",
      "243/243 [==============================] - ETA: 0s - loss: 0.5796 - accuracy: 0.7479WARNING:tensorflow:Can save best model only with val_acc available, skipping.\n",
      "243/243 [==============================] - 113s 464ms/step - loss: 0.5796 - accuracy: 0.7479 - val_loss: 0.5562 - val_accuracy: 0.7949\n",
      "Epoch 30/100\n",
      "243/243 [==============================] - ETA: 0s - loss: 0.5772 - accuracy: 0.7507WARNING:tensorflow:Can save best model only with val_acc available, skipping.\n",
      "243/243 [==============================] - 110s 453ms/step - loss: 0.5772 - accuracy: 0.7507 - val_loss: 0.5553 - val_accuracy: 0.7901\n",
      "Epoch 31/100\n",
      "243/243 [==============================] - ETA: 0s - loss: 0.5745 - accuracy: 0.7494WARNING:tensorflow:Can save best model only with val_acc available, skipping.\n",
      "243/243 [==============================] - 109s 448ms/step - loss: 0.5745 - accuracy: 0.7494 - val_loss: 0.5594 - val_accuracy: 0.7821\n",
      "Epoch 32/100\n",
      "243/243 [==============================] - ETA: 0s - loss: 0.5718 - accuracy: 0.7501WARNING:tensorflow:Can save best model only with val_acc available, skipping.\n",
      "243/243 [==============================] - 213s 876ms/step - loss: 0.5718 - accuracy: 0.7501 - val_loss: 0.5502 - val_accuracy: 0.7981\n",
      "Epoch 33/100\n",
      "243/243 [==============================] - ETA: 0s - loss: 0.5714 - accuracy: 0.7461WARNING:tensorflow:Can save best model only with val_acc available, skipping.\n",
      "243/243 [==============================] - 317s 1s/step - loss: 0.5714 - accuracy: 0.7461 - val_loss: 0.5488 - val_accuracy: 0.7933\n",
      "Epoch 34/100\n",
      "243/243 [==============================] - ETA: 0s - loss: 0.5684 - accuracy: 0.7486WARNING:tensorflow:Can save best model only with val_acc available, skipping.\n",
      "243/243 [==============================] - 310s 1s/step - loss: 0.5684 - accuracy: 0.7486 - val_loss: 0.5463 - val_accuracy: 0.7933\n",
      "Epoch 35/100\n",
      "243/243 [==============================] - ETA: 0s - loss: 0.5647 - accuracy: 0.7488WARNING:tensorflow:Can save best model only with val_acc available, skipping.\n",
      "243/243 [==============================] - 188s 770ms/step - loss: 0.5647 - accuracy: 0.7488 - val_loss: 0.5491 - val_accuracy: 0.7853\n",
      "Epoch 36/100\n",
      "243/243 [==============================] - ETA: 0s - loss: 0.5643 - accuracy: 0.7570WARNING:tensorflow:Can save best model only with val_acc available, skipping.\n",
      "243/243 [==============================] - 118s 485ms/step - loss: 0.5643 - accuracy: 0.7570 - val_loss: 0.5367 - val_accuracy: 0.8045\n",
      "Epoch 37/100\n",
      "243/243 [==============================] - ETA: 0s - loss: 0.5604 - accuracy: 0.7556WARNING:tensorflow:Can save best model only with val_acc available, skipping.\n",
      "243/243 [==============================] - 114s 468ms/step - loss: 0.5604 - accuracy: 0.7556 - val_loss: 0.5422 - val_accuracy: 0.7949\n",
      "Epoch 38/100\n",
      "243/243 [==============================] - ETA: 0s - loss: 0.5596 - accuracy: 0.7564WARNING:tensorflow:Can save best model only with val_acc available, skipping.\n",
      "243/243 [==============================] - 110s 453ms/step - loss: 0.5596 - accuracy: 0.7564 - val_loss: 0.5360 - val_accuracy: 0.7997\n",
      "Epoch 39/100\n",
      "243/243 [==============================] - ETA: 0s - loss: 0.5562 - accuracy: 0.7609WARNING:tensorflow:Can save best model only with val_acc available, skipping.\n",
      "243/243 [==============================] - 109s 446ms/step - loss: 0.5562 - accuracy: 0.7609 - val_loss: 0.5340 - val_accuracy: 0.7981\n",
      "Epoch 40/100\n",
      "243/243 [==============================] - ETA: 0s - loss: 0.5542 - accuracy: 0.7630WARNING:tensorflow:Can save best model only with val_acc available, skipping.\n",
      "243/243 [==============================] - 109s 447ms/step - loss: 0.5542 - accuracy: 0.7630 - val_loss: 0.5269 - val_accuracy: 0.8045\n",
      "Epoch 41/100\n",
      "243/243 [==============================] - ETA: 0s - loss: 0.5525 - accuracy: 0.7614WARNING:tensorflow:Can save best model only with val_acc available, skipping.\n",
      "243/243 [==============================] - 118s 486ms/step - loss: 0.5525 - accuracy: 0.7614 - val_loss: 0.5290 - val_accuracy: 0.8045\n",
      "Epoch 42/100\n",
      "243/243 [==============================] - ETA: 0s - loss: 0.5496 - accuracy: 0.7668WARNING:tensorflow:Can save best model only with val_acc available, skipping.\n",
      "243/243 [==============================] - 109s 449ms/step - loss: 0.5496 - accuracy: 0.7668 - val_loss: 0.5126 - val_accuracy: 0.8141\n",
      "Epoch 43/100\n",
      "243/243 [==============================] - ETA: 0s - loss: 0.5493 - accuracy: 0.7628WARNING:tensorflow:Can save best model only with val_acc available, skipping.\n",
      "243/243 [==============================] - 122s 502ms/step - loss: 0.5493 - accuracy: 0.7628 - val_loss: 0.5269 - val_accuracy: 0.8013\n",
      "Epoch 44/100\n",
      "243/243 [==============================] - ETA: 0s - loss: 0.5470 - accuracy: 0.7683WARNING:tensorflow:Can save best model only with val_acc available, skipping.\n",
      "243/243 [==============================] - 146s 600ms/step - loss: 0.5470 - accuracy: 0.7683 - val_loss: 0.5161 - val_accuracy: 0.8077\n",
      "Epoch 45/100\n",
      "243/243 [==============================] - ETA: 0s - loss: 0.5452 - accuracy: 0.7612WARNING:tensorflow:Can save best model only with val_acc available, skipping.\n",
      "243/243 [==============================] - 125s 512ms/step - loss: 0.5452 - accuracy: 0.7612 - val_loss: 0.5171 - val_accuracy: 0.8029\n",
      "Epoch 46/100\n",
      "243/243 [==============================] - ETA: 0s - loss: 0.5447 - accuracy: 0.7640WARNING:tensorflow:Can save best model only with val_acc available, skipping.\n",
      "243/243 [==============================] - 111s 456ms/step - loss: 0.5447 - accuracy: 0.7640 - val_loss: 0.5152 - val_accuracy: 0.8029\n",
      "Epoch 47/100\n",
      "243/243 [==============================] - ETA: 0s - loss: 0.5411 - accuracy: 0.7702WARNING:tensorflow:Can save best model only with val_acc available, skipping.\n",
      "243/243 [==============================] - 165s 678ms/step - loss: 0.5411 - accuracy: 0.7702 - val_loss: 0.5119 - val_accuracy: 0.8061\n",
      "Epoch 48/100\n",
      "243/243 [==============================] - ETA: 0s - loss: 0.5387 - accuracy: 0.7712WARNING:tensorflow:Can save best model only with val_acc available, skipping.\n",
      "243/243 [==============================] - 294s 1s/step - loss: 0.5387 - accuracy: 0.7712 - val_loss: 0.5131 - val_accuracy: 0.8077\n",
      "Epoch 49/100\n",
      "243/243 [==============================] - ETA: 0s - loss: 0.5386 - accuracy: 0.7710WARNING:tensorflow:Can save best model only with val_acc available, skipping.\n",
      "243/243 [==============================] - 287s 1s/step - loss: 0.5386 - accuracy: 0.7710 - val_loss: 0.5199 - val_accuracy: 0.7965\n",
      "Epoch 50/100\n",
      "243/243 [==============================] - ETA: 0s - loss: 0.5354 - accuracy: 0.7748WARNING:tensorflow:Can save best model only with val_acc available, skipping.\n",
      "243/243 [==============================] - 104s 429ms/step - loss: 0.5354 - accuracy: 0.7748 - val_loss: 0.5407 - val_accuracy: 0.7788\n",
      "Epoch 51/100\n",
      "243/243 [==============================] - ETA: 0s - loss: 0.5342 - accuracy: 0.7764WARNING:tensorflow:Can save best model only with val_acc available, skipping.\n",
      "243/243 [==============================] - 113s 463ms/step - loss: 0.5342 - accuracy: 0.7764 - val_loss: 0.5180 - val_accuracy: 0.8013\n",
      "Epoch 52/100\n",
      "243/243 [==============================] - ETA: 0s - loss: 0.5334 - accuracy: 0.7702WARNING:tensorflow:Can save best model only with val_acc available, skipping.\n",
      "243/243 [==============================] - 120s 494ms/step - loss: 0.5334 - accuracy: 0.7702 - val_loss: 0.5055 - val_accuracy: 0.8093\n",
      "Epoch 53/100\n",
      "243/243 [==============================] - ETA: 0s - loss: 0.5294 - accuracy: 0.7728WARNING:tensorflow:Can save best model only with val_acc available, skipping.\n",
      "243/243 [==============================] - 119s 490ms/step - loss: 0.5294 - accuracy: 0.7728 - val_loss: 0.5115 - val_accuracy: 0.8061\n",
      "Epoch 54/100\n",
      "243/243 [==============================] - ETA: 0s - loss: 0.5295 - accuracy: 0.7750WARNING:tensorflow:Can save best model only with val_acc available, skipping.\n",
      "243/243 [==============================] - 119s 488ms/step - loss: 0.5295 - accuracy: 0.7750 - val_loss: 0.5213 - val_accuracy: 0.7933\n",
      "Epoch 55/100\n",
      "243/243 [==============================] - ETA: 0s - loss: 0.5282 - accuracy: 0.7770WARNING:tensorflow:Can save best model only with val_acc available, skipping.\n",
      "243/243 [==============================] - 119s 488ms/step - loss: 0.5282 - accuracy: 0.7770 - val_loss: 0.4964 - val_accuracy: 0.8157\n",
      "Epoch 56/100\n",
      "243/243 [==============================] - ETA: 0s - loss: 0.5263 - accuracy: 0.7735WARNING:tensorflow:Can save best model only with val_acc available, skipping.\n",
      "243/243 [==============================] - 122s 502ms/step - loss: 0.5263 - accuracy: 0.7735 - val_loss: 0.5164 - val_accuracy: 0.7965\n",
      "Epoch 57/100\n",
      "243/243 [==============================] - ETA: 0s - loss: 0.5231 - accuracy: 0.7790WARNING:tensorflow:Can save best model only with val_acc available, skipping.\n",
      "243/243 [==============================] - 120s 494ms/step - loss: 0.5231 - accuracy: 0.7790 - val_loss: 0.5074 - val_accuracy: 0.7997\n",
      "Epoch 58/100\n",
      "243/243 [==============================] - ETA: 0s - loss: 0.5237 - accuracy: 0.7839WARNING:tensorflow:Can save best model only with val_acc available, skipping.\n",
      "243/243 [==============================] - 121s 495ms/step - loss: 0.5237 - accuracy: 0.7839 - val_loss: 0.4872 - val_accuracy: 0.8173\n",
      "Epoch 59/100\n",
      "243/243 [==============================] - ETA: 0s - loss: 0.5224 - accuracy: 0.7805WARNING:tensorflow:Can save best model only with val_acc available, skipping.\n",
      "243/243 [==============================] - 173s 711ms/step - loss: 0.5224 - accuracy: 0.7805 - val_loss: 0.5142 - val_accuracy: 0.7965\n",
      "Epoch 60/100\n",
      "243/243 [==============================] - ETA: 0s - loss: 0.5191 - accuracy: 0.7814WARNING:tensorflow:Can save best model only with val_acc available, skipping.\n",
      "243/243 [==============================] - 239s 985ms/step - loss: 0.5191 - accuracy: 0.7814 - val_loss: 0.5037 - val_accuracy: 0.7981\n",
      "Epoch 61/100\n",
      "243/243 [==============================] - ETA: 0s - loss: 0.5154 - accuracy: 0.7871WARNING:tensorflow:Can save best model only with val_acc available, skipping.\n",
      "243/243 [==============================] - 266s 1s/step - loss: 0.5154 - accuracy: 0.7871 - val_loss: 0.4855 - val_accuracy: 0.8189\n",
      "Epoch 62/100\n",
      "243/243 [==============================] - ETA: 0s - loss: 0.5157 - accuracy: 0.7863WARNING:tensorflow:Can save best model only with val_acc available, skipping.\n",
      "243/243 [==============================] - 201s 825ms/step - loss: 0.5157 - accuracy: 0.7863 - val_loss: 0.4857 - val_accuracy: 0.8173\n",
      "Epoch 63/100\n",
      "243/243 [==============================] - ETA: 0s - loss: 0.5165 - accuracy: 0.7836WARNING:tensorflow:Can save best model only with val_acc available, skipping.\n",
      "243/243 [==============================] - 107s 441ms/step - loss: 0.5165 - accuracy: 0.7836 - val_loss: 0.4989 - val_accuracy: 0.7981\n",
      "Epoch 64/100\n",
      "243/243 [==============================] - ETA: 0s - loss: 0.5148 - accuracy: 0.7883WARNING:tensorflow:Can save best model only with val_acc available, skipping.\n",
      "243/243 [==============================] - 113s 463ms/step - loss: 0.5148 - accuracy: 0.7883 - val_loss: 0.4939 - val_accuracy: 0.8077\n",
      "Epoch 65/100\n",
      "243/243 [==============================] - ETA: 0s - loss: 0.5107 - accuracy: 0.7837WARNING:tensorflow:Can save best model only with val_acc available, skipping.\n",
      "243/243 [==============================] - 121s 498ms/step - loss: 0.5107 - accuracy: 0.7837 - val_loss: 0.4927 - val_accuracy: 0.8077\n",
      "Epoch 66/100\n",
      "243/243 [==============================] - ETA: 0s - loss: 0.5101 - accuracy: 0.7888WARNING:tensorflow:Can save best model only with val_acc available, skipping.\n",
      "243/243 [==============================] - 111s 454ms/step - loss: 0.5101 - accuracy: 0.7888 - val_loss: 0.4834 - val_accuracy: 0.8205\n",
      "Epoch 67/100\n",
      "243/243 [==============================] - ETA: 0s - loss: 0.5070 - accuracy: 0.7889WARNING:tensorflow:Can save best model only with val_acc available, skipping.\n",
      "243/243 [==============================] - 112s 459ms/step - loss: 0.5070 - accuracy: 0.7889 - val_loss: 0.4982 - val_accuracy: 0.8013\n",
      "Epoch 68/100\n",
      "243/243 [==============================] - ETA: 0s - loss: 0.5067 - accuracy: 0.7886WARNING:tensorflow:Can save best model only with val_acc available, skipping.\n",
      "243/243 [==============================] - 132s 544ms/step - loss: 0.5067 - accuracy: 0.7886 - val_loss: 0.4827 - val_accuracy: 0.8125\n",
      "Epoch 69/100\n",
      "243/243 [==============================] - ETA: 0s - loss: 0.5062 - accuracy: 0.7932WARNING:tensorflow:Can save best model only with val_acc available, skipping.\n",
      "243/243 [==============================] - 112s 461ms/step - loss: 0.5062 - accuracy: 0.7932 - val_loss: 0.4808 - val_accuracy: 0.8125\n",
      "Epoch 70/100\n",
      "243/243 [==============================] - ETA: 0s - loss: 0.5057 - accuracy: 0.7894WARNING:tensorflow:Can save best model only with val_acc available, skipping.\n",
      "243/243 [==============================] - 114s 466ms/step - loss: 0.5057 - accuracy: 0.7894 - val_loss: 0.4854 - val_accuracy: 0.8061\n",
      "Epoch 71/100\n",
      "243/243 [==============================] - ETA: 0s - loss: 0.5040 - accuracy: 0.7923WARNING:tensorflow:Can save best model only with val_acc available, skipping.\n",
      "243/243 [==============================] - 116s 476ms/step - loss: 0.5040 - accuracy: 0.7923 - val_loss: 0.4844 - val_accuracy: 0.8077\n",
      "Epoch 72/100\n",
      "243/243 [==============================] - ETA: 0s - loss: 0.5006 - accuracy: 0.7999WARNING:tensorflow:Can save best model only with val_acc available, skipping.\n",
      "243/243 [==============================] - 114s 469ms/step - loss: 0.5006 - accuracy: 0.7999 - val_loss: 0.4972 - val_accuracy: 0.8029\n",
      "Epoch 73/100\n",
      "243/243 [==============================] - ETA: 0s - loss: 0.4983 - accuracy: 0.7972WARNING:tensorflow:Can save best model only with val_acc available, skipping.\n",
      "243/243 [==============================] - 158s 651ms/step - loss: 0.4983 - accuracy: 0.7972 - val_loss: 0.4698 - val_accuracy: 0.8301\n",
      "Epoch 74/100\n",
      "243/243 [==============================] - ETA: 0s - loss: 0.4979 - accuracy: 0.8004WARNING:tensorflow:Can save best model only with val_acc available, skipping.\n",
      "243/243 [==============================] - 155s 637ms/step - loss: 0.4979 - accuracy: 0.8004 - val_loss: 0.4756 - val_accuracy: 0.8125\n",
      "Epoch 75/100\n",
      "243/243 [==============================] - ETA: 0s - loss: 0.4989 - accuracy: 0.7974WARNING:tensorflow:Can save best model only with val_acc available, skipping.\n",
      "243/243 [==============================] - 152s 626ms/step - loss: 0.4989 - accuracy: 0.7974 - val_loss: 0.4808 - val_accuracy: 0.8077\n",
      "Epoch 76/100\n",
      "243/243 [==============================] - ETA: 0s - loss: 0.4960 - accuracy: 0.7952WARNING:tensorflow:Can save best model only with val_acc available, skipping.\n",
      "243/243 [==============================] - 141s 579ms/step - loss: 0.4960 - accuracy: 0.7952 - val_loss: 0.4764 - val_accuracy: 0.8109\n",
      "Epoch 77/100\n",
      "243/243 [==============================] - ETA: 0s - loss: 0.4974 - accuracy: 0.7968WARNING:tensorflow:Can save best model only with val_acc available, skipping.\n",
      "243/243 [==============================] - 141s 580ms/step - loss: 0.4974 - accuracy: 0.7968 - val_loss: 0.4714 - val_accuracy: 0.8189\n",
      "Epoch 78/100\n",
      "243/243 [==============================] - ETA: 0s - loss: 0.4981 - accuracy: 0.7932WARNING:tensorflow:Can save best model only with val_acc available, skipping.\n",
      "243/243 [==============================] - 124s 508ms/step - loss: 0.4981 - accuracy: 0.7932 - val_loss: 0.4778 - val_accuracy: 0.8109\n",
      "Epoch 79/100\n",
      "243/243 [==============================] - ETA: 0s - loss: 0.4931 - accuracy: 0.7985WARNING:tensorflow:Can save best model only with val_acc available, skipping.\n",
      "243/243 [==============================] - 120s 493ms/step - loss: 0.4931 - accuracy: 0.7985 - val_loss: 0.4744 - val_accuracy: 0.8125\n",
      "Epoch 80/100\n",
      "243/243 [==============================] - ETA: 0s - loss: 0.4936 - accuracy: 0.7973WARNING:tensorflow:Can save best model only with val_acc available, skipping.\n",
      "243/243 [==============================] - 111s 457ms/step - loss: 0.4936 - accuracy: 0.7973 - val_loss: 0.4689 - val_accuracy: 0.8189\n",
      "Epoch 81/100\n",
      "243/243 [==============================] - ETA: 0s - loss: 0.4894 - accuracy: 0.8030WARNING:tensorflow:Can save best model only with val_acc available, skipping.\n",
      "243/243 [==============================] - 109s 448ms/step - loss: 0.4894 - accuracy: 0.8030 - val_loss: 0.4638 - val_accuracy: 0.8237\n",
      "Epoch 82/100\n",
      "243/243 [==============================] - ETA: 0s - loss: 0.4890 - accuracy: 0.7996WARNING:tensorflow:Can save best model only with val_acc available, skipping.\n",
      "243/243 [==============================] - 111s 455ms/step - loss: 0.4890 - accuracy: 0.7996 - val_loss: 0.4674 - val_accuracy: 0.8173\n",
      "Epoch 83/100\n",
      "243/243 [==============================] - ETA: 0s - loss: 0.4884 - accuracy: 0.8005WARNING:tensorflow:Can save best model only with val_acc available, skipping.\n",
      "243/243 [==============================] - 106s 435ms/step - loss: 0.4884 - accuracy: 0.8005 - val_loss: 0.4550 - val_accuracy: 0.8397\n",
      "Epoch 84/100\n",
      "243/243 [==============================] - ETA: 0s - loss: 0.4856 - accuracy: 0.8039WARNING:tensorflow:Can save best model only with val_acc available, skipping.\n",
      "243/243 [==============================] - 108s 443ms/step - loss: 0.4856 - accuracy: 0.8039 - val_loss: 0.4863 - val_accuracy: 0.8045\n",
      "Epoch 85/100\n",
      "243/243 [==============================] - ETA: 0s - loss: 0.4856 - accuracy: 0.8057WARNING:tensorflow:Can save best model only with val_acc available, skipping.\n",
      "243/243 [==============================] - 121s 496ms/step - loss: 0.4856 - accuracy: 0.8057 - val_loss: 0.4595 - val_accuracy: 0.8237\n",
      "Epoch 86/100\n",
      "243/243 [==============================] - ETA: 0s - loss: 0.4859 - accuracy: 0.8059WARNING:tensorflow:Can save best model only with val_acc available, skipping.\n",
      "243/243 [==============================] - 120s 494ms/step - loss: 0.4859 - accuracy: 0.8059 - val_loss: 0.4590 - val_accuracy: 0.8237\n",
      "Epoch 87/100\n",
      "243/243 [==============================] - ETA: 0s - loss: 0.4853 - accuracy: 0.8017WARNING:tensorflow:Can save best model only with val_acc available, skipping.\n",
      "243/243 [==============================] - 120s 495ms/step - loss: 0.4853 - accuracy: 0.8017 - val_loss: 0.4619 - val_accuracy: 0.8253\n",
      "Epoch 88/100\n",
      "243/243 [==============================] - ETA: 0s - loss: 0.4810 - accuracy: 0.8076WARNING:tensorflow:Can save best model only with val_acc available, skipping.\n",
      "243/243 [==============================] - 121s 497ms/step - loss: 0.4810 - accuracy: 0.8076 - val_loss: 0.4696 - val_accuracy: 0.8157\n",
      "Epoch 89/100\n",
      "243/243 [==============================] - ETA: 0s - loss: 0.4816 - accuracy: 0.8063WARNING:tensorflow:Can save best model only with val_acc available, skipping.\n",
      "243/243 [==============================] - 120s 492ms/step - loss: 0.4816 - accuracy: 0.8063 - val_loss: 0.4614 - val_accuracy: 0.8205\n",
      "Epoch 90/100\n",
      "243/243 [==============================] - ETA: 0s - loss: 0.4774 - accuracy: 0.8094WARNING:tensorflow:Can save best model only with val_acc available, skipping.\n",
      "243/243 [==============================] - 120s 494ms/step - loss: 0.4774 - accuracy: 0.8094 - val_loss: 0.4536 - val_accuracy: 0.8237\n",
      "Epoch 91/100\n",
      "243/243 [==============================] - ETA: 0s - loss: 0.4786 - accuracy: 0.8043WARNING:tensorflow:Can save best model only with val_acc available, skipping.\n",
      "243/243 [==============================] - 120s 493ms/step - loss: 0.4786 - accuracy: 0.8043 - val_loss: 0.4605 - val_accuracy: 0.8189\n",
      "Epoch 92/100\n",
      "243/243 [==============================] - ETA: 0s - loss: 0.4802 - accuracy: 0.8061WARNING:tensorflow:Can save best model only with val_acc available, skipping.\n",
      "243/243 [==============================] - 124s 509ms/step - loss: 0.4802 - accuracy: 0.8061 - val_loss: 0.4663 - val_accuracy: 0.8173\n",
      "Epoch 93/100\n",
      "243/243 [==============================] - ETA: 0s - loss: 0.4765 - accuracy: 0.8125WARNING:tensorflow:Can save best model only with val_acc available, skipping.\n",
      "243/243 [==============================] - 119s 490ms/step - loss: 0.4765 - accuracy: 0.8125 - val_loss: 0.4549 - val_accuracy: 0.8301\n",
      "Epoch 94/100\n",
      "243/243 [==============================] - ETA: 0s - loss: 0.4738 - accuracy: 0.8146WARNING:tensorflow:Can save best model only with val_acc available, skipping.\n",
      "243/243 [==============================] - 122s 500ms/step - loss: 0.4738 - accuracy: 0.8146 - val_loss: 0.4631 - val_accuracy: 0.8173\n",
      "Epoch 95/100\n",
      "243/243 [==============================] - ETA: 0s - loss: 0.4750 - accuracy: 0.8115WARNING:tensorflow:Can save best model only with val_acc available, skipping.\n",
      "243/243 [==============================] - 119s 488ms/step - loss: 0.4750 - accuracy: 0.8115 - val_loss: 0.4483 - val_accuracy: 0.8253\n",
      "Epoch 96/100\n",
      "243/243 [==============================] - ETA: 0s - loss: 0.4737 - accuracy: 0.8102WARNING:tensorflow:Can save best model only with val_acc available, skipping.\n",
      "243/243 [==============================] - 120s 492ms/step - loss: 0.4737 - accuracy: 0.8102 - val_loss: 0.4469 - val_accuracy: 0.8269\n",
      "Epoch 97/100\n",
      "243/243 [==============================] - ETA: 0s - loss: 0.4707 - accuracy: 0.8170WARNING:tensorflow:Can save best model only with val_acc available, skipping.\n",
      "243/243 [==============================] - 123s 506ms/step - loss: 0.4707 - accuracy: 0.8170 - val_loss: 0.4716 - val_accuracy: 0.8125\n",
      "Epoch 98/100\n",
      "243/243 [==============================] - ETA: 0s - loss: 0.4704 - accuracy: 0.8138WARNING:tensorflow:Can save best model only with val_acc available, skipping.\n",
      "243/243 [==============================] - 120s 492ms/step - loss: 0.4704 - accuracy: 0.8138 - val_loss: 0.4562 - val_accuracy: 0.8205\n",
      "Epoch 99/100\n",
      "243/243 [==============================] - ETA: 0s - loss: 0.4708 - accuracy: 0.8145WARNING:tensorflow:Can save best model only with val_acc available, skipping.\n",
      "243/243 [==============================] - 123s 504ms/step - loss: 0.4708 - accuracy: 0.8145 - val_loss: 0.4536 - val_accuracy: 0.8205\n",
      "Epoch 100/100\n",
      "243/243 [==============================] - ETA: 0s - loss: 0.4703 - accuracy: 0.8126WARNING:tensorflow:Can save best model only with val_acc available, skipping.\n",
      "243/243 [==============================] - 119s 489ms/step - loss: 0.4703 - accuracy: 0.8126 - val_loss: 0.4482 - val_accuracy: 0.8269\n"
     ]
    }
   ],
   "source": [
    "r = model.fit(training_set,validation_data=test_set,epochs=100,steps_per_epoch=len(training_set),validation_steps=len(test_set), callbacks=[check_point])"
   ]
  },
  {
   "cell_type": "code",
   "execution_count": 58,
   "metadata": {},
   "outputs": [],
   "source": [
    "model.save(\"cifar10.h5\")"
   ]
  },
  {
   "cell_type": "code",
   "execution_count": 59,
   "metadata": {},
   "outputs": [
    {
     "data": {
      "image/png": "[encoded data removed]",
      "text/plain": [
       "<Figure size 432x288 with 1 Axes>"
      ]
     },
     "metadata": {
      "needs_background": "light"
     },
     "output_type": "display_data"
    },
    {
     "data": {
      "image/png": "[encoded data removed]",
      "text/plain": [
       "<Figure size 432x288 with 1 Axes>"
      ]
     },
     "metadata": {
      "needs_background": "light"
     },
     "output_type": "display_data"
    },
    {
     "data": {
      "text/plain": [
       "<Figure size 432x288 with 0 Axes>"
      ]
     },
     "metadata": {},
     "output_type": "display_data"
    }
   ],
   "source": [
    "plt.plot(r.history['loss'], label='train loss')\n",
    "plt.plot(r.history['val_loss'], label='val loss')\n",
    "plt.legend()\n",
    "plt.show()\n",
    "plt.savefig('LossVal_loss')\n",
    "\n",
    "# plot the accuracy\n",
    "plt.plot(r.history['accuracy'], label='train acc')\n",
    "plt.plot(r.history['val_accuracy'], label='val acc')\n",
    "plt.legend()\n",
    "plt.show()\n",
    "plt.savefig('AccVal_acc')\n",
    "\n",
    "acc = r.history['accuracy']\n",
    "val_acc = r.history['val_accuracy']\n",
    "\n",
    "loss = r.history['loss']\n",
    "val_loss = r.history['val_loss']"
   ]
  },
  {
   "cell_type": "code",
   "execution_count": null,
   "metadata": {},
   "outputs": [],
   "source": []
  }
 ],
 "metadata": {
  "kernelspec": {
   "display_name": "Python 3.10.0 64-bit",
   "language": "python",
   "name": "python3"
  },
  "language_info": {
   "codemirror_mode": {
    "name": "ipython",
    "version": 3
   },
   "file_extension": ".py",
   "mimetype": "text/x-python",
   "name": "python",
   "nbconvert_exporter": "python",
   "pygments_lexer": "ipython3",
   "version": "3.10.0"
  },
  "orig_nbformat": 4,
  "vscode": {
   "interpreter": {
    "hash": "369f2c481f4da34e4445cda3fffd2e751bd1c4d706f27375911949ba6bb62e1c"
   }
  }
 },
 "nbformat": 4,
 "nbformat_minor": 2
}
