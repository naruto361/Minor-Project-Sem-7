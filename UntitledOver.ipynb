{
 "cells": [
  {
   "cell_type": "code",
   "execution_count": 1,
   "id": "5e08256b",
   "metadata": {},
   "outputs": [
    {
     "name": "stdout",
     "output_type": "stream",
     "text": [
      "Number of GPUS :  1\n"
     ]
    },
    {
     "data": {
      "text/plain": [
       "True"
      ]
     },
     "execution_count": 1,
     "metadata": {},
     "output_type": "execute_result"
    }
   ],
   "source": [
    "import tensorflow as tf\n",
    "from tensorflow import keras\n",
    "print(\"Number of GPUS : \", len(tf.config.experimental.list_physical_devices('GPU')))\n",
    "tf.test.is_built_with_cuda()"
   ]
  },
  {
   "cell_type": "code",
   "execution_count": 2,
   "id": "471ac85c",
   "metadata": {},
   "outputs": [],
   "source": [
    "from keras.layers import Input, Lambda, Dense, Flatten\n",
    "from keras.models import Model\n",
    "\n",
    "from keras.applications.vgg16 import VGG16\n",
    "from keras.applications.vgg16 import preprocess_input\n",
    "from keras.preprocessing import image\n",
    "from keras.preprocessing.image import ImageDataGenerator\n",
    "from keras.models import Sequential\n",
    "import numpy as np\n",
    "from glob import glob\n",
    "import matplotlib.pyplot as plt\n",
    "from imblearn.under_sampling import RandomUnderSampler\n",
    "from PIL import Image\n",
    "from tqdm import tqdm"
   ]
  },
  {
   "cell_type": "code",
   "execution_count": 3,
   "id": "b5e849c6",
   "metadata": {},
   "outputs": [],
   "source": [
    "import glob\n",
    "import cv2"
   ]
  },
  {
   "cell_type": "code",
   "execution_count": 4,
   "id": "6a4fac9a",
   "metadata": {},
   "outputs": [],
   "source": [
    "def fun(var):\n",
    "    var = var[16:]\n",
    "    var = var.split(\" \")\n",
    "    var[1] = var[1][:1]\n",
    "    var[0] = int(var[0])\n",
    "    var[1] = int(var[1])\n",
    "    return var[1]"
   ]
  },
  {
   "cell_type": "code",
   "execution_count": 6,
   "id": "5bfebc30",
   "metadata": {},
   "outputs": [
    {
     "name": "stderr",
     "output_type": "stream",
     "text": [
      "0it [00:00, ?it/s]"
     ]
    },
    {
     "name": "stdout",
     "output_type": "stream",
     "text": [
      "trainingdata\\normal\n"
     ]
    },
    {
     "name": "stderr",
     "output_type": "stream",
     "text": [
      "\n"
     ]
    }
   ],
   "source": [
    "\n",
    "x_train = []\n",
    "y_train = []\n",
    "x_test = []\n",
    "y_test = []\n",
    "# val=[]\n",
    "\n",
    "\n",
    "for images in tqdm(glob.iglob(f'trainingdata/*')):\n",
    "    print(images)\n",
    "    break\n",
    "    label = fun(images)\n",
    "    x_train.append(cv2.imread(images, 0))\n",
    "    y_train.append(label)"
   ]
  },
  {
   "cell_type": "code",
   "execution_count": 7,
   "id": "564e4c66",
   "metadata": {},
   "outputs": [
    {
     "ename": "IndexError",
     "evalue": "list index out of range",
     "output_type": "error",
     "traceback": [
      "\u001b[1;31m---------------------------------------------------------------------------\u001b[0m",
      "\u001b[1;31mIndexError\u001b[0m                                Traceback (most recent call last)",
      "\u001b[1;32m~\\AppData\\Local\\Temp/ipykernel_12344/1687832402.py\u001b[0m in \u001b[0;36m<module>\u001b[1;34m\u001b[0m\n\u001b[1;32m----> 1\u001b[1;33m \u001b[0mprint\u001b[0m\u001b[1;33m(\u001b[0m\u001b[0mplt\u001b[0m\u001b[1;33m.\u001b[0m\u001b[0mimshow\u001b[0m\u001b[1;33m(\u001b[0m\u001b[0mx_train\u001b[0m\u001b[1;33m[\u001b[0m\u001b[1;36m0\u001b[0m\u001b[1;33m]\u001b[0m\u001b[1;33m)\u001b[0m\u001b[1;33m)\u001b[0m\u001b[1;33m\u001b[0m\u001b[1;33m\u001b[0m\u001b[0m\n\u001b[0m",
      "\u001b[1;31mIndexError\u001b[0m: list index out of range"
     ]
    }
   ],
   "source": [
    "print(plt.imshow(x_train[0]))"
   ]
  },
  {
   "cell_type": "code",
   "execution_count": 5,
   "id": "e2f4ae44",
   "metadata": {},
   "outputs": [],
   "source": [
    "vgg = VGG16(input_shape=[224, 224] + [3], weights='imagenet', include_top=False)"
   ]
  },
  {
   "cell_type": "code",
   "execution_count": 6,
   "id": "78fbfa52",
   "metadata": {},
   "outputs": [],
   "source": [
    "for layer in vgg.layers:\n",
    "    layer.trainable = False"
   ]
  },
  {
   "cell_type": "code",
   "execution_count": 7,
   "id": "5b9aaa7f",
   "metadata": {},
   "outputs": [],
   "source": [
    "x = Flatten()(vgg.output)"
   ]
  },
  {
   "cell_type": "code",
   "execution_count": 8,
   "id": "7c112efd",
   "metadata": {},
   "outputs": [],
   "source": [
    "folders = glob.glob('over/*')"
   ]
  },
  {
   "cell_type": "code",
   "execution_count": 9,
   "id": "18c937c9",
   "metadata": {},
   "outputs": [
    {
     "name": "stdout",
     "output_type": "stream",
     "text": [
      "2\n"
     ]
    }
   ],
   "source": [
    "print(len(folders))"
   ]
  },
  {
   "cell_type": "code",
   "execution_count": 10,
   "id": "4f726af0",
   "metadata": {},
   "outputs": [],
   "source": [
    "prediction = Dense(len(folders), activation='softmax')(x)\n",
    "\n",
    "model = Model(inputs=vgg.input, outputs=prediction)"
   ]
  },
  {
   "cell_type": "code",
   "execution_count": 11,
   "id": "9e7e7b7b",
   "metadata": {},
   "outputs": [
    {
     "name": "stdout",
     "output_type": "stream",
     "text": [
      "Model: \"model\"\n",
      "_________________________________________________________________\n",
      "Layer (type)                 Output Shape              Param #   \n",
      "=================================================================\n",
      "input_1 (InputLayer)         [(None, 224, 224, 3)]     0         \n",
      "_________________________________________________________________\n",
      "block1_conv1 (Conv2D)        (None, 224, 224, 64)      1792      \n",
      "_________________________________________________________________\n",
      "block1_conv2 (Conv2D)        (None, 224, 224, 64)      36928     \n",
      "_________________________________________________________________\n",
      "block1_pool (MaxPooling2D)   (None, 112, 112, 64)      0         \n",
      "_________________________________________________________________\n",
      "block2_conv1 (Conv2D)        (None, 112, 112, 128)     73856     \n",
      "_________________________________________________________________\n",
      "block2_conv2 (Conv2D)        (None, 112, 112, 128)     147584    \n",
      "_________________________________________________________________\n",
      "block2_pool (MaxPooling2D)   (None, 56, 56, 128)       0         \n",
      "_________________________________________________________________\n",
      "block3_conv1 (Conv2D)        (None, 56, 56, 256)       295168    \n",
      "_________________________________________________________________\n",
      "block3_conv2 (Conv2D)        (None, 56, 56, 256)       590080    \n",
      "_________________________________________________________________\n",
      "block3_conv3 (Conv2D)        (None, 56, 56, 256)       590080    \n",
      "_________________________________________________________________\n",
      "block3_pool (MaxPooling2D)   (None, 28, 28, 256)       0         \n",
      "_________________________________________________________________\n",
      "block4_conv1 (Conv2D)        (None, 28, 28, 512)       1180160   \n",
      "_________________________________________________________________\n",
      "block4_conv2 (Conv2D)        (None, 28, 28, 512)       2359808   \n",
      "_________________________________________________________________\n",
      "block4_conv3 (Conv2D)        (None, 28, 28, 512)       2359808   \n",
      "_________________________________________________________________\n",
      "block4_pool (MaxPooling2D)   (None, 14, 14, 512)       0         \n",
      "_________________________________________________________________\n",
      "block5_conv1 (Conv2D)        (None, 14, 14, 512)       2359808   \n",
      "_________________________________________________________________\n",
      "block5_conv2 (Conv2D)        (None, 14, 14, 512)       2359808   \n",
      "_________________________________________________________________\n",
      "block5_conv3 (Conv2D)        (None, 14, 14, 512)       2359808   \n",
      "_________________________________________________________________\n",
      "block5_pool (MaxPooling2D)   (None, 7, 7, 512)         0         \n",
      "_________________________________________________________________\n",
      "flatten (Flatten)            (None, 25088)             0         \n",
      "_________________________________________________________________\n",
      "dense (Dense)                (None, 2)                 50178     \n",
      "=================================================================\n",
      "Total params: 14,764,866\n",
      "Trainable params: 50,178\n",
      "Non-trainable params: 14,714,688\n",
      "_________________________________________________________________\n"
     ]
    }
   ],
   "source": [
    "model.summary()"
   ]
  },
  {
   "cell_type": "code",
   "execution_count": 12,
   "id": "3b83e260",
   "metadata": {},
   "outputs": [
    {
     "name": "stderr",
     "output_type": "stream",
     "text": [
      "C:\\Users\\Lenovo\\anaconda3\\envs\\env_2\\lib\\site-packages\\keras\\optimizer_v2\\optimizer_v2.py:355: UserWarning: The `lr` argument is deprecated, use `learning_rate` instead.\n",
      "  warnings.warn(\n"
     ]
    }
   ],
   "source": [
    "optimizer = keras.optimizers.Adam(lr=0.000001)"
   ]
  },
  {
   "cell_type": "code",
   "execution_count": 13,
   "id": "4baa0526",
   "metadata": {},
   "outputs": [],
   "source": [
    "model.compile(\n",
    "  loss='categorical_crossentropy',\n",
    "  optimizer=optimizer,\n",
    "  metrics=['accuracy']\n",
    ")"
   ]
  },
  {
   "cell_type": "code",
   "execution_count": 14,
   "id": "85577d74",
   "metadata": {},
   "outputs": [],
   "source": [
    "from keras.preprocessing.image import ImageDataGenerator\n",
    "\n",
    "train_datagen = ImageDataGenerator(rescale = 1./255,\n",
    "                                   shear_range = 0.2,\n",
    "                                   zoom_range = 0.2,\n",
    "                                   horizontal_flip = True)\n",
    "\n",
    "test_datagen = ImageDataGenerator(rescale = 1./255)"
   ]
  },
  {
   "cell_type": "code",
   "execution_count": 15,
   "id": "7071fe15",
   "metadata": {},
   "outputs": [],
   "source": [
    "train_path = 'over'\n",
    "test_path = 'chest_xray/test'"
   ]
  },
  {
   "cell_type": "code",
   "execution_count": 16,
   "id": "ec0bfb69",
   "metadata": {},
   "outputs": [
    {
     "name": "stdout",
     "output_type": "stream",
     "text": [
      "Found 7750 images belonging to 2 classes.\n"
     ]
    }
   ],
   "source": [
    "training_set = train_datagen.flow_from_directory(train_path,\n",
    "                                                 target_size = (224, 224),\n",
    "                                                 batch_size = 32,\n",
    "                                                 class_mode = 'categorical')"
   ]
  },
  {
   "cell_type": "code",
   "execution_count": 17,
   "id": "02a4d5c9",
   "metadata": {},
   "outputs": [
    {
     "data": {
      "text/plain": [
       "{'normal': 0, 'pneumonia': 1}"
      ]
     },
     "execution_count": 17,
     "metadata": {},
     "output_type": "execute_result"
    }
   ],
   "source": [
    "training_set.class_indices"
   ]
  },
  {
   "cell_type": "code",
   "execution_count": 18,
   "id": "5736a654",
   "metadata": {},
   "outputs": [
    {
     "name": "stdout",
     "output_type": "stream",
     "text": [
      "Found 624 images belonging to 2 classes.\n"
     ]
    }
   ],
   "source": [
    "test_set = test_datagen.flow_from_directory(test_path,\n",
    "                                            target_size = (224, 224),\n",
    "                                            batch_size = 32,\n",
    "                                            class_mode = 'categorical')"
   ]
  },
  {
   "cell_type": "code",
   "execution_count": 19,
   "id": "5dc20f74",
   "metadata": {},
   "outputs": [
    {
     "name": "stdout",
     "output_type": "stream",
     "text": [
      "Epoch 1/30\n",
      "243/243 [==============================] - 109s 405ms/step - loss: 0.6682 - accuracy: 0.5725 - val_loss: 0.6806 - val_accuracy: 0.5545\n",
      "Epoch 2/30\n",
      "243/243 [==============================] - 73s 300ms/step - loss: 0.6105 - accuracy: 0.7294 - val_loss: 0.6508 - val_accuracy: 0.6538\n",
      "Epoch 3/30\n",
      "243/243 [==============================] - 75s 306ms/step - loss: 0.5625 - accuracy: 0.8141 - val_loss: 0.6169 - val_accuracy: 0.7388\n",
      "Epoch 4/30\n",
      "243/243 [==============================] - 74s 305ms/step - loss: 0.5230 - accuracy: 0.8480 - val_loss: 0.5801 - val_accuracy: 0.7804\n",
      "Epoch 5/30\n",
      "243/243 [==============================] - 74s 302ms/step - loss: 0.4896 - accuracy: 0.8732 - val_loss: 0.5501 - val_accuracy: 0.8221\n",
      "Epoch 6/30\n",
      "243/243 [==============================] - 74s 303ms/step - loss: 0.4575 - accuracy: 0.8866 - val_loss: 0.5290 - val_accuracy: 0.8317\n",
      "Epoch 7/30\n",
      "243/243 [==============================] - 74s 303ms/step - loss: 0.4326 - accuracy: 0.8935 - val_loss: 0.5105 - val_accuracy: 0.8381\n",
      "Epoch 8/30\n",
      "243/243 [==============================] - 74s 304ms/step - loss: 0.4106 - accuracy: 0.8924 - val_loss: 0.4890 - val_accuracy: 0.8413\n",
      "Epoch 9/30\n",
      "243/243 [==============================] - 75s 309ms/step - loss: 0.3899 - accuracy: 0.9037 - val_loss: 0.4708 - val_accuracy: 0.8478\n",
      "Epoch 10/30\n",
      "243/243 [==============================] - 74s 304ms/step - loss: 0.3710 - accuracy: 0.9014 - val_loss: 0.4574 - val_accuracy: 0.8510\n",
      "Epoch 11/30\n",
      "243/243 [==============================] - 74s 304ms/step - loss: 0.3550 - accuracy: 0.9068 - val_loss: 0.4452 - val_accuracy: 0.8558\n",
      "Epoch 12/30\n",
      "243/243 [==============================] - 75s 308ms/step - loss: 0.3411 - accuracy: 0.9110 - val_loss: 0.4288 - val_accuracy: 0.8510\n",
      "Epoch 13/30\n",
      "243/243 [==============================] - 74s 304ms/step - loss: 0.3294 - accuracy: 0.9146 - val_loss: 0.4183 - val_accuracy: 0.8542\n",
      "Epoch 14/30\n",
      "243/243 [==============================] - 74s 303ms/step - loss: 0.3132 - accuracy: 0.9181 - val_loss: 0.4092 - val_accuracy: 0.8558\n",
      "Epoch 15/30\n",
      "243/243 [==============================] - 73s 302ms/step - loss: 0.3056 - accuracy: 0.9177 - val_loss: 0.3985 - val_accuracy: 0.8606\n",
      "Epoch 16/30\n",
      "243/243 [==============================] - 73s 301ms/step - loss: 0.2943 - accuracy: 0.9201 - val_loss: 0.3887 - val_accuracy: 0.8670\n",
      "Epoch 17/30\n",
      "243/243 [==============================] - 74s 304ms/step - loss: 0.2863 - accuracy: 0.9217 - val_loss: 0.3843 - val_accuracy: 0.8622\n",
      "Epoch 18/30\n",
      "243/243 [==============================] - 74s 303ms/step - loss: 0.2799 - accuracy: 0.9203 - val_loss: 0.3741 - val_accuracy: 0.8686\n",
      "Epoch 19/30\n",
      "243/243 [==============================] - 74s 305ms/step - loss: 0.2731 - accuracy: 0.9199 - val_loss: 0.3662 - val_accuracy: 0.8686\n",
      "Epoch 20/30\n",
      "243/243 [==============================] - 74s 302ms/step - loss: 0.2685 - accuracy: 0.9199 - val_loss: 0.3625 - val_accuracy: 0.8670\n",
      "Epoch 21/30\n",
      "243/243 [==============================] - 75s 307ms/step - loss: 0.2606 - accuracy: 0.9200 - val_loss: 0.3568 - val_accuracy: 0.8670\n",
      "Epoch 22/30\n",
      "243/243 [==============================] - 74s 302ms/step - loss: 0.2538 - accuracy: 0.9272 - val_loss: 0.3491 - val_accuracy: 0.8670\n",
      "Epoch 23/30\n",
      "243/243 [==============================] - 74s 304ms/step - loss: 0.2477 - accuracy: 0.9249 - val_loss: 0.3438 - val_accuracy: 0.8686\n",
      "Epoch 24/30\n",
      "243/243 [==============================] - 74s 302ms/step - loss: 0.2459 - accuracy: 0.9249 - val_loss: 0.3409 - val_accuracy: 0.8654\n",
      "Epoch 25/30\n",
      "243/243 [==============================] - 74s 304ms/step - loss: 0.2401 - accuracy: 0.9249 - val_loss: 0.3351 - val_accuracy: 0.8686\n",
      "Epoch 26/30\n",
      "243/243 [==============================] - 74s 303ms/step - loss: 0.2355 - accuracy: 0.9298 - val_loss: 0.3321 - val_accuracy: 0.8702\n",
      "Epoch 27/30\n",
      "243/243 [==============================] - 75s 307ms/step - loss: 0.2340 - accuracy: 0.9270 - val_loss: 0.3280 - val_accuracy: 0.8718\n",
      "Epoch 28/30\n",
      "243/243 [==============================] - 76s 310ms/step - loss: 0.2284 - accuracy: 0.9295 - val_loss: 0.3243 - val_accuracy: 0.8718\n",
      "Epoch 29/30\n",
      "243/243 [==============================] - 74s 303ms/step - loss: 0.2244 - accuracy: 0.9307 - val_loss: 0.3214 - val_accuracy: 0.8734\n",
      "Epoch 30/30\n",
      "243/243 [==============================] - 75s 306ms/step - loss: 0.2205 - accuracy: 0.9303 - val_loss: 0.3175 - val_accuracy: 0.8734\n"
     ]
    }
   ],
   "source": [
    "r = model.fit(training_set,validation_data=test_set,epochs=30,steps_per_epoch=len(training_set),validation_steps=len(test_set))"
   ]
  },
  {
   "cell_type": "code",
   "execution_count": 20,
   "id": "5694f1a3",
   "metadata": {},
   "outputs": [
    {
     "data": {
      "image/png": "[encoded data removed]",
      "text/plain": [
       "<Figure size 432x288 with 1 Axes>"
      ]
     },
     "metadata": {
      "needs_background": "light"
     },
     "output_type": "display_data"
    },
    {
     "data": {
      "image/png": "[encoded data removed]",
      "text/plain": [
       "<Figure size 432x288 with 1 Axes>"
      ]
     },
     "metadata": {
      "needs_background": "light"
     },
     "output_type": "display_data"
    },
    {
     "data": {
      "text/plain": [
       "<Figure size 432x288 with 0 Axes>"
      ]
     },
     "metadata": {},
     "output_type": "display_data"
    }
   ],
   "source": [
    "plt.plot(r.history['loss'], label='train loss')\n",
    "plt.plot(r.history['val_loss'], label='val loss')\n",
    "plt.legend()\n",
    "plt.show()\n",
    "plt.savefig('LossVal_loss')\n",
    "\n",
    "# plot the accuracy\n",
    "plt.plot(r.history['accuracy'], label='train acc')\n",
    "plt.plot(r.history['val_accuracy'], label='val acc')\n",
    "plt.legend()\n",
    "plt.show()\n",
    "plt.savefig('AccVal_acc')\n",
    "\n",
    "acc = r.history['accuracy']\n",
    "val_acc = r.history['val_accuracy']\n",
    "\n",
    "loss = r.history['loss']\n",
    "val_loss = r.history['val_loss']"
   ]
  },
  {
   "cell_type": "code",
   "execution_count": null,
   "id": "5bcfd7e0",
   "metadata": {},
   "outputs": [],
   "source": []
  }
 ],
 "metadata": {
  "kernelspec": {
   "display_name": "Python 3 (ipykernel)",
   "language": "python",
   "name": "python3"
  },
  "language_info": {
   "codemirror_mode": {
    "name": "ipython",
    "version": 3
   },
   "file_extension": ".py",
   "mimetype": "text/x-python",
   "name": "python",
   "nbconvert_exporter": "python",
   "pygments_lexer": "ipython3",
   "version": "3.9.7"
  }
 },
 "nbformat": 4,
 "nbformat_minor": 5
}
